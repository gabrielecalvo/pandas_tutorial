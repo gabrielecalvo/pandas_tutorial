{
 "cells": [
  {
   "cell_type": "markdown",
   "metadata": {},
   "source": [
    "# Pandas tutorial\n",
    "\n",
    "## Sillabus\n",
    "1. Introduction\n",
    "    - Library version\n",
    "    - Data Used\n",
    "    - Useful links: \n",
    "        - Installation\n",
    "        - Basic Python\n",
    "        - Basic Jupyter Notebook\n",
    "        - Pandas Cheatsheet\n",
    "1. Reading/Creating data\n",
    "    - read_..\n",
    "    - using additional options\n",
    "    - pd.DataFrame constructors\n",
    "1. Exploring data\n",
    "    - first/last/random rows\n",
    "    - shape, describe, dtypes\n",
    "    - columns, index\n",
    "    - value_counts(normalize)\n",
    "    - unique\n",
    "1. Subsetting data\n",
    "    - Bracket/Dot notation (& slicing)\n",
    "    - loc, iloc\n",
    "    - filter by column value\n",
    "    - multiple filters\n",
    "1. Data Aggregation\n",
    "    - groupby (+ agg)\n",
    "    - pivot_table\n",
    "1. Data Plotting\n",
    "    - plot types\n",
    "    - main options\n",
    "1. Data Manipulation\n",
    "    - renaming columns\n",
    "    - adding column, index\n",
    "    - remove column, index\n",
    "    - sorting by index, values, multiple-values\n",
    "    - parsing: astype, pd.to_datetime\n",
    "    - remove duplicate\n",
    "    - apply, map, applymap\n",
    "    - transposing\n",
    "1. Data Combination\n",
    "    - concat\n",
    "    - merge\n",
    "1. Handling Missing Data\n",
    "    - isna, notna (+ sum, mean)\n",
    "    - dropna (any, all)\n",
    "    - fillna\n",
    "1. Other\n",
    "    - iterrows\n",
    "    - .str .dt methods\n",
    "    - get_dummies (+prefix)\n",
    "    - pd.set/reset_option (search from pd.describe_option())\n",
    "    - MultiIndex"
   ]
  },
  {
   "cell_type": "markdown",
   "metadata": {},
   "source": [
    "## Library version\n",
    "The library version used for this tutorial (and it's dependencies) are the followings"
   ]
  },
  {
   "cell_type": "code",
   "execution_count": 3,
   "metadata": {
    "collapsed": true,
    "jupyter": {
     "outputs_hidden": true
    }
   },
   "outputs": [
    {
     "name": "stdout",
     "output_type": "stream",
     "text": [
      "\n",
      "INSTALLED VERSIONS\n",
      "------------------\n",
      "commit: None\n",
      "python: 3.7.3.final.0\n",
      "python-bits: 64\n",
      "OS: Windows\n",
      "OS-release: 10\n",
      "machine: AMD64\n",
      "processor: Intel64 Family 6 Model 58 Stepping 9, GenuineIntel\n",
      "byteorder: little\n",
      "LC_ALL: None\n",
      "LANG: None\n",
      "LOCALE: None.None\n",
      "\n",
      "pandas: 0.24.2\n",
      "pytest: 5.0.1\n",
      "pip: 19.1.1\n",
      "setuptools: 41.0.1\n",
      "Cython: 0.29.12\n",
      "numpy: 1.16.4\n",
      "scipy: 1.3.1\n",
      "pyarrow: None\n",
      "xarray: 0.12.3\n",
      "IPython: 7.6.1\n",
      "sphinx: 2.1.2\n",
      "patsy: 0.5.1\n",
      "dateutil: 2.8.0\n",
      "pytz: 2019.1\n",
      "blosc: None\n",
      "bottleneck: 1.2.1\n",
      "tables: 3.5.2\n",
      "numexpr: 2.6.9\n",
      "feather: None\n",
      "matplotlib: 3.1.2\n",
      "openpyxl: 2.6.2\n",
      "xlrd: 1.2.0\n",
      "xlwt: 1.3.0\n",
      "xlsxwriter: 1.1.8\n",
      "lxml.etree: 4.3.4\n",
      "bs4: 4.7.1\n",
      "html5lib: 1.0.1\n",
      "sqlalchemy: 1.3.5\n",
      "pymysql: None\n",
      "psycopg2: None\n",
      "jinja2: 2.10.1\n",
      "s3fs: None\n",
      "fastparquet: None\n",
      "pandas_gbq: None\n",
      "pandas_datareader: None\n",
      "gcsfs: None\n"
     ]
    }
   ],
   "source": [
    "import pandas as pd\n",
    "pd.show_versions()"
   ]
  },
  {
   "cell_type": "markdown",
   "metadata": {},
   "source": [
    "## Data Used\n",
    "The data used has been sourced from the following:\n",
    "- https://www.kaggle.com/zynicide/wine-reviews\n",
    "- https://www.kaggle.com/unsdsn/world-happiness\n",
    "\n",
    "in some cases it has been modified for size/training purposes"
   ]
  },
  {
   "cell_type": "markdown",
   "metadata": {},
   "source": [
    "## Useful Links\n",
    "### [Installation](https://pandas.pydata.org/pandas-docs/stable/install.html): Official Pandas Installation Guide\n",
    "### [Basic Python](https://www.kaggle.com/learn/python): Free Python introductory course with tutorial and exercises\n",
    "### [Basic Jupyter Notebook](https://dzone.com/articles/getting-started-with-jupyterlab): Introductory tutorial on the use of Jupyter Lab\n",
    "### [Pandas cheatsheet](https://pandas.pydata.org/Pandas_Cheat_Sheet.pdf): Very useful reference guide to the main features of pandas"
   ]
  },
  {
   "cell_type": "code",
   "execution_count": null,
   "metadata": {},
   "outputs": [],
   "source": []
  }
 ],
 "metadata": {
  "kernelspec": {
   "display_name": "Python 3",
   "language": "python",
   "name": "python3"
  },
  "language_info": {
   "codemirror_mode": {
    "name": "ipython",
    "version": 3
   },
   "file_extension": ".py",
   "mimetype": "text/x-python",
   "name": "python",
   "nbconvert_exporter": "python",
   "pygments_lexer": "ipython3",
   "version": "3.7.3"
  }
 },
 "nbformat": 4,
 "nbformat_minor": 4
}
