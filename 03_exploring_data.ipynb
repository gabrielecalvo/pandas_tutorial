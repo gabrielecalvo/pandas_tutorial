{
 "cells": [
  {
   "cell_type": "code",
   "execution_count": 1,
   "metadata": {},
   "outputs": [],
   "source": [
    "import pandas as pd\n",
    "\n",
    "df = pd.read_csv('data/wine-reviews/winemag-data-130k-v2.csv', index_col='wine_id')"
   ]
  },
  {
   "cell_type": "markdown",
   "metadata": {},
   "source": [
    "# DataFrame exploration"
   ]
  },
  {
   "cell_type": "markdown",
   "metadata": {},
   "source": [
    "### checking the data type of the variable df"
   ]
  },
  {
   "cell_type": "code",
   "execution_count": 2,
   "metadata": {},
   "outputs": [
    {
     "data": {
      "text/plain": [
       "pandas.core.frame.DataFrame"
      ]
     },
     "execution_count": 2,
     "metadata": {},
     "output_type": "execute_result"
    }
   ],
   "source": [
    "type(df)"
   ]
  },
  {
   "cell_type": "markdown",
   "metadata": {},
   "source": [
    "### getting the first 3 rows"
   ]
  },
  {
   "cell_type": "code",
   "execution_count": 3,
   "metadata": {},
   "outputs": [
    {
     "data": {
      "text/html": [
       "<div>\n",
       "<style scoped>\n",
       "    .dataframe tbody tr th:only-of-type {\n",
       "        vertical-align: middle;\n",
       "    }\n",
       "\n",
       "    .dataframe tbody tr th {\n",
       "        vertical-align: top;\n",
       "    }\n",
       "\n",
       "    .dataframe thead th {\n",
       "        text-align: right;\n",
       "    }\n",
       "</style>\n",
       "<table border=\"1\" class=\"dataframe\">\n",
       "  <thead>\n",
       "    <tr style=\"text-align: right;\">\n",
       "      <th></th>\n",
       "      <th>country</th>\n",
       "      <th>description</th>\n",
       "      <th>designation</th>\n",
       "      <th>points</th>\n",
       "      <th>price</th>\n",
       "      <th>province</th>\n",
       "      <th>region_1</th>\n",
       "      <th>region_2</th>\n",
       "      <th>taster_name</th>\n",
       "      <th>taster_twitter_handle</th>\n",
       "      <th>title</th>\n",
       "      <th>variety</th>\n",
       "      <th>winery</th>\n",
       "    </tr>\n",
       "    <tr>\n",
       "      <th>wine_id</th>\n",
       "      <th></th>\n",
       "      <th></th>\n",
       "      <th></th>\n",
       "      <th></th>\n",
       "      <th></th>\n",
       "      <th></th>\n",
       "      <th></th>\n",
       "      <th></th>\n",
       "      <th></th>\n",
       "      <th></th>\n",
       "      <th></th>\n",
       "      <th></th>\n",
       "      <th></th>\n",
       "    </tr>\n",
       "  </thead>\n",
       "  <tbody>\n",
       "    <tr>\n",
       "      <th>0</th>\n",
       "      <td>Italy</td>\n",
       "      <td>Aromas include tropical fruit, broom, brimston...</td>\n",
       "      <td>Vulkà Bianco</td>\n",
       "      <td>87</td>\n",
       "      <td>NaN</td>\n",
       "      <td>Sicily &amp; Sardinia</td>\n",
       "      <td>Etna</td>\n",
       "      <td>NaN</td>\n",
       "      <td>Kerin O’Keefe</td>\n",
       "      <td>@kerinokeefe</td>\n",
       "      <td>Nicosia 2013 Vulkà Bianco  (Etna)</td>\n",
       "      <td>White Blend</td>\n",
       "      <td>Nicosia</td>\n",
       "    </tr>\n",
       "    <tr>\n",
       "      <th>1</th>\n",
       "      <td>Portugal</td>\n",
       "      <td>This is ripe and fruity, a wine that is smooth...</td>\n",
       "      <td>Avidagos</td>\n",
       "      <td>87</td>\n",
       "      <td>15.0</td>\n",
       "      <td>Douro</td>\n",
       "      <td>NaN</td>\n",
       "      <td>NaN</td>\n",
       "      <td>Roger Voss</td>\n",
       "      <td>@vossroger</td>\n",
       "      <td>Quinta dos Avidagos 2011 Avidagos Red (Douro)</td>\n",
       "      <td>Portuguese Red</td>\n",
       "      <td>Quinta dos Avidagos</td>\n",
       "    </tr>\n",
       "    <tr>\n",
       "      <th>2</th>\n",
       "      <td>US</td>\n",
       "      <td>Tart and snappy, the flavors of lime flesh and...</td>\n",
       "      <td>NaN</td>\n",
       "      <td>87</td>\n",
       "      <td>14.0</td>\n",
       "      <td>Oregon</td>\n",
       "      <td>Willamette Valley</td>\n",
       "      <td>Willamette Valley</td>\n",
       "      <td>Paul Gregutt</td>\n",
       "      <td>@paulgwine</td>\n",
       "      <td>Rainstorm 2013 Pinot Gris (Willamette Valley)</td>\n",
       "      <td>Pinot Gris</td>\n",
       "      <td>Rainstorm</td>\n",
       "    </tr>\n",
       "  </tbody>\n",
       "</table>\n",
       "</div>"
      ],
      "text/plain": [
       "          country                                        description  \\\n",
       "wine_id                                                                \n",
       "0           Italy  Aromas include tropical fruit, broom, brimston...   \n",
       "1        Portugal  This is ripe and fruity, a wine that is smooth...   \n",
       "2              US  Tart and snappy, the flavors of lime flesh and...   \n",
       "\n",
       "          designation  points  price           province           region_1  \\\n",
       "wine_id                                                                      \n",
       "0        Vulkà Bianco      87    NaN  Sicily & Sardinia               Etna   \n",
       "1            Avidagos      87   15.0              Douro                NaN   \n",
       "2                 NaN      87   14.0             Oregon  Willamette Valley   \n",
       "\n",
       "                  region_2    taster_name taster_twitter_handle  \\\n",
       "wine_id                                                           \n",
       "0                      NaN  Kerin O’Keefe          @kerinokeefe   \n",
       "1                      NaN     Roger Voss            @vossroger   \n",
       "2        Willamette Valley   Paul Gregutt           @paulgwine    \n",
       "\n",
       "                                                 title         variety  \\\n",
       "wine_id                                                                  \n",
       "0                    Nicosia 2013 Vulkà Bianco  (Etna)     White Blend   \n",
       "1        Quinta dos Avidagos 2011 Avidagos Red (Douro)  Portuguese Red   \n",
       "2        Rainstorm 2013 Pinot Gris (Willamette Valley)      Pinot Gris   \n",
       "\n",
       "                      winery  \n",
       "wine_id                       \n",
       "0                    Nicosia  \n",
       "1        Quinta dos Avidagos  \n",
       "2                  Rainstorm  "
      ]
     },
     "execution_count": 3,
     "metadata": {},
     "output_type": "execute_result"
    }
   ],
   "source": [
    "df.head(3)"
   ]
  },
  {
   "cell_type": "markdown",
   "metadata": {},
   "source": [
    "### getting the last 2 rows"
   ]
  },
  {
   "cell_type": "code",
   "execution_count": 4,
   "metadata": {},
   "outputs": [
    {
     "data": {
      "text/html": [
       "<div>\n",
       "<style scoped>\n",
       "    .dataframe tbody tr th:only-of-type {\n",
       "        vertical-align: middle;\n",
       "    }\n",
       "\n",
       "    .dataframe tbody tr th {\n",
       "        vertical-align: top;\n",
       "    }\n",
       "\n",
       "    .dataframe thead th {\n",
       "        text-align: right;\n",
       "    }\n",
       "</style>\n",
       "<table border=\"1\" class=\"dataframe\">\n",
       "  <thead>\n",
       "    <tr style=\"text-align: right;\">\n",
       "      <th></th>\n",
       "      <th>country</th>\n",
       "      <th>description</th>\n",
       "      <th>designation</th>\n",
       "      <th>points</th>\n",
       "      <th>price</th>\n",
       "      <th>province</th>\n",
       "      <th>region_1</th>\n",
       "      <th>region_2</th>\n",
       "      <th>taster_name</th>\n",
       "      <th>taster_twitter_handle</th>\n",
       "      <th>title</th>\n",
       "      <th>variety</th>\n",
       "      <th>winery</th>\n",
       "    </tr>\n",
       "    <tr>\n",
       "      <th>wine_id</th>\n",
       "      <th></th>\n",
       "      <th></th>\n",
       "      <th></th>\n",
       "      <th></th>\n",
       "      <th></th>\n",
       "      <th></th>\n",
       "      <th></th>\n",
       "      <th></th>\n",
       "      <th></th>\n",
       "      <th></th>\n",
       "      <th></th>\n",
       "      <th></th>\n",
       "      <th></th>\n",
       "    </tr>\n",
       "  </thead>\n",
       "  <tbody>\n",
       "    <tr>\n",
       "      <th>129969</th>\n",
       "      <td>France</td>\n",
       "      <td>A dry style of Pinot Gris, this is crisp with ...</td>\n",
       "      <td>NaN</td>\n",
       "      <td>90</td>\n",
       "      <td>32.0</td>\n",
       "      <td>Alsace</td>\n",
       "      <td>Alsace</td>\n",
       "      <td>NaN</td>\n",
       "      <td>Roger Voss</td>\n",
       "      <td>@vossroger</td>\n",
       "      <td>Domaine Marcel Deiss 2012 Pinot Gris (Alsace)</td>\n",
       "      <td>Pinot Gris</td>\n",
       "      <td>Domaine Marcel Deiss</td>\n",
       "    </tr>\n",
       "    <tr>\n",
       "      <th>129970</th>\n",
       "      <td>France</td>\n",
       "      <td>Big, rich and off-dry, this is powered by inte...</td>\n",
       "      <td>Lieu-dit Harth Cuvée Caroline</td>\n",
       "      <td>90</td>\n",
       "      <td>21.0</td>\n",
       "      <td>Alsace</td>\n",
       "      <td>Alsace</td>\n",
       "      <td>NaN</td>\n",
       "      <td>Roger Voss</td>\n",
       "      <td>@vossroger</td>\n",
       "      <td>Domaine Schoffit 2012 Lieu-dit Harth Cuvée Car...</td>\n",
       "      <td>Gewürztraminer</td>\n",
       "      <td>Domaine Schoffit</td>\n",
       "    </tr>\n",
       "  </tbody>\n",
       "</table>\n",
       "</div>"
      ],
      "text/plain": [
       "        country                                        description  \\\n",
       "wine_id                                                              \n",
       "129969   France  A dry style of Pinot Gris, this is crisp with ...   \n",
       "129970   France  Big, rich and off-dry, this is powered by inte...   \n",
       "\n",
       "                           designation  points  price province region_1  \\\n",
       "wine_id                                                                   \n",
       "129969                             NaN      90   32.0   Alsace   Alsace   \n",
       "129970   Lieu-dit Harth Cuvée Caroline      90   21.0   Alsace   Alsace   \n",
       "\n",
       "        region_2 taster_name taster_twitter_handle  \\\n",
       "wine_id                                              \n",
       "129969       NaN  Roger Voss            @vossroger   \n",
       "129970       NaN  Roger Voss            @vossroger   \n",
       "\n",
       "                                                     title         variety  \\\n",
       "wine_id                                                                      \n",
       "129969       Domaine Marcel Deiss 2012 Pinot Gris (Alsace)      Pinot Gris   \n",
       "129970   Domaine Schoffit 2012 Lieu-dit Harth Cuvée Car...  Gewürztraminer   \n",
       "\n",
       "                       winery  \n",
       "wine_id                        \n",
       "129969   Domaine Marcel Deiss  \n",
       "129970       Domaine Schoffit  "
      ]
     },
     "execution_count": 4,
     "metadata": {},
     "output_type": "execute_result"
    }
   ],
   "source": [
    "df.tail(2)"
   ]
  },
  {
   "cell_type": "markdown",
   "metadata": {},
   "source": [
    "### getting a random sample of 5 rows"
   ]
  },
  {
   "cell_type": "code",
   "execution_count": 5,
   "metadata": {},
   "outputs": [
    {
     "data": {
      "text/html": [
       "<div>\n",
       "<style scoped>\n",
       "    .dataframe tbody tr th:only-of-type {\n",
       "        vertical-align: middle;\n",
       "    }\n",
       "\n",
       "    .dataframe tbody tr th {\n",
       "        vertical-align: top;\n",
       "    }\n",
       "\n",
       "    .dataframe thead th {\n",
       "        text-align: right;\n",
       "    }\n",
       "</style>\n",
       "<table border=\"1\" class=\"dataframe\">\n",
       "  <thead>\n",
       "    <tr style=\"text-align: right;\">\n",
       "      <th></th>\n",
       "      <th>country</th>\n",
       "      <th>description</th>\n",
       "      <th>designation</th>\n",
       "      <th>points</th>\n",
       "      <th>price</th>\n",
       "      <th>province</th>\n",
       "      <th>region_1</th>\n",
       "      <th>region_2</th>\n",
       "      <th>taster_name</th>\n",
       "      <th>taster_twitter_handle</th>\n",
       "      <th>title</th>\n",
       "      <th>variety</th>\n",
       "      <th>winery</th>\n",
       "    </tr>\n",
       "    <tr>\n",
       "      <th>wine_id</th>\n",
       "      <th></th>\n",
       "      <th></th>\n",
       "      <th></th>\n",
       "      <th></th>\n",
       "      <th></th>\n",
       "      <th></th>\n",
       "      <th></th>\n",
       "      <th></th>\n",
       "      <th></th>\n",
       "      <th></th>\n",
       "      <th></th>\n",
       "      <th></th>\n",
       "      <th></th>\n",
       "    </tr>\n",
       "  </thead>\n",
       "  <tbody>\n",
       "    <tr>\n",
       "      <th>108227</th>\n",
       "      <td>US</td>\n",
       "      <td>This full-bodied, value-conscious wine offers ...</td>\n",
       "      <td>NaN</td>\n",
       "      <td>90</td>\n",
       "      <td>30.0</td>\n",
       "      <td>California</td>\n",
       "      <td>Napa Valley</td>\n",
       "      <td>Napa</td>\n",
       "      <td>Virginie Boone</td>\n",
       "      <td>@vboone</td>\n",
       "      <td>Girard 2013 Cabernet Sauvignon (Napa Valley)</td>\n",
       "      <td>Cabernet Sauvignon</td>\n",
       "      <td>Girard</td>\n",
       "    </tr>\n",
       "    <tr>\n",
       "      <th>73013</th>\n",
       "      <td>Australia</td>\n",
       "      <td>A solid value, this off-dry Riesling features ...</td>\n",
       "      <td>The Stump Jump</td>\n",
       "      <td>90</td>\n",
       "      <td>13.0</td>\n",
       "      <td>South Australia</td>\n",
       "      <td>Adelaide Hills</td>\n",
       "      <td>NaN</td>\n",
       "      <td>Joe Czerwinski</td>\n",
       "      <td>@JoeCz</td>\n",
       "      <td>D'Arenberg 2015 The Stump Jump Riesling (Adela...</td>\n",
       "      <td>Riesling</td>\n",
       "      <td>D'Arenberg</td>\n",
       "    </tr>\n",
       "    <tr>\n",
       "      <th>99144</th>\n",
       "      <td>US</td>\n",
       "      <td>Raspberry, toffee, cherry pie and kirsch are t...</td>\n",
       "      <td>NaN</td>\n",
       "      <td>86</td>\n",
       "      <td>14.0</td>\n",
       "      <td>California</td>\n",
       "      <td>California</td>\n",
       "      <td>California Other</td>\n",
       "      <td>NaN</td>\n",
       "      <td>NaN</td>\n",
       "      <td>Temptation 2009 Zinfandel (California)</td>\n",
       "      <td>Zinfandel</td>\n",
       "      <td>Temptation</td>\n",
       "    </tr>\n",
       "    <tr>\n",
       "      <th>111297</th>\n",
       "      <td>Brazil</td>\n",
       "      <td>Oily aromas of orange peel and tropical fruits...</td>\n",
       "      <td>Macaw Semi-Dry</td>\n",
       "      <td>85</td>\n",
       "      <td>15.0</td>\n",
       "      <td>Serra Gaúcha</td>\n",
       "      <td>NaN</td>\n",
       "      <td>NaN</td>\n",
       "      <td>Michael Schachner</td>\n",
       "      <td>@wineschach</td>\n",
       "      <td>Casa Perini 2016 Macaw Semi-Dry Moscato (Serra...</td>\n",
       "      <td>Moscato</td>\n",
       "      <td>Casa Perini</td>\n",
       "    </tr>\n",
       "    <tr>\n",
       "      <th>24412</th>\n",
       "      <td>US</td>\n",
       "      <td>This Syrah, which blends 11% Counoise, is all ...</td>\n",
       "      <td>Noir</td>\n",
       "      <td>92</td>\n",
       "      <td>50.0</td>\n",
       "      <td>California</td>\n",
       "      <td>Adelaida District</td>\n",
       "      <td>Central Coast</td>\n",
       "      <td>Matt Kettmann</td>\n",
       "      <td>@mattkettmann</td>\n",
       "      <td>kukkula 2014 Noir Syrah (Adelaida District)</td>\n",
       "      <td>Syrah</td>\n",
       "      <td>kukkula</td>\n",
       "    </tr>\n",
       "  </tbody>\n",
       "</table>\n",
       "</div>"
      ],
      "text/plain": [
       "           country                                        description  \\\n",
       "wine_id                                                                 \n",
       "108227          US  This full-bodied, value-conscious wine offers ...   \n",
       "73013    Australia  A solid value, this off-dry Riesling features ...   \n",
       "99144           US  Raspberry, toffee, cherry pie and kirsch are t...   \n",
       "111297      Brazil  Oily aromas of orange peel and tropical fruits...   \n",
       "24412           US  This Syrah, which blends 11% Counoise, is all ...   \n",
       "\n",
       "            designation  points  price         province           region_1  \\\n",
       "wine_id                                                                      \n",
       "108227              NaN      90   30.0       California        Napa Valley   \n",
       "73013    The Stump Jump      90   13.0  South Australia     Adelaide Hills   \n",
       "99144               NaN      86   14.0       California         California   \n",
       "111297   Macaw Semi-Dry      85   15.0     Serra Gaúcha                NaN   \n",
       "24412              Noir      92   50.0       California  Adelaida District   \n",
       "\n",
       "                 region_2        taster_name taster_twitter_handle  \\\n",
       "wine_id                                                              \n",
       "108227               Napa     Virginie Boone               @vboone   \n",
       "73013                 NaN     Joe Czerwinski                @JoeCz   \n",
       "99144    California Other                NaN                   NaN   \n",
       "111297                NaN  Michael Schachner           @wineschach   \n",
       "24412       Central Coast      Matt Kettmann         @mattkettmann   \n",
       "\n",
       "                                                     title  \\\n",
       "wine_id                                                      \n",
       "108227        Girard 2013 Cabernet Sauvignon (Napa Valley)   \n",
       "73013    D'Arenberg 2015 The Stump Jump Riesling (Adela...   \n",
       "99144               Temptation 2009 Zinfandel (California)   \n",
       "111297   Casa Perini 2016 Macaw Semi-Dry Moscato (Serra...   \n",
       "24412          kukkula 2014 Noir Syrah (Adelaida District)   \n",
       "\n",
       "                    variety       winery  \n",
       "wine_id                                   \n",
       "108227   Cabernet Sauvignon       Girard  \n",
       "73013              Riesling   D'Arenberg  \n",
       "99144             Zinfandel   Temptation  \n",
       "111297              Moscato  Casa Perini  \n",
       "24412                 Syrah      kukkula  "
      ]
     },
     "execution_count": 5,
     "metadata": {},
     "output_type": "execute_result"
    }
   ],
   "source": [
    "df.sample(5)"
   ]
  },
  {
   "cell_type": "markdown",
   "metadata": {},
   "source": [
    "### getting the number of rows and columns"
   ]
  },
  {
   "cell_type": "code",
   "execution_count": 6,
   "metadata": {},
   "outputs": [
    {
     "data": {
      "text/plain": [
       "(129971, 13)"
      ]
     },
     "execution_count": 6,
     "metadata": {},
     "output_type": "execute_result"
    }
   ],
   "source": [
    "df.shape"
   ]
  },
  {
   "cell_type": "markdown",
   "metadata": {},
   "source": [
    "### getting the columns (labels)"
   ]
  },
  {
   "cell_type": "code",
   "execution_count": 7,
   "metadata": {},
   "outputs": [
    {
     "data": {
      "text/plain": [
       "Index(['country', 'description', 'designation', 'points', 'price', 'province',\n",
       "       'region_1', 'region_2', 'taster_name', 'taster_twitter_handle', 'title',\n",
       "       'variety', 'winery'],\n",
       "      dtype='object')"
      ]
     },
     "execution_count": 7,
     "metadata": {},
     "output_type": "execute_result"
    }
   ],
   "source": [
    "df.columns"
   ]
  },
  {
   "cell_type": "markdown",
   "metadata": {},
   "source": [
    "### getting the index (row labels)"
   ]
  },
  {
   "cell_type": "code",
   "execution_count": 8,
   "metadata": {},
   "outputs": [
    {
     "data": {
      "text/plain": [
       "Int64Index([     0,      1,      2,      3,      4,      5,      6,      7,\n",
       "                 8,      9,\n",
       "            ...\n",
       "            129961, 129962, 129963, 129964, 129965, 129966, 129967, 129968,\n",
       "            129969, 129970],\n",
       "           dtype='int64', name='wine_id', length=129971)"
      ]
     },
     "execution_count": 8,
     "metadata": {},
     "output_type": "execute_result"
    }
   ],
   "source": [
    "df.index"
   ]
  },
  {
   "cell_type": "markdown",
   "metadata": {},
   "source": [
    "### shows the statistics of the numeric variables"
   ]
  },
  {
   "cell_type": "code",
   "execution_count": 9,
   "metadata": {},
   "outputs": [
    {
     "data": {
      "text/html": [
       "<div>\n",
       "<style scoped>\n",
       "    .dataframe tbody tr th:only-of-type {\n",
       "        vertical-align: middle;\n",
       "    }\n",
       "\n",
       "    .dataframe tbody tr th {\n",
       "        vertical-align: top;\n",
       "    }\n",
       "\n",
       "    .dataframe thead th {\n",
       "        text-align: right;\n",
       "    }\n",
       "</style>\n",
       "<table border=\"1\" class=\"dataframe\">\n",
       "  <thead>\n",
       "    <tr style=\"text-align: right;\">\n",
       "      <th></th>\n",
       "      <th>points</th>\n",
       "      <th>price</th>\n",
       "    </tr>\n",
       "  </thead>\n",
       "  <tbody>\n",
       "    <tr>\n",
       "      <th>count</th>\n",
       "      <td>129971.000000</td>\n",
       "      <td>120975.000000</td>\n",
       "    </tr>\n",
       "    <tr>\n",
       "      <th>mean</th>\n",
       "      <td>88.447138</td>\n",
       "      <td>35.363389</td>\n",
       "    </tr>\n",
       "    <tr>\n",
       "      <th>std</th>\n",
       "      <td>3.039730</td>\n",
       "      <td>41.022218</td>\n",
       "    </tr>\n",
       "    <tr>\n",
       "      <th>min</th>\n",
       "      <td>80.000000</td>\n",
       "      <td>4.000000</td>\n",
       "    </tr>\n",
       "    <tr>\n",
       "      <th>25%</th>\n",
       "      <td>86.000000</td>\n",
       "      <td>17.000000</td>\n",
       "    </tr>\n",
       "    <tr>\n",
       "      <th>50%</th>\n",
       "      <td>88.000000</td>\n",
       "      <td>25.000000</td>\n",
       "    </tr>\n",
       "    <tr>\n",
       "      <th>75%</th>\n",
       "      <td>91.000000</td>\n",
       "      <td>42.000000</td>\n",
       "    </tr>\n",
       "    <tr>\n",
       "      <th>max</th>\n",
       "      <td>100.000000</td>\n",
       "      <td>3300.000000</td>\n",
       "    </tr>\n",
       "  </tbody>\n",
       "</table>\n",
       "</div>"
      ],
      "text/plain": [
       "              points          price\n",
       "count  129971.000000  120975.000000\n",
       "mean       88.447138      35.363389\n",
       "std         3.039730      41.022218\n",
       "min        80.000000       4.000000\n",
       "25%        86.000000      17.000000\n",
       "50%        88.000000      25.000000\n",
       "75%        91.000000      42.000000\n",
       "max       100.000000    3300.000000"
      ]
     },
     "execution_count": 9,
     "metadata": {},
     "output_type": "execute_result"
    }
   ],
   "source": [
    "df.describe()\n",
    "\n",
    "# same as:\n",
    "# df.select_dtypes(include='number').describe()"
   ]
  },
  {
   "cell_type": "markdown",
   "metadata": {},
   "source": [
    "### ***EXERCISE 3.1***\n",
    "Get a DataFrame with just `count` and `mean` (first 2 rows) of the numeric columns"
   ]
  },
  {
   "cell_type": "code",
   "execution_count": 10,
   "metadata": {},
   "outputs": [],
   "source": [
    "# insert solution here"
   ]
  },
  {
   "cell_type": "markdown",
   "metadata": {},
   "source": [
    "### shows the statistics of the non-numeric variables"
   ]
  },
  {
   "cell_type": "code",
   "execution_count": 11,
   "metadata": {},
   "outputs": [
    {
     "data": {
      "text/html": [
       "<div>\n",
       "<style scoped>\n",
       "    .dataframe tbody tr th:only-of-type {\n",
       "        vertical-align: middle;\n",
       "    }\n",
       "\n",
       "    .dataframe tbody tr th {\n",
       "        vertical-align: top;\n",
       "    }\n",
       "\n",
       "    .dataframe thead th {\n",
       "        text-align: right;\n",
       "    }\n",
       "</style>\n",
       "<table border=\"1\" class=\"dataframe\">\n",
       "  <thead>\n",
       "    <tr style=\"text-align: right;\">\n",
       "      <th></th>\n",
       "      <th>country</th>\n",
       "      <th>description</th>\n",
       "      <th>designation</th>\n",
       "      <th>province</th>\n",
       "      <th>region_1</th>\n",
       "      <th>region_2</th>\n",
       "      <th>taster_name</th>\n",
       "      <th>taster_twitter_handle</th>\n",
       "      <th>title</th>\n",
       "      <th>variety</th>\n",
       "      <th>winery</th>\n",
       "    </tr>\n",
       "  </thead>\n",
       "  <tbody>\n",
       "    <tr>\n",
       "      <th>count</th>\n",
       "      <td>129908</td>\n",
       "      <td>129971</td>\n",
       "      <td>92506</td>\n",
       "      <td>129908</td>\n",
       "      <td>108724</td>\n",
       "      <td>50511</td>\n",
       "      <td>103727</td>\n",
       "      <td>98758</td>\n",
       "      <td>129971</td>\n",
       "      <td>129970</td>\n",
       "      <td>129971</td>\n",
       "    </tr>\n",
       "    <tr>\n",
       "      <th>unique</th>\n",
       "      <td>43</td>\n",
       "      <td>119955</td>\n",
       "      <td>37979</td>\n",
       "      <td>425</td>\n",
       "      <td>1229</td>\n",
       "      <td>17</td>\n",
       "      <td>19</td>\n",
       "      <td>15</td>\n",
       "      <td>118840</td>\n",
       "      <td>707</td>\n",
       "      <td>16757</td>\n",
       "    </tr>\n",
       "    <tr>\n",
       "      <th>top</th>\n",
       "      <td>US</td>\n",
       "      <td>Cigar box, café au lait, and dried tobacco aro...</td>\n",
       "      <td>Reserve</td>\n",
       "      <td>California</td>\n",
       "      <td>Napa Valley</td>\n",
       "      <td>Central Coast</td>\n",
       "      <td>Roger Voss</td>\n",
       "      <td>@vossroger</td>\n",
       "      <td>Gloria Ferrer NV Sonoma Brut Sparkling (Sonoma...</td>\n",
       "      <td>Pinot Noir</td>\n",
       "      <td>Wines &amp; Winemakers</td>\n",
       "    </tr>\n",
       "    <tr>\n",
       "      <th>freq</th>\n",
       "      <td>54504</td>\n",
       "      <td>3</td>\n",
       "      <td>2009</td>\n",
       "      <td>36247</td>\n",
       "      <td>4480</td>\n",
       "      <td>11065</td>\n",
       "      <td>25514</td>\n",
       "      <td>25514</td>\n",
       "      <td>11</td>\n",
       "      <td>13272</td>\n",
       "      <td>222</td>\n",
       "    </tr>\n",
       "  </tbody>\n",
       "</table>\n",
       "</div>"
      ],
      "text/plain": [
       "       country                                        description designation  \\\n",
       "count   129908                                             129971       92506   \n",
       "unique      43                                             119955       37979   \n",
       "top         US  Cigar box, café au lait, and dried tobacco aro...     Reserve   \n",
       "freq     54504                                                  3        2009   \n",
       "\n",
       "          province     region_1       region_2 taster_name  \\\n",
       "count       129908       108724          50511      103727   \n",
       "unique         425         1229             17          19   \n",
       "top     California  Napa Valley  Central Coast  Roger Voss   \n",
       "freq         36247         4480          11065       25514   \n",
       "\n",
       "       taster_twitter_handle  \\\n",
       "count                  98758   \n",
       "unique                    15   \n",
       "top               @vossroger   \n",
       "freq                   25514   \n",
       "\n",
       "                                                    title     variety  \\\n",
       "count                                              129971      129970   \n",
       "unique                                             118840         707   \n",
       "top     Gloria Ferrer NV Sonoma Brut Sparkling (Sonoma...  Pinot Noir   \n",
       "freq                                                   11       13272   \n",
       "\n",
       "                    winery  \n",
       "count               129971  \n",
       "unique               16757  \n",
       "top     Wines & Winemakers  \n",
       "freq                   222  "
      ]
     },
     "execution_count": 11,
     "metadata": {},
     "output_type": "execute_result"
    }
   ],
   "source": [
    "df.select_dtypes(exclude='number').describe()"
   ]
  },
  {
   "cell_type": "markdown",
   "metadata": {},
   "source": [
    "### showing the data type of each column (object, in this case, means string)"
   ]
  },
  {
   "cell_type": "code",
   "execution_count": 12,
   "metadata": {},
   "outputs": [
    {
     "data": {
      "text/plain": [
       "country                   object\n",
       "description               object\n",
       "designation               object\n",
       "points                     int64\n",
       "price                    float64\n",
       "province                  object\n",
       "region_1                  object\n",
       "region_2                  object\n",
       "taster_name               object\n",
       "taster_twitter_handle     object\n",
       "title                     object\n",
       "variety                   object\n",
       "winery                    object\n",
       "dtype: object"
      ]
     },
     "execution_count": 12,
     "metadata": {},
     "output_type": "execute_result"
    }
   ],
   "source": [
    "df.dtypes"
   ]
  },
  {
   "cell_type": "markdown",
   "metadata": {},
   "source": [
    "# Series exploration"
   ]
  },
  {
   "cell_type": "markdown",
   "metadata": {},
   "source": [
    "### selecting a single column"
   ]
  },
  {
   "cell_type": "code",
   "execution_count": 13,
   "metadata": {},
   "outputs": [],
   "source": [
    "wine_variety = df['variety']"
   ]
  },
  {
   "cell_type": "markdown",
   "metadata": {},
   "source": [
    "### checking the data type of the variable wine_country"
   ]
  },
  {
   "cell_type": "code",
   "execution_count": 14,
   "metadata": {},
   "outputs": [
    {
     "data": {
      "text/plain": [
       "pandas.core.series.Series"
      ]
     },
     "execution_count": 14,
     "metadata": {},
     "output_type": "execute_result"
    }
   ],
   "source": [
    "type(wine_variety)"
   ]
  },
  {
   "cell_type": "markdown",
   "metadata": {},
   "source": [
    "### getting unique values"
   ]
  },
  {
   "cell_type": "code",
   "execution_count": 15,
   "metadata": {},
   "outputs": [
    {
     "data": {
      "text/plain": [
       "array(['White Blend', 'Portuguese Red', 'Pinot Gris', 'Riesling',\n",
       "       'Pinot Noir', 'Tempranillo-Merlot', 'Frappato', 'Gewürztraminer',\n",
       "       'Cabernet Sauvignon', 'Nerello Mascalese', 'Chardonnay', 'Malbec',\n",
       "       'Tempranillo Blend', 'Meritage', 'Red Blend', 'Merlot',\n",
       "       \"Nero d'Avola\", 'Chenin Blanc', 'Gamay', 'Sauvignon Blanc',\n",
       "       'Viognier-Chardonnay', 'Primitivo', 'Catarratto', 'Inzolia',\n",
       "       'Petit Verdot', 'Monica', 'Bordeaux-style White Blend', 'Grillo',\n",
       "       'Sangiovese', 'Cabernet Franc', 'Champagne Blend',\n",
       "       'Bordeaux-style Red Blend', 'Aglianico', 'Petite Sirah',\n",
       "       'Touriga Nacional', 'Carmenère', 'Albariño', 'Petit Manseng',\n",
       "       'Rosé', 'Zinfandel', 'Vernaccia', 'Rosato', 'Grüner Veltliner',\n",
       "       'Viognier', 'Vermentino', 'Grenache Blanc', 'Syrah', 'Nebbiolo',\n",
       "       'Shiraz-Cabernet Sauvignon', 'Pinot Blanc', 'Alsace white blend',\n",
       "       'Barbera', 'Rhône-style Red Blend', 'Portuguese White', 'Graciano',\n",
       "       'Tannat-Cabernet', 'Sauvignon', 'Sangiovese Grosso', 'Torrontés',\n",
       "       'Prugnolo Gentile', 'G-S-M', 'Verdejo', 'Fumé Blanc', 'Furmint',\n",
       "       'Pinot Bianco', 'Bonarda', 'Shiraz', 'Montepulciano', 'Moscato',\n",
       "       'Grenache', 'Ugni Blanc-Colombard', 'Syrah-Viognier',\n",
       "       'Blaufränkisch', 'Friulano', 'Assyrtico', 'Carignan-Grenache',\n",
       "       'Sagrantino', 'Savagnin', 'Cabernet Sauvignon-Syrah', 'Prosecco',\n",
       "       'Vignoles', 'Sparkling Blend', 'Muscat', 'Muscadelle',\n",
       "       'Shiraz-Viognier', 'Garganega', 'Pinot Grigio', 'Tempranillo',\n",
       "       'Zierfandler', 'Cortese', 'Mencía', 'Zweigelt', 'Melon',\n",
       "       'Rhône-style White Blend', 'Vidal', 'Cannonau', 'Verdelho',\n",
       "       'Marsanne', 'Scheurebe', 'Kerner', 'Syrah-Grenache', 'Dolcetto',\n",
       "       'Vilana', 'Glera', 'Viura', 'Garnacha Tintorera', 'Pinot Nero',\n",
       "       'Roter Veltliner', 'Pinotage', 'Sémillon', 'Pinot Noir-Gamay',\n",
       "       'Antão Vaz', 'Cabernet Sauvignon-Carmenère', 'Verdejo-Viura',\n",
       "       'Verduzzo', 'Verdicchio', 'Silvaner', 'Colombard', 'Carricante',\n",
       "       'Sylvaner', 'Fiano', 'Früburgunder', 'Sousão', 'Roussanne',\n",
       "       'Avesso', 'Cinsault', 'Chinuri', 'Tinta Miúda',\n",
       "       'Muscat Blanc à Petits Grains', 'Portuguese Sparkling',\n",
       "       'Monastrell', 'Xarel-lo', 'Greco', 'Trebbiano',\n",
       "       'Corvina, Rondinella, Molinara', 'Port', 'Chenin Blanc-Chardonnay',\n",
       "       'Insolia', 'Merlot-Malbec', 'Ribolla Gialla',\n",
       "       'Cabernet Sauvignon-Merlot', 'Duras', 'Weissburgunder', 'Roditis',\n",
       "       'Traminer', 'Papaskarasi', 'Tannat-Syrah', 'Marsanne-Roussanne',\n",
       "       'Charbono', 'Merlot-Argaman', 'Prié Blanc', 'Sherry',\n",
       "       'Provence red blend', 'Tannat', 'Zibibbo', 'Falanghina',\n",
       "       'Garnacha', 'Negroamaro', 'Mourvèdre', 'Syrah-Cabernet',\n",
       "       'Müller-Thurgau', 'Pinot Meunier', 'Cabernet Sauvignon-Sangiovese',\n",
       "       'Austrian Red Blend', 'Teroldego', 'Pansa Blanca',\n",
       "       'Muskat Ottonel', 'Sauvignon Blanc-Semillon', 'Claret',\n",
       "       'Semillon-Sauvignon Blanc', 'Bical', 'Moscatel', 'Rosado',\n",
       "       'Viura-Chardonnay', 'Baga', 'Malvasia Bianca',\n",
       "       'Gelber Muskateller', 'Malbec-Merlot', 'Monastrell-Syrah',\n",
       "       'Malbec-Tannat', 'Malbec-Cabernet Franc', 'Turbiana', 'Refosco',\n",
       "       'Alvarinho', 'Manzoni', 'Aragonês', 'Agiorgitiko', 'Malagousia',\n",
       "       'Assyrtiko', 'Ruché', 'Welschriesling', 'Tinta de Toro',\n",
       "       'Cabernet Moravia', 'Rieslaner', 'Traminette', 'Chambourcin',\n",
       "       'Nero di Troia', 'Lambrusco di Sorbara', 'Cesanese',\n",
       "       'Feteasca Neagra', 'Lagrein', 'Tinta Fina', 'St. Laurent',\n",
       "       'Marsanne-Viognier', 'Cabernet Sauvignon-Shiraz',\n",
       "       'Syrah-Cabernet Sauvignon', 'Gewürztraminer-Riesling',\n",
       "       'Pugnitello', 'Cerceal', 'Touriga Nacional Blend',\n",
       "       'Austrian white blend', 'Tocai', 'Tinta Roriz',\n",
       "       'Chardonnay-Viognier', 'Fernão Pires',\n",
       "       'Cabernet Franc-Cabernet Sauvignon', 'Grenache-Syrah',\n",
       "       'Seyval Blanc', 'Muscat Canelli', 'Cabernet Merlot',\n",
       "       'Tempranillo-Cabernet Sauvignon', 'Arinto', 'Aragonez',\n",
       "       'Merlot-Cabernet Franc', 'Syrah-Petite Sirah', 'Cabernet Blend',\n",
       "       'Maturana', 'Pecorino', 'Rotgipfler', 'Kinali Yapincak',\n",
       "       'Cabernet Franc-Carmenère', 'Magliocco', 'Gamay Noir',\n",
       "       'Sauvignon Gris', 'Spätburgunder', 'Picpoul', 'Vidal Blanc',\n",
       "       'Albanello', 'White Port', 'Arneis', 'Malvasia', 'Plavac Mali',\n",
       "       'Lemberger', 'Saperavi', 'Altesse', 'Blanc du Bois',\n",
       "       'Provence white blend', 'Nosiola', 'Dornfelder',\n",
       "       'Roussanne-Viognier', 'Ojaleshi', 'Godello', 'Mondeuse',\n",
       "       'Perricone', 'Pedro Ximénez', 'Auxerrois', 'Syrah-Merlot',\n",
       "       'Albana', 'Muskat', 'Lambrusco', 'Cabernet Sauvignon-Malbec',\n",
       "       'Tinto Fino', 'Malbec-Cabernet Sauvignon', 'Moschofilero',\n",
       "       'Grechetto', 'Encruzado', 'Carignano', 'Cabernet Franc-Merlot',\n",
       "       'Torbato', 'Syrah-Petit Verdot', 'Garnacha Blanca', 'Pallagrello',\n",
       "       'Morava', 'Syrah-Mourvèdre', 'Aleatico', 'Carcajolu', 'Kisi',\n",
       "       'Shiraz-Grenache', 'Palomino', 'Grenache-Carignan', 'Nascetta',\n",
       "       'Siria', 'Malbec-Syrah', 'Asprinio', 'Feteascǎ Regalǎ',\n",
       "       'Lambrusco Grasparossa', 'Marselan', 'Tocai Friulano', 'Schiava',\n",
       "       'Alfrocheiro', 'Chardonnay-Semillon', 'Corvina', 'Norton',\n",
       "       'Alicante Bouschet', 'Tokaji', 'Moscadello',\n",
       "       'Cabernet Sauvignon-Tempranillo', 'Carignan', 'Loureiro-Arinto',\n",
       "       'Cabernet-Syrah', 'Sauvignon Blanc-Chardonnay', 'Symphony',\n",
       "       'Edelzwicker', 'Madeira Blend', 'Black Muscat', 'Grenache Noir',\n",
       "       'Durella', 'Xinomavro', 'Tinto del Pais',\n",
       "       'Merlot-Cabernet Sauvignon', 'Cercial', 'Johannisberg Riesling',\n",
       "       'Petite Verdot', 'Passerina', 'Valdiguié',\n",
       "       'Colombard-Sauvignon Blanc', 'Kangoun', 'Loureiro', 'Posip',\n",
       "       'Uva di Troia', 'Gros and Petit Manseng', 'Jacquère',\n",
       "       'Kalecik Karasi', 'Karasakiz', 'Mourvèdre-Syrah', 'Negrette',\n",
       "       'Zierfandler-Rotgipfler', 'Clairette', 'Raboso', 'País', 'Mauzac',\n",
       "       'Pinot Auxerrois', 'Chenin Blanc-Sauvignon Blanc', 'Diamond',\n",
       "       'Marzemino', 'Tinta Barroca', 'Chardonnay-Sauvignon Blanc',\n",
       "       'Castelão', 'Trebbiano Spoletino', 'Teran', 'Trepat', 'Freisa',\n",
       "       'Neuburger', 'Sämling', 'Chasselas', 'Hárslevelü', 'Trincadeira',\n",
       "       'Merlot-Tannat', 'Rkatsiteli', 'Melnik', 'Siegerrebe',\n",
       "       'Trousseau Gris', 'Grenache Blend', 'Gros Manseng',\n",
       "       'Portuguese Rosé', 'Brachetto', 'Mantonico', 'Ekigaïna',\n",
       "       'Muskateller', 'Aligoté', 'Sangiovese Cabernet',\n",
       "       'Touriga Nacional-Cabernet Sauvignon', 'Muscat Blanc', 'Argaman',\n",
       "       'Viognier-Roussanne', 'Pallagrello Bianco', 'Bobal',\n",
       "       'Malvasia Istriana', 'Cabernet Sauvignon-Cabernet Franc',\n",
       "       'Baco Noir', 'Veltliner', 'Tempranillo-Tannat', 'Morillon',\n",
       "       'Touriga Franca', 'Picolit', 'Barbera-Nebbiolo', 'Prieto Picudo',\n",
       "       'Gaglioppo', 'Tokay', 'Sacy', 'Piedirosso', 'Piquepoul Blanc',\n",
       "       'Mansois', 'Chardonnay-Sauvignon', 'Tempranillo-Garnacha',\n",
       "       'Carmenère-Cabernet Sauvignon', 'Chenin Blanc-Viognier',\n",
       "       'Susumaniello', 'Vitovska', 'Orange Muscat', 'Grauburgunder',\n",
       "       'Carignane', 'Moscatel Roxo', 'Tannat-Merlot', 'Nerello Cappuccio',\n",
       "       'Counoise', 'Macabeo', 'Mazuelo', 'Sauvignon-Sémillon',\n",
       "       'Tinta del Pais', 'Vranec', 'Mavrud', \"Cesanese d'Affile\",\n",
       "       'Moscato Giallo', 'Debit', 'Verdil', 'Cabernet',\n",
       "       'Verduzzo Friulano ', 'Treixadura', \"Loin de l'Oeil\",\n",
       "       'Coda di Volpe', 'Grenache-Mourvèdre', 'Forcallà', 'Viura-Verdejo',\n",
       "       'Bombino Bianco', 'Pinot-Chardonnay', 'Syrah-Tempranillo',\n",
       "       'Cabernet Sauvignon-Barbera', 'Merlot-Cabernet',\n",
       "       \"Muscat d'Alexandrie\", 'Jaen', 'Tinta del Toro', 'Timorasso',\n",
       "       'Pigato', 'Sangiovese-Cabernet Sauvignon', 'Shiraz-Cabernet',\n",
       "       'Viognier-Gewürztraminer', 'Prunelard',\n",
       "       'Sauvignon Blanc-Chenin Blanc', 'Gros Plant',\n",
       "       'Malbec-Petit Verdot', 'Colombard-Ugni Blanc', 'Grignolino',\n",
       "       'Garnacha-Syrah', 'Rufete', 'Tempranillo-Shiraz', 'Mtsvane',\n",
       "       'Chardonnay-Pinot Gris', 'Marawi', 'Chardonnay-Pinot Blanc',\n",
       "       'Mataro', 'Tinta Cao', 'Blauer Portugieser', 'Ugni Blanc',\n",
       "       'Groppello', 'Semillon-Chardonnay', 'Irsai Oliver', 'Alvarelhão',\n",
       "       'Poulsard', 'Grenache-Shiraz', 'Baga-Touriga Nacional', 'Carineña',\n",
       "       'Pignoletto', 'Muscatel', 'Mavrodaphne', 'Ciliegiolo',\n",
       "       'Viognier-Grenache Blanc', 'Greco Bianco',\n",
       "       'Cabernet Sauvignon-Merlot-Shiraz', 'Sciaccerellu', 'Zelen',\n",
       "       'Alicante', 'Emir', 'Rosenmuskateller', 'Tsolikouri', 'Narince',\n",
       "       'Malbec-Cabernet', 'Touriga', 'Grecanico', 'Carmenère-Syrah',\n",
       "       'Madeleine Angevine', 'Mavroudi', 'Pinot Blanc-Pinot Noir',\n",
       "       'Muscat Hamburg', 'Tempranillo Blanco', 'Casavecchia',\n",
       "       'Pinot Gris-Gewürztraminer', 'White Riesling', 'Tinto Velasco',\n",
       "       'Hondarrabi Zuri', 'Nuragus', 'Xynisteri', 'Kadarka',\n",
       "       'Sauvignon Musqué', 'Roussanne-Marsanne', 'Incrocio Manzoni',\n",
       "       'Terrantez', 'Bual', 'Okuzgozu', 'Rivaner', 'Doña Blanca',\n",
       "       'Graševina', 'Lambrusco Salamino', 'Sangiovese-Syrah',\n",
       "       'Tannat-Cabernet Franc', 'Thrapsathiri', 'Fer Servadou', 'Mission',\n",
       "       'Kekfrankos', 'Cococciola', 'Blauburgunder', 'Marquette',\n",
       "       'Romorantin', 'Verdejo-Sauvignon Blanc', 'Braucol',\n",
       "       'Malvasia-Viura', 'Savatiano', 'Cabernet Franc-Malbec',\n",
       "       'Pallagrello Nero', 'Rebula', 'Vespolina', 'Shiraz-Malbec', 'Rebo',\n",
       "       'Macabeo-Chardonnay', 'Tempranillo-Malbec', 'Tamjanika',\n",
       "       'Trousseau', 'Bacchus', 'Syrah-Malbec', 'Syrah-Cabernet Franc',\n",
       "       'Macabeo-Moscatel', 'Cariñena-Garnacha', 'Plyto',\n",
       "       'Códega do Larinho', 'Sideritis', 'Çalkarası', 'Azal',\n",
       "       'Moscatel Graúdo', 'Viosinho', 'Moschofilero-Chardonnay',\n",
       "       'Paralleda', 'Rara Neagra', 'Malvasia di Candia', 'Maria Gomes',\n",
       "       'Molinara', 'Malvar', 'Airen', 'Erbaluce', 'Muscat of Alexandria',\n",
       "       'Verdosilla', 'Abouriou', 'Pinot Noir-Syrah', 'Nielluciu',\n",
       "       'Malbec-Bonarda', 'Vespaiolo', 'Malbec-Carménère', 'Biancolella',\n",
       "       'Sauvignon Blanc-Verdejo', 'Aidani', 'Garnacha-Monastrell',\n",
       "       'Vinhão', 'Souzao', 'Roter Traminer', 'Moscatel de Alejandría',\n",
       "       'Rolle', 'Tinta Francisca', 'Malvasia Nera', 'Orangetraube',\n",
       "       'Riesling-Chardonnay', 'Žilavka', 'Portuguiser', 'Listán Negro',\n",
       "       'Pinotage-Merlot', 'Muscadine', 'Maria Gomes-Bical', 'Grolleau',\n",
       "       'Zlahtina', 'Syrah-Grenache-Viognier', 'Jacquez', 'Gouveio',\n",
       "       'Canaiolo', 'Carignan-Syrah', 'Bombino Nero',\n",
       "       'Chardonnay-Riesling', 'Malagouzia-Chardonnay', 'Mavrotragano',\n",
       "       'Bovale', 'Frankovka', 'Shiraz-Roussanne', 'Cabernet-Shiraz',\n",
       "       'Syrah-Carignan', 'Elbling', 'Gragnano', 'Garnacha Blend',\n",
       "       'Pinot Blanc-Chardonnay', 'Schwartzriesling', 'Petit Meslier',\n",
       "       'Bastardo', 'Vidadillo', 'Misket', 'Chardonnay Weissburgunder',\n",
       "       'Other', 'Robola', 'Merlot-Shiraz', 'Malagouzia', 'Folle Blanche',\n",
       "       'Malbec Blend', 'Merlot-Syrah', 'Tamianka', 'Cabernet Pfeffer',\n",
       "       'Morio Muskat', 'Rabigato', 'Babić', 'Roviello', 'Yapincak',\n",
       "       'Sauvignonasse', 'Viognier-Marsanne', 'Mandilaria', 'Meseguera',\n",
       "       'Alvarinho-Chardonnay', 'Saperavi-Merlot', 'Pinot Blanc-Viognier',\n",
       "       'Teroldego Rotaliano', 'Biancu Gentile', 'Garnacha-Tempranillo',\n",
       "       'Xinisteri', 'Sauvignon Blanc-Sauvignon Gris',\n",
       "       'Trebbiano di Lugana', 'Albarossa', 'Ryzlink Rýnský', 'Verdeca',\n",
       "       'Cabernet Sauvignon Grenache', 'Tămâioasă Românească',\n",
       "       'Black Monukka', 'Merlot-Grenache', 'Vranac', 'Tempranillo-Syrah',\n",
       "       'Chardonel', 'Silvaner-Traminer', 'Uvalino',\n",
       "       'Merseguera-Sauvignon Blanc', 'Cabernet-Malbec', 'Boğazkere',\n",
       "       'Gelber Traminer', 'Vermentino Nero', 'Cayuga', 'Tinta Amarela',\n",
       "       'Tinta Negra Mole', 'Moscato Rosa', 'Chelois',\n",
       "       'Sauvignon Blanc-Assyrtiko', nan, 'Muscadel', 'Shiraz-Tempranillo',\n",
       "       'Roussanne-Grenache Blanc', 'Biancale', 'Ansonica',\n",
       "       'Syrah-Bonarda', 'Durif', 'Franconia', 'Malbec-Tempranillo',\n",
       "       'Nasco', 'Monastrell-Petit Verdot', 'Sirica', 'Vital', 'Espadeiro',\n",
       "       'Apple', 'Pinot Grigio-Sauvignon Blanc', 'Blatina', 'Karalahna',\n",
       "       'Feteasca', 'Sercial', 'Valvin Muscat', 'Malvasia Fina',\n",
       "       'Roditis-Moschofilero', 'St. Vincent', 'Chancellor', 'Premsal',\n",
       "       'Jampal', 'Tokay Pinot Gris', 'Colorino', 'Picapoll', 'Blauburger',\n",
       "       'Tinta Madeira', 'Centesimino', 'Grenache Gris', 'Trajadura',\n",
       "       'Merlot-Petite Verdot', 'Ramisco', 'Catalanesca',\n",
       "       'Garnacha-Cabernet', 'Garnacha-Cariñena', 'Gamza',\n",
       "       'Cabernet Franc-Lemberger', 'Chardonnay-Albariño',\n",
       "       'Shiraz-Mourvèdre', 'Mavrokalavryta', 'Favorita', 'Babosa Negro',\n",
       "       'Tintilia ', 'Dafni', 'Petit Courbu', 'Kotsifali', 'Parraleta',\n",
       "       'Moscato di Noto', 'Roscetto', 'Torontel', 'Otskhanuri Sapere',\n",
       "       'Viognier-Valdiguié', 'Trollinger', 'Tsapournakos', 'Francisa',\n",
       "       'Kuntra', 'Pignolo', 'Caprettone', 'Ondenc', 'Athiri',\n",
       "       'Bobal-Cabernet Sauvignon'], dtype=object)"
      ]
     },
     "execution_count": 15,
     "metadata": {},
     "output_type": "execute_result"
    }
   ],
   "source": [
    "wine_variety.unique()"
   ]
  },
  {
   "cell_type": "markdown",
   "metadata": {},
   "source": [
    "### getting counts for all unique values\n",
    "**TIP** if, like me, you have trouble remembering if it's \"value_count\", \"count_values\" etc.. remember, at the end of the day it is the \"value\" that \"counts\".. so it's \"value_counts\""
   ]
  },
  {
   "cell_type": "code",
   "execution_count": 16,
   "metadata": {},
   "outputs": [
    {
     "data": {
      "text/plain": [
       "Pinot Noir                    13272\n",
       "Chardonnay                    11753\n",
       "Cabernet Sauvignon             9472\n",
       "Red Blend                      8946\n",
       "Bordeaux-style Red Blend       6915\n",
       "Riesling                       5189\n",
       "Sauvignon Blanc                4967\n",
       "Syrah                          4142\n",
       "Rosé                           3564\n",
       "Merlot                         3102\n",
       "Nebbiolo                       2804\n",
       "Zinfandel                      2714\n",
       "Sangiovese                     2707\n",
       "Malbec                         2652\n",
       "Portuguese Red                 2466\n",
       "White Blend                    2360\n",
       "Sparkling Blend                2153\n",
       "Tempranillo                    1810\n",
       "Rhône-style Red Blend          1471\n",
       "Pinot Gris                     1455\n",
       "Champagne Blend                1396\n",
       "Cabernet Franc                 1353\n",
       "Grüner Veltliner               1345\n",
       "Portuguese White               1159\n",
       "Bordeaux-style White Blend     1066\n",
       "Pinot Grigio                   1052\n",
       "Gamay                          1025\n",
       "Gewürztraminer                 1012\n",
       "Viognier                        996\n",
       "Shiraz                          836\n",
       "                              ...  \n",
       "Tinta Madeira                     1\n",
       "Meseguera                         1\n",
       "Blatina                           1\n",
       "Siegerrebe                        1\n",
       "Picapoll                          1\n",
       "Früburgunder                      1\n",
       "Chardonnay-Riesling               1\n",
       "Pinot Gris-Gewürztraminer         1\n",
       "Tinta Amarela                     1\n",
       "Biancale                          1\n",
       "Sauvignon-Sémillon                1\n",
       "Malbec-Carménère                  1\n",
       "Tinto Velasco                     1\n",
       "Syrah-Malbec                      1\n",
       "Karasakiz                         1\n",
       "Barbera-Nebbiolo                  1\n",
       "Espadeiro                         1\n",
       "Franconia                         1\n",
       "Shiraz-Roussanne                  1\n",
       "Karalahna                         1\n",
       "Moscato di Noto                   1\n",
       "Caprettone                        1\n",
       "Trajadura                         1\n",
       "Tinta Negra Mole                  1\n",
       "Albanello                         1\n",
       "Centesimino                       1\n",
       "Cabernet-Malbec                   1\n",
       "Blauburger                        1\n",
       "Terrantez                         1\n",
       "Kinali Yapincak                   1\n",
       "Name: variety, Length: 707, dtype: int64"
      ]
     },
     "execution_count": 16,
     "metadata": {},
     "output_type": "execute_result"
    }
   ],
   "source": [
    "wine_variety.value_counts()"
   ]
  },
  {
   "cell_type": "markdown",
   "metadata": {},
   "source": [
    "### getting percentage frequency of all unique values"
   ]
  },
  {
   "cell_type": "code",
   "execution_count": 18,
   "metadata": {},
   "outputs": [
    {
     "data": {
      "text/plain": [
       "Pinot Noir                    0.102116\n",
       "Chardonnay                    0.090429\n",
       "Cabernet Sauvignon            0.072878\n",
       "Red Blend                     0.068831\n",
       "Bordeaux-style Red Blend      0.053205\n",
       "Riesling                      0.039925\n",
       "Sauvignon Blanc               0.038217\n",
       "Syrah                         0.031869\n",
       "Rosé                          0.027422\n",
       "Merlot                        0.023867\n",
       "Nebbiolo                      0.021574\n",
       "Zinfandel                     0.020882\n",
       "Sangiovese                    0.020828\n",
       "Malbec                        0.020405\n",
       "Portuguese Red                0.018974\n",
       "White Blend                   0.018158\n",
       "Sparkling Blend               0.016565\n",
       "Tempranillo                   0.013926\n",
       "Rhône-style Red Blend         0.011318\n",
       "Pinot Gris                    0.011195\n",
       "Champagne Blend               0.010741\n",
       "Cabernet Franc                0.010410\n",
       "Grüner Veltliner              0.010349\n",
       "Portuguese White              0.008917\n",
       "Bordeaux-style White Blend    0.008202\n",
       "Pinot Grigio                  0.008094\n",
       "Gamay                         0.007886\n",
       "Gewürztraminer                0.007786\n",
       "Viognier                      0.007663\n",
       "Shiraz                        0.006432\n",
       "                                ...   \n",
       "Tinta Madeira                 0.000008\n",
       "Meseguera                     0.000008\n",
       "Blatina                       0.000008\n",
       "Siegerrebe                    0.000008\n",
       "Picapoll                      0.000008\n",
       "Früburgunder                  0.000008\n",
       "Chardonnay-Riesling           0.000008\n",
       "Pinot Gris-Gewürztraminer     0.000008\n",
       "Tinta Amarela                 0.000008\n",
       "Biancale                      0.000008\n",
       "Sauvignon-Sémillon            0.000008\n",
       "Malbec-Carménère              0.000008\n",
       "Tinto Velasco                 0.000008\n",
       "Syrah-Malbec                  0.000008\n",
       "Karasakiz                     0.000008\n",
       "Barbera-Nebbiolo              0.000008\n",
       "Espadeiro                     0.000008\n",
       "Franconia                     0.000008\n",
       "Shiraz-Roussanne              0.000008\n",
       "Karalahna                     0.000008\n",
       "Moscato di Noto               0.000008\n",
       "Caprettone                    0.000008\n",
       "Trajadura                     0.000008\n",
       "Tinta Negra Mole              0.000008\n",
       "Albanello                     0.000008\n",
       "Centesimino                   0.000008\n",
       "Cabernet-Malbec               0.000008\n",
       "Blauburger                    0.000008\n",
       "Terrantez                     0.000008\n",
       "Kinali Yapincak               0.000008\n",
       "Name: variety, Length: 707, dtype: float64"
      ]
     },
     "execution_count": 18,
     "metadata": {},
     "output_type": "execute_result"
    }
   ],
   "source": [
    "wine_variety.value_counts(normalize=True)"
   ]
  },
  {
   "cell_type": "markdown",
   "metadata": {},
   "source": [
    "### ***EXERCISE 3.2***\n",
    "Show the 6 least common countries (in absolute value) and the 3 most common wine varieties (in percentage)"
   ]
  },
  {
   "cell_type": "code",
   "execution_count": null,
   "metadata": {},
   "outputs": [],
   "source": [
    "# insert code for 6 least common countries"
   ]
  },
  {
   "cell_type": "code",
   "execution_count": null,
   "metadata": {},
   "outputs": [],
   "source": [
    "# insert code for 3 most common varieties"
   ]
  },
  {
   "cell_type": "code",
   "execution_count": null,
   "metadata": {},
   "outputs": [],
   "source": []
  }
 ],
 "metadata": {
  "kernelspec": {
   "display_name": "Python 3",
   "language": "python",
   "name": "python3"
  },
  "language_info": {
   "codemirror_mode": {
    "name": "ipython",
    "version": 3
   },
   "file_extension": ".py",
   "mimetype": "text/x-python",
   "name": "python",
   "nbconvert_exporter": "python",
   "pygments_lexer": "ipython3",
   "version": "3.7.3"
  }
 },
 "nbformat": 4,
 "nbformat_minor": 4
}
