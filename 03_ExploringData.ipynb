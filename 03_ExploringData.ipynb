{
 "cells": [
  {
   "cell_type": "code",
   "execution_count": 1,
   "metadata": {},
   "outputs": [],
   "source": [
    "import pandas as pd\n",
    "\n",
    "df = pd.read_csv('data/wine-reviews/winemag-data-130k-v2.csv', index_col='wine_id')"
   ]
  },
  {
   "cell_type": "markdown",
   "metadata": {},
   "source": [
    "# DataFrame exploration"
   ]
  },
  {
   "cell_type": "markdown",
   "metadata": {},
   "source": [
    "### checking the data type of the variable df"
   ]
  },
  {
   "cell_type": "code",
   "execution_count": 15,
   "metadata": {
    "collapsed": true,
    "jupyter": {
     "outputs_hidden": true
    }
   },
   "outputs": [
    {
     "data": {
      "text/plain": [
       "pandas.core.frame.DataFrame"
      ]
     },
     "execution_count": 15,
     "metadata": {},
     "output_type": "execute_result"
    }
   ],
   "source": [
    "type(df)"
   ]
  },
  {
   "cell_type": "markdown",
   "metadata": {},
   "source": [
    "### getting the first 3 rows"
   ]
  },
  {
   "cell_type": "code",
   "execution_count": 2,
   "metadata": {},
   "outputs": [
    {
     "data": {
      "text/html": [
       "<div>\n",
       "<style scoped>\n",
       "    .dataframe tbody tr th:only-of-type {\n",
       "        vertical-align: middle;\n",
       "    }\n",
       "\n",
       "    .dataframe tbody tr th {\n",
       "        vertical-align: top;\n",
       "    }\n",
       "\n",
       "    .dataframe thead th {\n",
       "        text-align: right;\n",
       "    }\n",
       "</style>\n",
       "<table border=\"1\" class=\"dataframe\">\n",
       "  <thead>\n",
       "    <tr style=\"text-align: right;\">\n",
       "      <th></th>\n",
       "      <th>country</th>\n",
       "      <th>description</th>\n",
       "      <th>designation</th>\n",
       "      <th>points</th>\n",
       "      <th>price</th>\n",
       "      <th>province</th>\n",
       "      <th>region_1</th>\n",
       "      <th>region_2</th>\n",
       "      <th>taster_name</th>\n",
       "      <th>taster_twitter_handle</th>\n",
       "      <th>title</th>\n",
       "      <th>variety</th>\n",
       "      <th>winery</th>\n",
       "    </tr>\n",
       "    <tr>\n",
       "      <th>wine_id</th>\n",
       "      <th></th>\n",
       "      <th></th>\n",
       "      <th></th>\n",
       "      <th></th>\n",
       "      <th></th>\n",
       "      <th></th>\n",
       "      <th></th>\n",
       "      <th></th>\n",
       "      <th></th>\n",
       "      <th></th>\n",
       "      <th></th>\n",
       "      <th></th>\n",
       "      <th></th>\n",
       "    </tr>\n",
       "  </thead>\n",
       "  <tbody>\n",
       "    <tr>\n",
       "      <th>0</th>\n",
       "      <td>Italy</td>\n",
       "      <td>Aromas include tropical fruit, broom, brimston...</td>\n",
       "      <td>Vulkà Bianco</td>\n",
       "      <td>87</td>\n",
       "      <td>NaN</td>\n",
       "      <td>Sicily &amp; Sardinia</td>\n",
       "      <td>Etna</td>\n",
       "      <td>NaN</td>\n",
       "      <td>Kerin O’Keefe</td>\n",
       "      <td>@kerinokeefe</td>\n",
       "      <td>Nicosia 2013 Vulkà Bianco  (Etna)</td>\n",
       "      <td>White Blend</td>\n",
       "      <td>Nicosia</td>\n",
       "    </tr>\n",
       "    <tr>\n",
       "      <th>1</th>\n",
       "      <td>Portugal</td>\n",
       "      <td>This is ripe and fruity, a wine that is smooth...</td>\n",
       "      <td>Avidagos</td>\n",
       "      <td>87</td>\n",
       "      <td>15.0</td>\n",
       "      <td>Douro</td>\n",
       "      <td>NaN</td>\n",
       "      <td>NaN</td>\n",
       "      <td>Roger Voss</td>\n",
       "      <td>@vossroger</td>\n",
       "      <td>Quinta dos Avidagos 2011 Avidagos Red (Douro)</td>\n",
       "      <td>Portuguese Red</td>\n",
       "      <td>Quinta dos Avidagos</td>\n",
       "    </tr>\n",
       "    <tr>\n",
       "      <th>2</th>\n",
       "      <td>US</td>\n",
       "      <td>Tart and snappy, the flavors of lime flesh and...</td>\n",
       "      <td>NaN</td>\n",
       "      <td>87</td>\n",
       "      <td>14.0</td>\n",
       "      <td>Oregon</td>\n",
       "      <td>Willamette Valley</td>\n",
       "      <td>Willamette Valley</td>\n",
       "      <td>Paul Gregutt</td>\n",
       "      <td>@paulgwine</td>\n",
       "      <td>Rainstorm 2013 Pinot Gris (Willamette Valley)</td>\n",
       "      <td>Pinot Gris</td>\n",
       "      <td>Rainstorm</td>\n",
       "    </tr>\n",
       "  </tbody>\n",
       "</table>\n",
       "</div>"
      ],
      "text/plain": [
       "          country                                        description  \\\n",
       "wine_id                                                                \n",
       "0           Italy  Aromas include tropical fruit, broom, brimston...   \n",
       "1        Portugal  This is ripe and fruity, a wine that is smooth...   \n",
       "2              US  Tart and snappy, the flavors of lime flesh and...   \n",
       "\n",
       "          designation  points  price           province           region_1  \\\n",
       "wine_id                                                                      \n",
       "0        Vulkà Bianco      87    NaN  Sicily & Sardinia               Etna   \n",
       "1            Avidagos      87   15.0              Douro                NaN   \n",
       "2                 NaN      87   14.0             Oregon  Willamette Valley   \n",
       "\n",
       "                  region_2    taster_name taster_twitter_handle  \\\n",
       "wine_id                                                           \n",
       "0                      NaN  Kerin O’Keefe          @kerinokeefe   \n",
       "1                      NaN     Roger Voss            @vossroger   \n",
       "2        Willamette Valley   Paul Gregutt           @paulgwine    \n",
       "\n",
       "                                                 title         variety  \\\n",
       "wine_id                                                                  \n",
       "0                    Nicosia 2013 Vulkà Bianco  (Etna)     White Blend   \n",
       "1        Quinta dos Avidagos 2011 Avidagos Red (Douro)  Portuguese Red   \n",
       "2        Rainstorm 2013 Pinot Gris (Willamette Valley)      Pinot Gris   \n",
       "\n",
       "                      winery  \n",
       "wine_id                       \n",
       "0                    Nicosia  \n",
       "1        Quinta dos Avidagos  \n",
       "2                  Rainstorm  "
      ]
     },
     "execution_count": 2,
     "metadata": {},
     "output_type": "execute_result"
    }
   ],
   "source": [
    "df.head(3)"
   ]
  },
  {
   "cell_type": "markdown",
   "metadata": {},
   "source": [
    "### getting the last 2 rows"
   ]
  },
  {
   "cell_type": "code",
   "execution_count": 3,
   "metadata": {
    "collapsed": true,
    "jupyter": {
     "outputs_hidden": true
    }
   },
   "outputs": [
    {
     "data": {
      "text/html": [
       "<div>\n",
       "<style scoped>\n",
       "    .dataframe tbody tr th:only-of-type {\n",
       "        vertical-align: middle;\n",
       "    }\n",
       "\n",
       "    .dataframe tbody tr th {\n",
       "        vertical-align: top;\n",
       "    }\n",
       "\n",
       "    .dataframe thead th {\n",
       "        text-align: right;\n",
       "    }\n",
       "</style>\n",
       "<table border=\"1\" class=\"dataframe\">\n",
       "  <thead>\n",
       "    <tr style=\"text-align: right;\">\n",
       "      <th></th>\n",
       "      <th>country</th>\n",
       "      <th>description</th>\n",
       "      <th>designation</th>\n",
       "      <th>points</th>\n",
       "      <th>price</th>\n",
       "      <th>province</th>\n",
       "      <th>region_1</th>\n",
       "      <th>region_2</th>\n",
       "      <th>taster_name</th>\n",
       "      <th>taster_twitter_handle</th>\n",
       "      <th>title</th>\n",
       "      <th>variety</th>\n",
       "      <th>winery</th>\n",
       "    </tr>\n",
       "    <tr>\n",
       "      <th>wine_id</th>\n",
       "      <th></th>\n",
       "      <th></th>\n",
       "      <th></th>\n",
       "      <th></th>\n",
       "      <th></th>\n",
       "      <th></th>\n",
       "      <th></th>\n",
       "      <th></th>\n",
       "      <th></th>\n",
       "      <th></th>\n",
       "      <th></th>\n",
       "      <th></th>\n",
       "      <th></th>\n",
       "    </tr>\n",
       "  </thead>\n",
       "  <tbody>\n",
       "    <tr>\n",
       "      <th>129969</th>\n",
       "      <td>France</td>\n",
       "      <td>A dry style of Pinot Gris, this is crisp with ...</td>\n",
       "      <td>NaN</td>\n",
       "      <td>90</td>\n",
       "      <td>32.0</td>\n",
       "      <td>Alsace</td>\n",
       "      <td>Alsace</td>\n",
       "      <td>NaN</td>\n",
       "      <td>Roger Voss</td>\n",
       "      <td>@vossroger</td>\n",
       "      <td>Domaine Marcel Deiss 2012 Pinot Gris (Alsace)</td>\n",
       "      <td>Pinot Gris</td>\n",
       "      <td>Domaine Marcel Deiss</td>\n",
       "    </tr>\n",
       "    <tr>\n",
       "      <th>129970</th>\n",
       "      <td>France</td>\n",
       "      <td>Big, rich and off-dry, this is powered by inte...</td>\n",
       "      <td>Lieu-dit Harth Cuvée Caroline</td>\n",
       "      <td>90</td>\n",
       "      <td>21.0</td>\n",
       "      <td>Alsace</td>\n",
       "      <td>Alsace</td>\n",
       "      <td>NaN</td>\n",
       "      <td>Roger Voss</td>\n",
       "      <td>@vossroger</td>\n",
       "      <td>Domaine Schoffit 2012 Lieu-dit Harth Cuvée Car...</td>\n",
       "      <td>Gewürztraminer</td>\n",
       "      <td>Domaine Schoffit</td>\n",
       "    </tr>\n",
       "  </tbody>\n",
       "</table>\n",
       "</div>"
      ],
      "text/plain": [
       "        country                                        description  \\\n",
       "wine_id                                                              \n",
       "129969   France  A dry style of Pinot Gris, this is crisp with ...   \n",
       "129970   France  Big, rich and off-dry, this is powered by inte...   \n",
       "\n",
       "                           designation  points  price province region_1  \\\n",
       "wine_id                                                                   \n",
       "129969                             NaN      90   32.0   Alsace   Alsace   \n",
       "129970   Lieu-dit Harth Cuvée Caroline      90   21.0   Alsace   Alsace   \n",
       "\n",
       "        region_2 taster_name taster_twitter_handle  \\\n",
       "wine_id                                              \n",
       "129969       NaN  Roger Voss            @vossroger   \n",
       "129970       NaN  Roger Voss            @vossroger   \n",
       "\n",
       "                                                     title         variety  \\\n",
       "wine_id                                                                      \n",
       "129969       Domaine Marcel Deiss 2012 Pinot Gris (Alsace)      Pinot Gris   \n",
       "129970   Domaine Schoffit 2012 Lieu-dit Harth Cuvée Car...  Gewürztraminer   \n",
       "\n",
       "                       winery  \n",
       "wine_id                        \n",
       "129969   Domaine Marcel Deiss  \n",
       "129970       Domaine Schoffit  "
      ]
     },
     "execution_count": 3,
     "metadata": {},
     "output_type": "execute_result"
    }
   ],
   "source": [
    "df.tail(2)"
   ]
  },
  {
   "cell_type": "markdown",
   "metadata": {},
   "source": [
    "### getting a random sample of 5 rows"
   ]
  },
  {
   "cell_type": "code",
   "execution_count": 4,
   "metadata": {
    "collapsed": true,
    "jupyter": {
     "outputs_hidden": true
    }
   },
   "outputs": [
    {
     "data": {
      "text/html": [
       "<div>\n",
       "<style scoped>\n",
       "    .dataframe tbody tr th:only-of-type {\n",
       "        vertical-align: middle;\n",
       "    }\n",
       "\n",
       "    .dataframe tbody tr th {\n",
       "        vertical-align: top;\n",
       "    }\n",
       "\n",
       "    .dataframe thead th {\n",
       "        text-align: right;\n",
       "    }\n",
       "</style>\n",
       "<table border=\"1\" class=\"dataframe\">\n",
       "  <thead>\n",
       "    <tr style=\"text-align: right;\">\n",
       "      <th></th>\n",
       "      <th>country</th>\n",
       "      <th>description</th>\n",
       "      <th>designation</th>\n",
       "      <th>points</th>\n",
       "      <th>price</th>\n",
       "      <th>province</th>\n",
       "      <th>region_1</th>\n",
       "      <th>region_2</th>\n",
       "      <th>taster_name</th>\n",
       "      <th>taster_twitter_handle</th>\n",
       "      <th>title</th>\n",
       "      <th>variety</th>\n",
       "      <th>winery</th>\n",
       "    </tr>\n",
       "    <tr>\n",
       "      <th>wine_id</th>\n",
       "      <th></th>\n",
       "      <th></th>\n",
       "      <th></th>\n",
       "      <th></th>\n",
       "      <th></th>\n",
       "      <th></th>\n",
       "      <th></th>\n",
       "      <th></th>\n",
       "      <th></th>\n",
       "      <th></th>\n",
       "      <th></th>\n",
       "      <th></th>\n",
       "      <th></th>\n",
       "    </tr>\n",
       "  </thead>\n",
       "  <tbody>\n",
       "    <tr>\n",
       "      <th>75909</th>\n",
       "      <td>US</td>\n",
       "      <td>From both  Pommard and Calera clones, this Pin...</td>\n",
       "      <td>The Engineer Romanini Vineyard</td>\n",
       "      <td>91</td>\n",
       "      <td>36.0</td>\n",
       "      <td>California</td>\n",
       "      <td>Sonoma Coast</td>\n",
       "      <td>Sonoma</td>\n",
       "      <td>Virginie Boone</td>\n",
       "      <td>@vboone</td>\n",
       "      <td>Ernest 2012 The Engineer Romanini Vineyard Pin...</td>\n",
       "      <td>Pinot Noir</td>\n",
       "      <td>Ernest</td>\n",
       "    </tr>\n",
       "    <tr>\n",
       "      <th>44154</th>\n",
       "      <td>Germany</td>\n",
       "      <td>This is a big, broad-shouldered Riesling, with...</td>\n",
       "      <td>Silberlack Erstes Gewächs</td>\n",
       "      <td>92</td>\n",
       "      <td>77.0</td>\n",
       "      <td>Rheingau</td>\n",
       "      <td>NaN</td>\n",
       "      <td>NaN</td>\n",
       "      <td>Joe Czerwinski</td>\n",
       "      <td>@JoeCz</td>\n",
       "      <td>Schloss Johannisberger 2006 Silberlack Erstes ...</td>\n",
       "      <td>Riesling</td>\n",
       "      <td>Schloss Johannisberger</td>\n",
       "    </tr>\n",
       "    <tr>\n",
       "      <th>5926</th>\n",
       "      <td>US</td>\n",
       "      <td>The berry, herb and coffee aromas are light an...</td>\n",
       "      <td>Fred Estate</td>\n",
       "      <td>88</td>\n",
       "      <td>45.0</td>\n",
       "      <td>Washington</td>\n",
       "      <td>Walla Walla Valley (WA)</td>\n",
       "      <td>Columbia Valley</td>\n",
       "      <td>Sean P. Sullivan</td>\n",
       "      <td>@wawinereport</td>\n",
       "      <td>àMaurice 2014 Fred Estate Syrah (Walla Walla V...</td>\n",
       "      <td>Syrah</td>\n",
       "      <td>àMaurice</td>\n",
       "    </tr>\n",
       "    <tr>\n",
       "      <th>104150</th>\n",
       "      <td>US</td>\n",
       "      <td>Way too sweet for a table wine that's supposed...</td>\n",
       "      <td>NaN</td>\n",
       "      <td>83</td>\n",
       "      <td>30.0</td>\n",
       "      <td>California</td>\n",
       "      <td>Monterey</td>\n",
       "      <td>Central Coast</td>\n",
       "      <td>NaN</td>\n",
       "      <td>NaN</td>\n",
       "      <td>Pianetta 2008 Cabernet Sauvignon (Monterey)</td>\n",
       "      <td>Cabernet Sauvignon</td>\n",
       "      <td>Pianetta</td>\n",
       "    </tr>\n",
       "    <tr>\n",
       "      <th>37445</th>\n",
       "      <td>US</td>\n",
       "      <td>Shafer's Cabernet is so dominant, it's sometim...</td>\n",
       "      <td>NaN</td>\n",
       "      <td>91</td>\n",
       "      <td>46.0</td>\n",
       "      <td>California</td>\n",
       "      <td>Napa Valley</td>\n",
       "      <td>Napa</td>\n",
       "      <td>NaN</td>\n",
       "      <td>NaN</td>\n",
       "      <td>Shafer 2005 Merlot (Napa Valley)</td>\n",
       "      <td>Merlot</td>\n",
       "      <td>Shafer</td>\n",
       "    </tr>\n",
       "  </tbody>\n",
       "</table>\n",
       "</div>"
      ],
      "text/plain": [
       "         country                                        description  \\\n",
       "wine_id                                                               \n",
       "75909         US  From both  Pommard and Calera clones, this Pin...   \n",
       "44154    Germany  This is a big, broad-shouldered Riesling, with...   \n",
       "5926          US  The berry, herb and coffee aromas are light an...   \n",
       "104150        US  Way too sweet for a table wine that's supposed...   \n",
       "37445         US  Shafer's Cabernet is so dominant, it's sometim...   \n",
       "\n",
       "                            designation  points  price    province  \\\n",
       "wine_id                                                              \n",
       "75909    The Engineer Romanini Vineyard      91   36.0  California   \n",
       "44154         Silberlack Erstes Gewächs      92   77.0    Rheingau   \n",
       "5926                        Fred Estate      88   45.0  Washington   \n",
       "104150                              NaN      83   30.0  California   \n",
       "37445                               NaN      91   46.0  California   \n",
       "\n",
       "                        region_1         region_2       taster_name  \\\n",
       "wine_id                                                               \n",
       "75909               Sonoma Coast           Sonoma    Virginie Boone   \n",
       "44154                        NaN              NaN    Joe Czerwinski   \n",
       "5926     Walla Walla Valley (WA)  Columbia Valley  Sean P. Sullivan   \n",
       "104150                  Monterey    Central Coast               NaN   \n",
       "37445                Napa Valley             Napa               NaN   \n",
       "\n",
       "        taster_twitter_handle  \\\n",
       "wine_id                         \n",
       "75909                 @vboone   \n",
       "44154                  @JoeCz   \n",
       "5926            @wawinereport   \n",
       "104150                    NaN   \n",
       "37445                     NaN   \n",
       "\n",
       "                                                     title  \\\n",
       "wine_id                                                      \n",
       "75909    Ernest 2012 The Engineer Romanini Vineyard Pin...   \n",
       "44154    Schloss Johannisberger 2006 Silberlack Erstes ...   \n",
       "5926     àMaurice 2014 Fred Estate Syrah (Walla Walla V...   \n",
       "104150         Pianetta 2008 Cabernet Sauvignon (Monterey)   \n",
       "37445                     Shafer 2005 Merlot (Napa Valley)   \n",
       "\n",
       "                    variety                  winery  \n",
       "wine_id                                              \n",
       "75909            Pinot Noir                  Ernest  \n",
       "44154              Riesling  Schloss Johannisberger  \n",
       "5926                  Syrah                àMaurice  \n",
       "104150   Cabernet Sauvignon                Pianetta  \n",
       "37445                Merlot                  Shafer  "
      ]
     },
     "execution_count": 4,
     "metadata": {},
     "output_type": "execute_result"
    }
   ],
   "source": [
    "df.sample(5)"
   ]
  },
  {
   "cell_type": "markdown",
   "metadata": {},
   "source": [
    "### getting the number of rows and columns"
   ]
  },
  {
   "cell_type": "code",
   "execution_count": 5,
   "metadata": {
    "collapsed": true,
    "jupyter": {
     "outputs_hidden": true
    }
   },
   "outputs": [
    {
     "data": {
      "text/plain": [
       "(129971, 13)"
      ]
     },
     "execution_count": 5,
     "metadata": {},
     "output_type": "execute_result"
    }
   ],
   "source": [
    "df.shape"
   ]
  },
  {
   "cell_type": "markdown",
   "metadata": {},
   "source": [
    "### getting the columns (labels)"
   ]
  },
  {
   "cell_type": "code",
   "execution_count": 9,
   "metadata": {
    "collapsed": true,
    "jupyter": {
     "outputs_hidden": true
    }
   },
   "outputs": [
    {
     "data": {
      "text/plain": [
       "Index(['country', 'description', 'designation', 'points', 'price', 'province',\n",
       "       'region_1', 'region_2', 'taster_name', 'taster_twitter_handle', 'title',\n",
       "       'variety', 'winery'],\n",
       "      dtype='object')"
      ]
     },
     "execution_count": 9,
     "metadata": {},
     "output_type": "execute_result"
    }
   ],
   "source": [
    "df.columns"
   ]
  },
  {
   "cell_type": "markdown",
   "metadata": {},
   "source": [
    "### getting the index (row labels)"
   ]
  },
  {
   "cell_type": "code",
   "execution_count": 10,
   "metadata": {
    "collapsed": true,
    "jupyter": {
     "outputs_hidden": true
    }
   },
   "outputs": [
    {
     "data": {
      "text/plain": [
       "Int64Index([     0,      1,      2,      3,      4,      5,      6,      7,\n",
       "                 8,      9,\n",
       "            ...\n",
       "            129961, 129962, 129963, 129964, 129965, 129966, 129967, 129968,\n",
       "            129969, 129970],\n",
       "           dtype='int64', name='wine_id', length=129971)"
      ]
     },
     "execution_count": 10,
     "metadata": {},
     "output_type": "execute_result"
    }
   ],
   "source": [
    "df.index"
   ]
  },
  {
   "cell_type": "markdown",
   "metadata": {},
   "source": [
    "### shows the statistics of the numeric variables"
   ]
  },
  {
   "cell_type": "code",
   "execution_count": 6,
   "metadata": {},
   "outputs": [
    {
     "data": {
      "text/html": [
       "<div>\n",
       "<style scoped>\n",
       "    .dataframe tbody tr th:only-of-type {\n",
       "        vertical-align: middle;\n",
       "    }\n",
       "\n",
       "    .dataframe tbody tr th {\n",
       "        vertical-align: top;\n",
       "    }\n",
       "\n",
       "    .dataframe thead th {\n",
       "        text-align: right;\n",
       "    }\n",
       "</style>\n",
       "<table border=\"1\" class=\"dataframe\">\n",
       "  <thead>\n",
       "    <tr style=\"text-align: right;\">\n",
       "      <th></th>\n",
       "      <th>points</th>\n",
       "      <th>price</th>\n",
       "    </tr>\n",
       "  </thead>\n",
       "  <tbody>\n",
       "    <tr>\n",
       "      <th>count</th>\n",
       "      <td>129971.000000</td>\n",
       "      <td>120975.000000</td>\n",
       "    </tr>\n",
       "    <tr>\n",
       "      <th>mean</th>\n",
       "      <td>88.447138</td>\n",
       "      <td>35.363389</td>\n",
       "    </tr>\n",
       "    <tr>\n",
       "      <th>std</th>\n",
       "      <td>3.039730</td>\n",
       "      <td>41.022218</td>\n",
       "    </tr>\n",
       "    <tr>\n",
       "      <th>min</th>\n",
       "      <td>80.000000</td>\n",
       "      <td>4.000000</td>\n",
       "    </tr>\n",
       "    <tr>\n",
       "      <th>25%</th>\n",
       "      <td>86.000000</td>\n",
       "      <td>17.000000</td>\n",
       "    </tr>\n",
       "    <tr>\n",
       "      <th>50%</th>\n",
       "      <td>88.000000</td>\n",
       "      <td>25.000000</td>\n",
       "    </tr>\n",
       "    <tr>\n",
       "      <th>75%</th>\n",
       "      <td>91.000000</td>\n",
       "      <td>42.000000</td>\n",
       "    </tr>\n",
       "    <tr>\n",
       "      <th>max</th>\n",
       "      <td>100.000000</td>\n",
       "      <td>3300.000000</td>\n",
       "    </tr>\n",
       "  </tbody>\n",
       "</table>\n",
       "</div>"
      ],
      "text/plain": [
       "              points          price\n",
       "count  129971.000000  120975.000000\n",
       "mean       88.447138      35.363389\n",
       "std         3.039730      41.022218\n",
       "min        80.000000       4.000000\n",
       "25%        86.000000      17.000000\n",
       "50%        88.000000      25.000000\n",
       "75%        91.000000      42.000000\n",
       "max       100.000000    3300.000000"
      ]
     },
     "execution_count": 6,
     "metadata": {},
     "output_type": "execute_result"
    }
   ],
   "source": [
    "df.describe()\n",
    "\n",
    "# same as:\n",
    "# df.select_dtypes(include='number').describe()"
   ]
  },
  {
   "cell_type": "markdown",
   "metadata": {},
   "source": [
    "### ***EXERCISE 3.1***\n",
    "Get a DataFrame with just `count` and `mean` (first 2 rows) of the numeric columns"
   ]
  },
  {
   "cell_type": "code",
   "execution_count": null,
   "metadata": {},
   "outputs": [],
   "source": [
    "# insert solution here"
   ]
  },
  {
   "cell_type": "markdown",
   "metadata": {},
   "source": [
    "### shows the statistics of the non-numeric variables"
   ]
  },
  {
   "cell_type": "code",
   "execution_count": 7,
   "metadata": {
    "collapsed": true,
    "jupyter": {
     "outputs_hidden": true
    }
   },
   "outputs": [
    {
     "data": {
      "text/html": [
       "<div>\n",
       "<style scoped>\n",
       "    .dataframe tbody tr th:only-of-type {\n",
       "        vertical-align: middle;\n",
       "    }\n",
       "\n",
       "    .dataframe tbody tr th {\n",
       "        vertical-align: top;\n",
       "    }\n",
       "\n",
       "    .dataframe thead th {\n",
       "        text-align: right;\n",
       "    }\n",
       "</style>\n",
       "<table border=\"1\" class=\"dataframe\">\n",
       "  <thead>\n",
       "    <tr style=\"text-align: right;\">\n",
       "      <th></th>\n",
       "      <th>country</th>\n",
       "      <th>description</th>\n",
       "      <th>designation</th>\n",
       "      <th>province</th>\n",
       "      <th>region_1</th>\n",
       "      <th>region_2</th>\n",
       "      <th>taster_name</th>\n",
       "      <th>taster_twitter_handle</th>\n",
       "      <th>title</th>\n",
       "      <th>variety</th>\n",
       "      <th>winery</th>\n",
       "    </tr>\n",
       "  </thead>\n",
       "  <tbody>\n",
       "    <tr>\n",
       "      <th>count</th>\n",
       "      <td>129908</td>\n",
       "      <td>129971</td>\n",
       "      <td>92506</td>\n",
       "      <td>129908</td>\n",
       "      <td>108724</td>\n",
       "      <td>50511</td>\n",
       "      <td>103727</td>\n",
       "      <td>98758</td>\n",
       "      <td>129971</td>\n",
       "      <td>129970</td>\n",
       "      <td>129971</td>\n",
       "    </tr>\n",
       "    <tr>\n",
       "      <th>unique</th>\n",
       "      <td>43</td>\n",
       "      <td>119955</td>\n",
       "      <td>37979</td>\n",
       "      <td>425</td>\n",
       "      <td>1229</td>\n",
       "      <td>17</td>\n",
       "      <td>19</td>\n",
       "      <td>15</td>\n",
       "      <td>118840</td>\n",
       "      <td>707</td>\n",
       "      <td>16757</td>\n",
       "    </tr>\n",
       "    <tr>\n",
       "      <th>top</th>\n",
       "      <td>US</td>\n",
       "      <td>Gravenstein apple, honeysuckle and jasmine aro...</td>\n",
       "      <td>Reserve</td>\n",
       "      <td>California</td>\n",
       "      <td>Napa Valley</td>\n",
       "      <td>Central Coast</td>\n",
       "      <td>Roger Voss</td>\n",
       "      <td>@vossroger</td>\n",
       "      <td>Gloria Ferrer NV Sonoma Brut Sparkling (Sonoma...</td>\n",
       "      <td>Pinot Noir</td>\n",
       "      <td>Wines &amp; Winemakers</td>\n",
       "    </tr>\n",
       "    <tr>\n",
       "      <th>freq</th>\n",
       "      <td>54504</td>\n",
       "      <td>3</td>\n",
       "      <td>2009</td>\n",
       "      <td>36247</td>\n",
       "      <td>4480</td>\n",
       "      <td>11065</td>\n",
       "      <td>25514</td>\n",
       "      <td>25514</td>\n",
       "      <td>11</td>\n",
       "      <td>13272</td>\n",
       "      <td>222</td>\n",
       "    </tr>\n",
       "  </tbody>\n",
       "</table>\n",
       "</div>"
      ],
      "text/plain": [
       "       country                                        description designation  \\\n",
       "count   129908                                             129971       92506   \n",
       "unique      43                                             119955       37979   \n",
       "top         US  Gravenstein apple, honeysuckle and jasmine aro...     Reserve   \n",
       "freq     54504                                                  3        2009   \n",
       "\n",
       "          province     region_1       region_2 taster_name  \\\n",
       "count       129908       108724          50511      103727   \n",
       "unique         425         1229             17          19   \n",
       "top     California  Napa Valley  Central Coast  Roger Voss   \n",
       "freq         36247         4480          11065       25514   \n",
       "\n",
       "       taster_twitter_handle  \\\n",
       "count                  98758   \n",
       "unique                    15   \n",
       "top               @vossroger   \n",
       "freq                   25514   \n",
       "\n",
       "                                                    title     variety  \\\n",
       "count                                              129971      129970   \n",
       "unique                                             118840         707   \n",
       "top     Gloria Ferrer NV Sonoma Brut Sparkling (Sonoma...  Pinot Noir   \n",
       "freq                                                   11       13272   \n",
       "\n",
       "                    winery  \n",
       "count               129971  \n",
       "unique               16757  \n",
       "top     Wines & Winemakers  \n",
       "freq                   222  "
      ]
     },
     "execution_count": 7,
     "metadata": {},
     "output_type": "execute_result"
    }
   ],
   "source": [
    "df.select_dtypes(exclude='number').describe()"
   ]
  },
  {
   "cell_type": "markdown",
   "metadata": {},
   "source": [
    "### showing the data type of each column (object, in this case, means string)"
   ]
  },
  {
   "cell_type": "code",
   "execution_count": 8,
   "metadata": {},
   "outputs": [
    {
     "data": {
      "text/plain": [
       "country                   object\n",
       "description               object\n",
       "designation               object\n",
       "points                     int64\n",
       "price                    float64\n",
       "province                  object\n",
       "region_1                  object\n",
       "region_2                  object\n",
       "taster_name               object\n",
       "taster_twitter_handle     object\n",
       "title                     object\n",
       "variety                   object\n",
       "winery                    object\n",
       "dtype: object"
      ]
     },
     "execution_count": 8,
     "metadata": {},
     "output_type": "execute_result"
    }
   ],
   "source": [
    "df.dtypes"
   ]
  },
  {
   "cell_type": "markdown",
   "metadata": {},
   "source": [
    "# Series exploration"
   ]
  },
  {
   "cell_type": "markdown",
   "metadata": {},
   "source": [
    "### selecting a single column"
   ]
  },
  {
   "cell_type": "code",
   "execution_count": 24,
   "metadata": {},
   "outputs": [],
   "source": [
    "wine_variety = df['variety']"
   ]
  },
  {
   "cell_type": "markdown",
   "metadata": {},
   "source": [
    "### checking the data type of the variable wine_country"
   ]
  },
  {
   "cell_type": "code",
   "execution_count": 25,
   "metadata": {},
   "outputs": [
    {
     "data": {
      "text/plain": [
       "pandas.core.series.Series"
      ]
     },
     "execution_count": 25,
     "metadata": {},
     "output_type": "execute_result"
    }
   ],
   "source": [
    "type(wine_variety)"
   ]
  },
  {
   "cell_type": "markdown",
   "metadata": {},
   "source": [
    "### getting unique values"
   ]
  },
  {
   "cell_type": "code",
   "execution_count": 26,
   "metadata": {},
   "outputs": [
    {
     "data": {
      "text/plain": [
       "array(['White Blend', 'Portuguese Red', 'Pinot Gris', 'Riesling',\n",
       "       'Pinot Noir', 'Tempranillo-Merlot', 'Frappato', 'Gewürztraminer',\n",
       "       'Cabernet Sauvignon', 'Nerello Mascalese', 'Chardonnay', 'Malbec',\n",
       "       'Tempranillo Blend', 'Meritage', 'Red Blend', 'Merlot',\n",
       "       \"Nero d'Avola\", 'Chenin Blanc', 'Gamay', 'Sauvignon Blanc',\n",
       "       'Viognier-Chardonnay', 'Primitivo', 'Catarratto', 'Inzolia',\n",
       "       'Petit Verdot', 'Monica', 'Bordeaux-style White Blend', 'Grillo',\n",
       "       'Sangiovese', 'Cabernet Franc', 'Champagne Blend',\n",
       "       'Bordeaux-style Red Blend', 'Aglianico', 'Petite Sirah',\n",
       "       'Touriga Nacional', 'Carmenère', 'Albariño', 'Petit Manseng',\n",
       "       'Rosé', 'Zinfandel', 'Vernaccia', 'Rosato', 'Grüner Veltliner',\n",
       "       'Viognier', 'Vermentino', 'Grenache Blanc', 'Syrah', 'Nebbiolo',\n",
       "       'Shiraz-Cabernet Sauvignon', 'Pinot Blanc', 'Alsace white blend',\n",
       "       'Barbera', 'Rhône-style Red Blend', 'Portuguese White', 'Graciano',\n",
       "       'Tannat-Cabernet', 'Sauvignon', 'Sangiovese Grosso', 'Torrontés',\n",
       "       'Prugnolo Gentile', 'G-S-M', 'Verdejo', 'Fumé Blanc', 'Furmint',\n",
       "       'Pinot Bianco', 'Bonarda', 'Shiraz', 'Montepulciano', 'Moscato',\n",
       "       'Grenache', 'Ugni Blanc-Colombard', 'Syrah-Viognier',\n",
       "       'Blaufränkisch', 'Friulano', 'Assyrtico', 'Carignan-Grenache',\n",
       "       'Sagrantino', 'Savagnin', 'Cabernet Sauvignon-Syrah', 'Prosecco',\n",
       "       'Vignoles', 'Sparkling Blend', 'Muscat', 'Muscadelle',\n",
       "       'Shiraz-Viognier', 'Garganega', 'Pinot Grigio', 'Tempranillo',\n",
       "       'Zierfandler', 'Cortese', 'Mencía', 'Zweigelt', 'Melon',\n",
       "       'Rhône-style White Blend', 'Vidal', 'Cannonau', 'Verdelho',\n",
       "       'Marsanne', 'Scheurebe', 'Kerner', 'Syrah-Grenache', 'Dolcetto',\n",
       "       'Vilana', 'Glera', 'Viura', 'Garnacha Tintorera', 'Pinot Nero',\n",
       "       'Roter Veltliner', 'Pinotage', 'Sémillon', 'Pinot Noir-Gamay',\n",
       "       'Antão Vaz', 'Cabernet Sauvignon-Carmenère', 'Verdejo-Viura',\n",
       "       'Verduzzo', 'Verdicchio', 'Silvaner', 'Colombard', 'Carricante',\n",
       "       'Sylvaner', 'Fiano', 'Früburgunder', 'Sousão', 'Roussanne',\n",
       "       'Avesso', 'Cinsault', 'Chinuri', 'Tinta Miúda',\n",
       "       'Muscat Blanc à Petits Grains', 'Portuguese Sparkling',\n",
       "       'Monastrell', 'Xarel-lo', 'Greco', 'Trebbiano',\n",
       "       'Corvina, Rondinella, Molinara', 'Port', 'Chenin Blanc-Chardonnay',\n",
       "       'Insolia', 'Merlot-Malbec', 'Ribolla Gialla',\n",
       "       'Cabernet Sauvignon-Merlot', 'Duras', 'Weissburgunder', 'Roditis',\n",
       "       'Traminer', 'Papaskarasi', 'Tannat-Syrah', 'Marsanne-Roussanne',\n",
       "       'Charbono', 'Merlot-Argaman', 'Prié Blanc', 'Sherry',\n",
       "       'Provence red blend', 'Tannat', 'Zibibbo', 'Falanghina',\n",
       "       'Garnacha', 'Negroamaro', 'Mourvèdre', 'Syrah-Cabernet',\n",
       "       'Müller-Thurgau', 'Pinot Meunier', 'Cabernet Sauvignon-Sangiovese',\n",
       "       'Austrian Red Blend', 'Teroldego', 'Pansa Blanca',\n",
       "       'Muskat Ottonel', 'Sauvignon Blanc-Semillon', 'Claret',\n",
       "       'Semillon-Sauvignon Blanc', 'Bical', 'Moscatel', 'Rosado',\n",
       "       'Viura-Chardonnay', 'Baga', 'Malvasia Bianca',\n",
       "       'Gelber Muskateller', 'Malbec-Merlot', 'Monastrell-Syrah',\n",
       "       'Malbec-Tannat', 'Malbec-Cabernet Franc', 'Turbiana', 'Refosco',\n",
       "       'Alvarinho', 'Manzoni', 'Aragonês', 'Agiorgitiko', 'Malagousia',\n",
       "       'Assyrtiko', 'Ruché', 'Welschriesling', 'Tinta de Toro',\n",
       "       'Cabernet Moravia', 'Rieslaner', 'Traminette', 'Chambourcin',\n",
       "       'Nero di Troia', 'Lambrusco di Sorbara', 'Cesanese',\n",
       "       'Feteasca Neagra', 'Lagrein', 'Tinta Fina', 'St. Laurent',\n",
       "       'Marsanne-Viognier', 'Cabernet Sauvignon-Shiraz',\n",
       "       'Syrah-Cabernet Sauvignon', 'Gewürztraminer-Riesling',\n",
       "       'Pugnitello', 'Cerceal', 'Touriga Nacional Blend',\n",
       "       'Austrian white blend', 'Tocai', 'Tinta Roriz',\n",
       "       'Chardonnay-Viognier', 'Fernão Pires',\n",
       "       'Cabernet Franc-Cabernet Sauvignon', 'Grenache-Syrah',\n",
       "       'Seyval Blanc', 'Muscat Canelli', 'Cabernet Merlot',\n",
       "       'Tempranillo-Cabernet Sauvignon', 'Arinto', 'Aragonez',\n",
       "       'Merlot-Cabernet Franc', 'Syrah-Petite Sirah', 'Cabernet Blend',\n",
       "       'Maturana', 'Pecorino', 'Rotgipfler', 'Kinali Yapincak',\n",
       "       'Cabernet Franc-Carmenère', 'Magliocco', 'Gamay Noir',\n",
       "       'Sauvignon Gris', 'Spätburgunder', 'Picpoul', 'Vidal Blanc',\n",
       "       'Albanello', 'White Port', 'Arneis', 'Malvasia', 'Plavac Mali',\n",
       "       'Lemberger', 'Saperavi', 'Altesse', 'Blanc du Bois',\n",
       "       'Provence white blend', 'Nosiola', 'Dornfelder',\n",
       "       'Roussanne-Viognier', 'Ojaleshi', 'Godello', 'Mondeuse',\n",
       "       'Perricone', 'Pedro Ximénez', 'Auxerrois', 'Syrah-Merlot',\n",
       "       'Albana', 'Muskat', 'Lambrusco', 'Cabernet Sauvignon-Malbec',\n",
       "       'Tinto Fino', 'Malbec-Cabernet Sauvignon', 'Moschofilero',\n",
       "       'Grechetto', 'Encruzado', 'Carignano', 'Cabernet Franc-Merlot',\n",
       "       'Torbato', 'Syrah-Petit Verdot', 'Garnacha Blanca', 'Pallagrello',\n",
       "       'Morava', 'Syrah-Mourvèdre', 'Aleatico', 'Carcajolu', 'Kisi',\n",
       "       'Shiraz-Grenache', 'Palomino', 'Grenache-Carignan', 'Nascetta',\n",
       "       'Siria', 'Malbec-Syrah', 'Asprinio', 'Feteascǎ Regalǎ',\n",
       "       'Lambrusco Grasparossa', 'Marselan', 'Tocai Friulano', 'Schiava',\n",
       "       'Alfrocheiro', 'Chardonnay-Semillon', 'Corvina', 'Norton',\n",
       "       'Alicante Bouschet', 'Tokaji', 'Moscadello',\n",
       "       'Cabernet Sauvignon-Tempranillo', 'Carignan', 'Loureiro-Arinto',\n",
       "       'Cabernet-Syrah', 'Sauvignon Blanc-Chardonnay', 'Symphony',\n",
       "       'Edelzwicker', 'Madeira Blend', 'Black Muscat', 'Grenache Noir',\n",
       "       'Durella', 'Xinomavro', 'Tinto del Pais',\n",
       "       'Merlot-Cabernet Sauvignon', 'Cercial', 'Johannisberg Riesling',\n",
       "       'Petite Verdot', 'Passerina', 'Valdiguié',\n",
       "       'Colombard-Sauvignon Blanc', 'Kangoun', 'Loureiro', 'Posip',\n",
       "       'Uva di Troia', 'Gros and Petit Manseng', 'Jacquère',\n",
       "       'Kalecik Karasi', 'Karasakiz', 'Mourvèdre-Syrah', 'Negrette',\n",
       "       'Zierfandler-Rotgipfler', 'Clairette', 'Raboso', 'País', 'Mauzac',\n",
       "       'Pinot Auxerrois', 'Chenin Blanc-Sauvignon Blanc', 'Diamond',\n",
       "       'Marzemino', 'Tinta Barroca', 'Chardonnay-Sauvignon Blanc',\n",
       "       'Castelão', 'Trebbiano Spoletino', 'Teran', 'Trepat', 'Freisa',\n",
       "       'Neuburger', 'Sämling', 'Chasselas', 'Hárslevelü', 'Trincadeira',\n",
       "       'Merlot-Tannat', 'Rkatsiteli', 'Melnik', 'Siegerrebe',\n",
       "       'Trousseau Gris', 'Grenache Blend', 'Gros Manseng',\n",
       "       'Portuguese Rosé', 'Brachetto', 'Mantonico', 'Ekigaïna',\n",
       "       'Muskateller', 'Aligoté', 'Sangiovese Cabernet',\n",
       "       'Touriga Nacional-Cabernet Sauvignon', 'Muscat Blanc', 'Argaman',\n",
       "       'Viognier-Roussanne', 'Pallagrello Bianco', 'Bobal',\n",
       "       'Malvasia Istriana', 'Cabernet Sauvignon-Cabernet Franc',\n",
       "       'Baco Noir', 'Veltliner', 'Tempranillo-Tannat', 'Morillon',\n",
       "       'Touriga Franca', 'Picolit', 'Barbera-Nebbiolo', 'Prieto Picudo',\n",
       "       'Gaglioppo', 'Tokay', 'Sacy', 'Piedirosso', 'Piquepoul Blanc',\n",
       "       'Mansois', 'Chardonnay-Sauvignon', 'Tempranillo-Garnacha',\n",
       "       'Carmenère-Cabernet Sauvignon', 'Chenin Blanc-Viognier',\n",
       "       'Susumaniello', 'Vitovska', 'Orange Muscat', 'Grauburgunder',\n",
       "       'Carignane', 'Moscatel Roxo', 'Tannat-Merlot', 'Nerello Cappuccio',\n",
       "       'Counoise', 'Macabeo', 'Mazuelo', 'Sauvignon-Sémillon',\n",
       "       'Tinta del Pais', 'Vranec', 'Mavrud', \"Cesanese d'Affile\",\n",
       "       'Moscato Giallo', 'Debit', 'Verdil', 'Cabernet',\n",
       "       'Verduzzo Friulano ', 'Treixadura', \"Loin de l'Oeil\",\n",
       "       'Coda di Volpe', 'Grenache-Mourvèdre', 'Forcallà', 'Viura-Verdejo',\n",
       "       'Bombino Bianco', 'Pinot-Chardonnay', 'Syrah-Tempranillo',\n",
       "       'Cabernet Sauvignon-Barbera', 'Merlot-Cabernet',\n",
       "       \"Muscat d'Alexandrie\", 'Jaen', 'Tinta del Toro', 'Timorasso',\n",
       "       'Pigato', 'Sangiovese-Cabernet Sauvignon', 'Shiraz-Cabernet',\n",
       "       'Viognier-Gewürztraminer', 'Prunelard',\n",
       "       'Sauvignon Blanc-Chenin Blanc', 'Gros Plant',\n",
       "       'Malbec-Petit Verdot', 'Colombard-Ugni Blanc', 'Grignolino',\n",
       "       'Garnacha-Syrah', 'Rufete', 'Tempranillo-Shiraz', 'Mtsvane',\n",
       "       'Chardonnay-Pinot Gris', 'Marawi', 'Chardonnay-Pinot Blanc',\n",
       "       'Mataro', 'Tinta Cao', 'Blauer Portugieser', 'Ugni Blanc',\n",
       "       'Groppello', 'Semillon-Chardonnay', 'Irsai Oliver', 'Alvarelhão',\n",
       "       'Poulsard', 'Grenache-Shiraz', 'Baga-Touriga Nacional', 'Carineña',\n",
       "       'Pignoletto', 'Muscatel', 'Mavrodaphne', 'Ciliegiolo',\n",
       "       'Viognier-Grenache Blanc', 'Greco Bianco',\n",
       "       'Cabernet Sauvignon-Merlot-Shiraz', 'Sciaccerellu', 'Zelen',\n",
       "       'Alicante', 'Emir', 'Rosenmuskateller', 'Tsolikouri', 'Narince',\n",
       "       'Malbec-Cabernet', 'Touriga', 'Grecanico', 'Carmenère-Syrah',\n",
       "       'Madeleine Angevine', 'Mavroudi', 'Pinot Blanc-Pinot Noir',\n",
       "       'Muscat Hamburg', 'Tempranillo Blanco', 'Casavecchia',\n",
       "       'Pinot Gris-Gewürztraminer', 'White Riesling', 'Tinto Velasco',\n",
       "       'Hondarrabi Zuri', 'Nuragus', 'Xynisteri', 'Kadarka',\n",
       "       'Sauvignon Musqué', 'Roussanne-Marsanne', 'Incrocio Manzoni',\n",
       "       'Terrantez', 'Bual', 'Okuzgozu', 'Rivaner', 'Doña Blanca',\n",
       "       'Graševina', 'Lambrusco Salamino', 'Sangiovese-Syrah',\n",
       "       'Tannat-Cabernet Franc', 'Thrapsathiri', 'Fer Servadou', 'Mission',\n",
       "       'Kekfrankos', 'Cococciola', 'Blauburgunder', 'Marquette',\n",
       "       'Romorantin', 'Verdejo-Sauvignon Blanc', 'Braucol',\n",
       "       'Malvasia-Viura', 'Savatiano', 'Cabernet Franc-Malbec',\n",
       "       'Pallagrello Nero', 'Rebula', 'Vespolina', 'Shiraz-Malbec', 'Rebo',\n",
       "       'Macabeo-Chardonnay', 'Tempranillo-Malbec', 'Tamjanika',\n",
       "       'Trousseau', 'Bacchus', 'Syrah-Malbec', 'Syrah-Cabernet Franc',\n",
       "       'Macabeo-Moscatel', 'Cariñena-Garnacha', 'Plyto',\n",
       "       'Códega do Larinho', 'Sideritis', 'Çalkarası', 'Azal',\n",
       "       'Moscatel Graúdo', 'Viosinho', 'Moschofilero-Chardonnay',\n",
       "       'Paralleda', 'Rara Neagra', 'Malvasia di Candia', 'Maria Gomes',\n",
       "       'Molinara', 'Malvar', 'Airen', 'Erbaluce', 'Muscat of Alexandria',\n",
       "       'Verdosilla', 'Abouriou', 'Pinot Noir-Syrah', 'Nielluciu',\n",
       "       'Malbec-Bonarda', 'Vespaiolo', 'Malbec-Carménère', 'Biancolella',\n",
       "       'Sauvignon Blanc-Verdejo', 'Aidani', 'Garnacha-Monastrell',\n",
       "       'Vinhão', 'Souzao', 'Roter Traminer', 'Moscatel de Alejandría',\n",
       "       'Rolle', 'Tinta Francisca', 'Malvasia Nera', 'Orangetraube',\n",
       "       'Riesling-Chardonnay', 'Žilavka', 'Portuguiser', 'Listán Negro',\n",
       "       'Pinotage-Merlot', 'Muscadine', 'Maria Gomes-Bical', 'Grolleau',\n",
       "       'Zlahtina', 'Syrah-Grenache-Viognier', 'Jacquez', 'Gouveio',\n",
       "       'Canaiolo', 'Carignan-Syrah', 'Bombino Nero',\n",
       "       'Chardonnay-Riesling', 'Malagouzia-Chardonnay', 'Mavrotragano',\n",
       "       'Bovale', 'Frankovka', 'Shiraz-Roussanne', 'Cabernet-Shiraz',\n",
       "       'Syrah-Carignan', 'Elbling', 'Gragnano', 'Garnacha Blend',\n",
       "       'Pinot Blanc-Chardonnay', 'Schwartzriesling', 'Petit Meslier',\n",
       "       'Bastardo', 'Vidadillo', 'Misket', 'Chardonnay Weissburgunder',\n",
       "       'Other', 'Robola', 'Merlot-Shiraz', 'Malagouzia', 'Folle Blanche',\n",
       "       'Malbec Blend', 'Merlot-Syrah', 'Tamianka', 'Cabernet Pfeffer',\n",
       "       'Morio Muskat', 'Rabigato', 'Babić', 'Roviello', 'Yapincak',\n",
       "       'Sauvignonasse', 'Viognier-Marsanne', 'Mandilaria', 'Meseguera',\n",
       "       'Alvarinho-Chardonnay', 'Saperavi-Merlot', 'Pinot Blanc-Viognier',\n",
       "       'Teroldego Rotaliano', 'Biancu Gentile', 'Garnacha-Tempranillo',\n",
       "       'Xinisteri', 'Sauvignon Blanc-Sauvignon Gris',\n",
       "       'Trebbiano di Lugana', 'Albarossa', 'Ryzlink Rýnský', 'Verdeca',\n",
       "       'Cabernet Sauvignon Grenache', 'Tămâioasă Românească',\n",
       "       'Black Monukka', 'Merlot-Grenache', 'Vranac', 'Tempranillo-Syrah',\n",
       "       'Chardonel', 'Silvaner-Traminer', 'Uvalino',\n",
       "       'Merseguera-Sauvignon Blanc', 'Cabernet-Malbec', 'Boğazkere',\n",
       "       'Gelber Traminer', 'Vermentino Nero', 'Cayuga', 'Tinta Amarela',\n",
       "       'Tinta Negra Mole', 'Moscato Rosa', 'Chelois',\n",
       "       'Sauvignon Blanc-Assyrtiko', nan, 'Muscadel', 'Shiraz-Tempranillo',\n",
       "       'Roussanne-Grenache Blanc', 'Biancale', 'Ansonica',\n",
       "       'Syrah-Bonarda', 'Durif', 'Franconia', 'Malbec-Tempranillo',\n",
       "       'Nasco', 'Monastrell-Petit Verdot', 'Sirica', 'Vital', 'Espadeiro',\n",
       "       'Apple', 'Pinot Grigio-Sauvignon Blanc', 'Blatina', 'Karalahna',\n",
       "       'Feteasca', 'Sercial', 'Valvin Muscat', 'Malvasia Fina',\n",
       "       'Roditis-Moschofilero', 'St. Vincent', 'Chancellor', 'Premsal',\n",
       "       'Jampal', 'Tokay Pinot Gris', 'Colorino', 'Picapoll', 'Blauburger',\n",
       "       'Tinta Madeira', 'Centesimino', 'Grenache Gris', 'Trajadura',\n",
       "       'Merlot-Petite Verdot', 'Ramisco', 'Catalanesca',\n",
       "       'Garnacha-Cabernet', 'Garnacha-Cariñena', 'Gamza',\n",
       "       'Cabernet Franc-Lemberger', 'Chardonnay-Albariño',\n",
       "       'Shiraz-Mourvèdre', 'Mavrokalavryta', 'Favorita', 'Babosa Negro',\n",
       "       'Tintilia ', 'Dafni', 'Petit Courbu', 'Kotsifali', 'Parraleta',\n",
       "       'Moscato di Noto', 'Roscetto', 'Torontel', 'Otskhanuri Sapere',\n",
       "       'Viognier-Valdiguié', 'Trollinger', 'Tsapournakos', 'Francisa',\n",
       "       'Kuntra', 'Pignolo', 'Caprettone', 'Ondenc', 'Athiri',\n",
       "       'Bobal-Cabernet Sauvignon'], dtype=object)"
      ]
     },
     "execution_count": 26,
     "metadata": {},
     "output_type": "execute_result"
    }
   ],
   "source": [
    "wine_variety.unique()"
   ]
  },
  {
   "cell_type": "markdown",
   "metadata": {},
   "source": [
    "### getting counts for all unique values"
   ]
  },
  {
   "cell_type": "code",
   "execution_count": 27,
   "metadata": {},
   "outputs": [
    {
     "data": {
      "text/plain": [
       "Pinot Noir                    13272\n",
       "Chardonnay                    11753\n",
       "Cabernet Sauvignon             9472\n",
       "Red Blend                      8946\n",
       "Bordeaux-style Red Blend       6915\n",
       "Riesling                       5189\n",
       "Sauvignon Blanc                4967\n",
       "Syrah                          4142\n",
       "Rosé                           3564\n",
       "Merlot                         3102\n",
       "Nebbiolo                       2804\n",
       "Zinfandel                      2714\n",
       "Sangiovese                     2707\n",
       "Malbec                         2652\n",
       "Portuguese Red                 2466\n",
       "White Blend                    2360\n",
       "Sparkling Blend                2153\n",
       "Tempranillo                    1810\n",
       "Rhône-style Red Blend          1471\n",
       "Pinot Gris                     1455\n",
       "Champagne Blend                1396\n",
       "Cabernet Franc                 1353\n",
       "Grüner Veltliner               1345\n",
       "Portuguese White               1159\n",
       "Bordeaux-style White Blend     1066\n",
       "Pinot Grigio                   1052\n",
       "Gamay                          1025\n",
       "Gewürztraminer                 1012\n",
       "Viognier                        996\n",
       "Shiraz                          836\n",
       "                              ...  \n",
       "Verdosilla                        1\n",
       "Früburgunder                      1\n",
       "Picapoll                          1\n",
       "Forcallà                          1\n",
       "Frankovka                         1\n",
       "Diamond                           1\n",
       "Blauburgunder                     1\n",
       "Syrah-Bonarda                     1\n",
       "Sauvignon-Sémillon                1\n",
       "Kuntra                            1\n",
       "Tsapournakos                      1\n",
       "Tempranillo-Tannat                1\n",
       "Trajadura                         1\n",
       "Muscadel                          1\n",
       "Catalanesca                       1\n",
       "Pinotage-Merlot                   1\n",
       "Tempranillo-Malbec                1\n",
       "St. Vincent                       1\n",
       "Pinot Gris-Gewürztraminer         1\n",
       "Ramisco                           1\n",
       "Thrapsathiri                      1\n",
       "Merlot-Grenache                   1\n",
       "Garnacha-Cariñena                 1\n",
       "Mavrokalavryta                    1\n",
       "Piquepoul Blanc                   1\n",
       "Bobal-Cabernet Sauvignon          1\n",
       "Francisa                          1\n",
       "Aidani                            1\n",
       "Syrah-Malbec                      1\n",
       "Karalahna                         1\n",
       "Name: variety, Length: 707, dtype: int64"
      ]
     },
     "execution_count": 27,
     "metadata": {},
     "output_type": "execute_result"
    }
   ],
   "source": [
    "wine_variety.value_counts()"
   ]
  },
  {
   "cell_type": "markdown",
   "metadata": {},
   "source": [
    "### getting percentage frequency of all unique values"
   ]
  },
  {
   "cell_type": "code",
   "execution_count": 28,
   "metadata": {},
   "outputs": [
    {
     "data": {
      "text/plain": [
       "US                        0.419558\n",
       "France                    0.170067\n",
       "Italy                     0.150414\n",
       "Spain                     0.051152\n",
       "Portugal                  0.043808\n",
       "Chile                     0.034424\n",
       "Argentina                 0.029251\n",
       "Austria                   0.025749\n",
       "Australia                 0.017928\n",
       "Germany                   0.016666\n",
       "New Zealand               0.010923\n",
       "South Africa              0.010785\n",
       "Israel                    0.003887\n",
       "Greece                    0.003587\n",
       "Canada                    0.001978\n",
       "Hungary                   0.001124\n",
       "Bulgaria                  0.001085\n",
       "Romania                   0.000924\n",
       "Uruguay                   0.000839\n",
       "Turkey                    0.000693\n",
       "Slovenia                  0.000670\n",
       "Georgia                   0.000662\n",
       "England                   0.000570\n",
       "Croatia                   0.000562\n",
       "Mexico                    0.000539\n",
       "Moldova                   0.000454\n",
       "Brazil                    0.000400\n",
       "Lebanon                   0.000269\n",
       "Morocco                   0.000216\n",
       "Peru                      0.000123\n",
       "Ukraine                   0.000108\n",
       "Czech Republic            0.000092\n",
       "Macedonia                 0.000092\n",
       "Serbia                    0.000092\n",
       "Cyprus                    0.000085\n",
       "India                     0.000069\n",
       "Switzerland               0.000054\n",
       "Luxembourg                0.000046\n",
       "Armenia                   0.000015\n",
       "Bosnia and Herzegovina    0.000015\n",
       "China                     0.000008\n",
       "Slovakia                  0.000008\n",
       "Egypt                     0.000008\n",
       "Name: country, dtype: float64"
      ]
     },
     "execution_count": 28,
     "metadata": {},
     "output_type": "execute_result"
    }
   ],
   "source": [
    "wine_country.value_counts(normalize=True)"
   ]
  },
  {
   "cell_type": "markdown",
   "metadata": {},
   "source": [
    "### ***EXERCISE 3.2***\n",
    "Show the 6 least common countries (in absolute value) and the 3 most common wine varieties (in percentage)"
   ]
  },
  {
   "cell_type": "code",
   "execution_count": 29,
   "metadata": {},
   "outputs": [
    {
     "data": {
      "text/plain": [
       "Luxembourg                6\n",
       "Armenia                   2\n",
       "Bosnia and Herzegovina    2\n",
       "China                     1\n",
       "Slovakia                  1\n",
       "Egypt                     1\n",
       "Name: country, dtype: int64"
      ]
     },
     "execution_count": 29,
     "metadata": {},
     "output_type": "execute_result"
    }
   ],
   "source": [
    "# insert code for 6 least common countries"
   ]
  },
  {
   "cell_type": "code",
   "execution_count": 30,
   "metadata": {},
   "outputs": [
    {
     "data": {
      "text/plain": [
       "Pinot Noir            13272\n",
       "Chardonnay            11753\n",
       "Cabernet Sauvignon     9472\n",
       "Name: variety, dtype: int64"
      ]
     },
     "execution_count": 30,
     "metadata": {},
     "output_type": "execute_result"
    }
   ],
   "source": [
    "# insert code for 3 most common varieties"
   ]
  },
  {
   "cell_type": "code",
   "execution_count": null,
   "metadata": {},
   "outputs": [],
   "source": []
  }
 ],
 "metadata": {
  "kernelspec": {
   "display_name": "Python 3",
   "language": "python",
   "name": "python3"
  },
  "language_info": {
   "codemirror_mode": {
    "name": "ipython",
    "version": 3
   },
   "file_extension": ".py",
   "mimetype": "text/x-python",
   "name": "python",
   "nbconvert_exporter": "python",
   "pygments_lexer": "ipython3",
   "version": "3.7.3"
  }
 },
 "nbformat": 4,
 "nbformat_minor": 4
}
