{
 "cells": [
  {
   "cell_type": "code",
   "execution_count": 1,
   "metadata": {},
   "outputs": [],
   "source": [
    "import pandas as pd"
   ]
  },
  {
   "cell_type": "markdown",
   "metadata": {},
   "source": [
    "### ***EXERCISE 2.1***\n",
    "Using the pandas documentation, find a way to read the file `data/wine-reviews/exercise_2.1.txt` in the following way:\n",
    "- read the file as tab-separated\n",
    "- parse the date in the `date of rating` column, in day/month format\n",
    "- set `country` as the index\n",
    "- skip the 3rd and 4th rows"
   ]
  },
  {
   "cell_type": "code",
   "execution_count": 2,
   "metadata": {},
   "outputs": [
    {
     "data": {
      "text/html": [
       "<div>\n",
       "<style scoped>\n",
       "    .dataframe tbody tr th:only-of-type {\n",
       "        vertical-align: middle;\n",
       "    }\n",
       "\n",
       "    .dataframe tbody tr th {\n",
       "        vertical-align: top;\n",
       "    }\n",
       "\n",
       "    .dataframe thead th {\n",
       "        text-align: right;\n",
       "    }\n",
       "</style>\n",
       "<table border=\"1\" class=\"dataframe\">\n",
       "  <thead>\n",
       "    <tr style=\"text-align: right;\">\n",
       "      <th></th>\n",
       "      <th>wine_id</th>\n",
       "      <th>description</th>\n",
       "      <th>designation</th>\n",
       "      <th>points</th>\n",
       "      <th>date of rating</th>\n",
       "    </tr>\n",
       "    <tr>\n",
       "      <th>country</th>\n",
       "      <th></th>\n",
       "      <th></th>\n",
       "      <th></th>\n",
       "      <th></th>\n",
       "      <th></th>\n",
       "    </tr>\n",
       "  </thead>\n",
       "  <tbody>\n",
       "    <tr>\n",
       "      <th>Italy</th>\n",
       "      <td>0</td>\n",
       "      <td>Aromas include tropical fruit, broom, brimston...</td>\n",
       "      <td>Vulkà Bianco</td>\n",
       "      <td>87</td>\n",
       "      <td>2015-12-01</td>\n",
       "    </tr>\n",
       "    <tr>\n",
       "      <th>US</th>\n",
       "      <td>3</td>\n",
       "      <td>Pineapple rind, lemon pith and orange blossom ...</td>\n",
       "      <td>Reserve Late Harvest</td>\n",
       "      <td>87</td>\n",
       "      <td>2015-08-07</td>\n",
       "    </tr>\n",
       "    <tr>\n",
       "      <th>US</th>\n",
       "      <td>4</td>\n",
       "      <td>Much like the regular bottling from 2012, this...</td>\n",
       "      <td>Vintner's Reserve Wild Child Block</td>\n",
       "      <td>87</td>\n",
       "      <td>2014-10-17</td>\n",
       "    </tr>\n",
       "    <tr>\n",
       "      <th>Spain</th>\n",
       "      <td>5</td>\n",
       "      <td>Blackberry and raspberry aromas show a typical...</td>\n",
       "      <td>Ars In Vitro</td>\n",
       "      <td>87</td>\n",
       "      <td>2015-11-26</td>\n",
       "    </tr>\n",
       "  </tbody>\n",
       "</table>\n",
       "</div>"
      ],
      "text/plain": [
       "         wine_id                                        description  \\\n",
       "country                                                               \n",
       "Italy          0  Aromas include tropical fruit, broom, brimston...   \n",
       "US             3  Pineapple rind, lemon pith and orange blossom ...   \n",
       "US             4  Much like the regular bottling from 2012, this...   \n",
       "Spain          5  Blackberry and raspberry aromas show a typical...   \n",
       "\n",
       "                                designation  points date of rating  \n",
       "country                                                             \n",
       "Italy                          Vulkà Bianco      87     2015-12-01  \n",
       "US                     Reserve Late Harvest      87     2015-08-07  \n",
       "US       Vintner's Reserve Wild Child Block      87     2014-10-17  \n",
       "Spain                          Ars In Vitro      87     2015-11-26  "
      ]
     },
     "execution_count": 2,
     "metadata": {},
     "output_type": "execute_result"
    }
   ],
   "source": [
    "pd.read_csv(\n",
    "    'data/wine-reviews/exercise_2.1.txt', \n",
    "    sep='\\t', \n",
    "    parse_dates=['date of rating'], \n",
    "    dayfirst=True,\n",
    "    index_col='country',\n",
    "    skiprows=[2,3]\n",
    ")"
   ]
  },
  {
   "cell_type": "markdown",
   "metadata": {},
   "source": [
    "### ***EXERCISE 2.2***\n",
    "Create a DataFrame like the following:\n",
    "\n",
    "|    \t| r   \t| g   \t| b  \t| hex     \t|\n",
    "|--------\t|-----\t|-----\t|----\t|---------\t|\n",
    "| blue   \t| 0   \t| 0   \t| 1  \t| #0000ff \t|\n",
    "| olive  \t| 85  \t| 107 \t| 47 \t| #556B2F \t|\n",
    "| sienna \t| 160 \t| 82  \t| 45 \t| #A0522D \t|"
   ]
  },
  {
   "cell_type": "code",
   "execution_count": 3,
   "metadata": {},
   "outputs": [
    {
     "data": {
      "text/html": [
       "<div>\n",
       "<style scoped>\n",
       "    .dataframe tbody tr th:only-of-type {\n",
       "        vertical-align: middle;\n",
       "    }\n",
       "\n",
       "    .dataframe tbody tr th {\n",
       "        vertical-align: top;\n",
       "    }\n",
       "\n",
       "    .dataframe thead th {\n",
       "        text-align: right;\n",
       "    }\n",
       "</style>\n",
       "<table border=\"1\" class=\"dataframe\">\n",
       "  <thead>\n",
       "    <tr style=\"text-align: right;\">\n",
       "      <th></th>\n",
       "      <th>r</th>\n",
       "      <th>g</th>\n",
       "      <th>b</th>\n",
       "      <th>hex</th>\n",
       "    </tr>\n",
       "  </thead>\n",
       "  <tbody>\n",
       "    <tr>\n",
       "      <th>blue</th>\n",
       "      <td>0</td>\n",
       "      <td>0</td>\n",
       "      <td>1</td>\n",
       "      <td>#0000ff</td>\n",
       "    </tr>\n",
       "    <tr>\n",
       "      <th>olive</th>\n",
       "      <td>85</td>\n",
       "      <td>107</td>\n",
       "      <td>47</td>\n",
       "      <td>#556B2F</td>\n",
       "    </tr>\n",
       "    <tr>\n",
       "      <th>sienna</th>\n",
       "      <td>160</td>\n",
       "      <td>82</td>\n",
       "      <td>45</td>\n",
       "      <td>#A0522D</td>\n",
       "    </tr>\n",
       "  </tbody>\n",
       "</table>\n",
       "</div>"
      ],
      "text/plain": [
       "          r    g   b      hex\n",
       "blue      0    0   1  #0000ff\n",
       "olive    85  107  47  #556B2F\n",
       "sienna  160   82  45  #A0522D"
      ]
     },
     "execution_count": 3,
     "metadata": {},
     "output_type": "execute_result"
    }
   ],
   "source": [
    "pd.DataFrame({\n",
    "    'r': {'blue': 0, 'olive': 85, 'sienna': 160},\n",
    "    'g': {'blue': 0, 'olive': 107, 'sienna': 82},\n",
    "    'b': {'blue': 1, 'olive': 47, 'sienna': 45},\n",
    "    'hex': {'blue': '#0000ff', 'olive': '#556B2F', 'sienna': '#A0522D'}\n",
    "})"
   ]
  }
 ],
 "metadata": {
  "kernelspec": {
   "display_name": "Python 3",
   "language": "python",
   "name": "python3"
  },
  "language_info": {
   "codemirror_mode": {
    "name": "ipython",
    "version": 3
   },
   "file_extension": ".py",
   "mimetype": "text/x-python",
   "name": "python",
   "nbconvert_exporter": "python",
   "pygments_lexer": "ipython3",
   "version": "3.7.3"
  }
 },
 "nbformat": 4,
 "nbformat_minor": 4
}
