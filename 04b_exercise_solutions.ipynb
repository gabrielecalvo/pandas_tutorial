{
 "cells": [
  {
   "cell_type": "code",
   "execution_count": 12,
   "metadata": {},
   "outputs": [
    {
     "data": {
      "text/plain": [
       "Index(['country', 'description', 'designation', 'points', 'price', 'province',\n",
       "       'region_1', 'region_2', 'taster_name', 'taster_twitter_handle', 'title',\n",
       "       'variety', 'winery'],\n",
       "      dtype='object')"
      ]
     },
     "execution_count": 12,
     "metadata": {},
     "output_type": "execute_result"
    }
   ],
   "source": [
    "import pandas as pd\n",
    "\n",
    "df = pd.read_csv('data/wine-reviews/winemag-data-130k-v2.csv', index_col='wine_id')\n",
    "df.columns"
   ]
  },
  {
   "cell_type": "markdown",
   "metadata": {},
   "source": [
    "### ***EXERCISE 4.1***\n",
    "Select all the geographical information of the 32nd row in the `df` "
   ]
  },
  {
   "cell_type": "code",
   "execution_count": 13,
   "metadata": {},
   "outputs": [
    {
     "data": {
      "text/plain": [
       "country                 Italy\n",
       "province    Sicily & Sardinia\n",
       "region_1              Sicilia\n",
       "region_2                  NaN\n",
       "Name: 31, dtype: object"
      ]
     },
     "execution_count": 13,
     "metadata": {},
     "output_type": "execute_result"
    }
   ],
   "source": [
    "geographical_cols = ['country', 'province', 'region_1', 'region_2']\n",
    "df.iloc[31].loc[geographical_cols]"
   ]
  },
  {
   "cell_type": "markdown",
   "metadata": {},
   "source": [
    "### ***EXERCISE 4.2***\n",
    "Find the wines that meet the following conditions:\n",
    "    - the taster name starts with \"J\"\n",
    "    - the score (points) is either higher than 99 or lower than 81\n",
    "    - it does not come from France\n",
    "    - the province contanins a \"y\" (anywhere in the name)"
   ]
  },
  {
   "cell_type": "code",
   "execution_count": 14,
   "metadata": {},
   "outputs": [
    {
     "data": {
      "text/html": [
       "<div>\n",
       "<style scoped>\n",
       "    .dataframe tbody tr th:only-of-type {\n",
       "        vertical-align: middle;\n",
       "    }\n",
       "\n",
       "    .dataframe tbody tr th {\n",
       "        vertical-align: top;\n",
       "    }\n",
       "\n",
       "    .dataframe thead th {\n",
       "        text-align: right;\n",
       "    }\n",
       "</style>\n",
       "<table border=\"1\" class=\"dataframe\">\n",
       "  <thead>\n",
       "    <tr style=\"text-align: right;\">\n",
       "      <th></th>\n",
       "      <th>country</th>\n",
       "      <th>description</th>\n",
       "      <th>designation</th>\n",
       "      <th>points</th>\n",
       "      <th>price</th>\n",
       "      <th>province</th>\n",
       "      <th>region_1</th>\n",
       "      <th>region_2</th>\n",
       "      <th>taster_name</th>\n",
       "      <th>taster_twitter_handle</th>\n",
       "      <th>title</th>\n",
       "      <th>variety</th>\n",
       "      <th>winery</th>\n",
       "    </tr>\n",
       "    <tr>\n",
       "      <th>wine_id</th>\n",
       "      <th></th>\n",
       "      <th></th>\n",
       "      <th></th>\n",
       "      <th></th>\n",
       "      <th></th>\n",
       "      <th></th>\n",
       "      <th></th>\n",
       "      <th></th>\n",
       "      <th></th>\n",
       "      <th></th>\n",
       "      <th></th>\n",
       "      <th></th>\n",
       "      <th></th>\n",
       "    </tr>\n",
       "  </thead>\n",
       "  <tbody>\n",
       "    <tr>\n",
       "      <th>19124</th>\n",
       "      <td>New Zealand</td>\n",
       "      <td>A tartly acidic wine, with some sweet molasses...</td>\n",
       "      <td>NaN</td>\n",
       "      <td>80</td>\n",
       "      <td>16.0</td>\n",
       "      <td>Canterbury</td>\n",
       "      <td>NaN</td>\n",
       "      <td>NaN</td>\n",
       "      <td>Joe Czerwinski</td>\n",
       "      <td>@JoeCz</td>\n",
       "      <td>Willow Creek 2000 Pinot Noir (Canterbury)</td>\n",
       "      <td>Pinot Noir</td>\n",
       "      <td>Willow Creek</td>\n",
       "    </tr>\n",
       "    <tr>\n",
       "      <th>39959</th>\n",
       "      <td>US</td>\n",
       "      <td>Sometimes Franc can have a lovely, alluringly ...</td>\n",
       "      <td>Estate Bottled</td>\n",
       "      <td>80</td>\n",
       "      <td>19.0</td>\n",
       "      <td>New York</td>\n",
       "      <td>North Fork of Long Island</td>\n",
       "      <td>Long Island</td>\n",
       "      <td>Joe Czerwinski</td>\n",
       "      <td>@JoeCz</td>\n",
       "      <td>Macari 1997 Estate Bottled Cabernet Franc (Nor...</td>\n",
       "      <td>Cabernet Franc</td>\n",
       "      <td>Macari</td>\n",
       "    </tr>\n",
       "    <tr>\n",
       "      <th>39960</th>\n",
       "      <td>US</td>\n",
       "      <td>Vanilla, butterscotch and some harsher oak-der...</td>\n",
       "      <td>Reserve</td>\n",
       "      <td>80</td>\n",
       "      <td>18.0</td>\n",
       "      <td>New York</td>\n",
       "      <td>North Fork of Long Island</td>\n",
       "      <td>Long Island</td>\n",
       "      <td>Joe Czerwinski</td>\n",
       "      <td>@JoeCz</td>\n",
       "      <td>Laurel Lake 1998 Reserve Chardonnay (North For...</td>\n",
       "      <td>Chardonnay</td>\n",
       "      <td>Laurel Lake</td>\n",
       "    </tr>\n",
       "    <tr>\n",
       "      <th>73865</th>\n",
       "      <td>Chile</td>\n",
       "      <td>There's not much point in making a reserve-sty...</td>\n",
       "      <td>Prima Reserva</td>\n",
       "      <td>80</td>\n",
       "      <td>13.0</td>\n",
       "      <td>Maipo Valley</td>\n",
       "      <td>NaN</td>\n",
       "      <td>NaN</td>\n",
       "      <td>Joe Czerwinski</td>\n",
       "      <td>@JoeCz</td>\n",
       "      <td>De Martino 1999 Prima Reserva Merlot (Maipo Va...</td>\n",
       "      <td>Merlot</td>\n",
       "      <td>De Martino</td>\n",
       "    </tr>\n",
       "  </tbody>\n",
       "</table>\n",
       "</div>"
      ],
      "text/plain": [
       "             country                                        description  \\\n",
       "wine_id                                                                   \n",
       "19124    New Zealand  A tartly acidic wine, with some sweet molasses...   \n",
       "39959             US  Sometimes Franc can have a lovely, alluringly ...   \n",
       "39960             US  Vanilla, butterscotch and some harsher oak-der...   \n",
       "73865          Chile  There's not much point in making a reserve-sty...   \n",
       "\n",
       "            designation  points  price      province  \\\n",
       "wine_id                                                \n",
       "19124               NaN      80   16.0    Canterbury   \n",
       "39959    Estate Bottled      80   19.0      New York   \n",
       "39960           Reserve      80   18.0      New York   \n",
       "73865     Prima Reserva      80   13.0  Maipo Valley   \n",
       "\n",
       "                          region_1     region_2     taster_name  \\\n",
       "wine_id                                                           \n",
       "19124                          NaN          NaN  Joe Czerwinski   \n",
       "39959    North Fork of Long Island  Long Island  Joe Czerwinski   \n",
       "39960    North Fork of Long Island  Long Island  Joe Czerwinski   \n",
       "73865                          NaN          NaN  Joe Czerwinski   \n",
       "\n",
       "        taster_twitter_handle  \\\n",
       "wine_id                         \n",
       "19124                  @JoeCz   \n",
       "39959                  @JoeCz   \n",
       "39960                  @JoeCz   \n",
       "73865                  @JoeCz   \n",
       "\n",
       "                                                     title         variety  \\\n",
       "wine_id                                                                      \n",
       "19124            Willow Creek 2000 Pinot Noir (Canterbury)      Pinot Noir   \n",
       "39959    Macari 1997 Estate Bottled Cabernet Franc (Nor...  Cabernet Franc   \n",
       "39960    Laurel Lake 1998 Reserve Chardonnay (North For...      Chardonnay   \n",
       "73865    De Martino 1999 Prima Reserva Merlot (Maipo Va...          Merlot   \n",
       "\n",
       "               winery  \n",
       "wine_id                \n",
       "19124    Willow Creek  \n",
       "39959          Macari  \n",
       "39960     Laurel Lake  \n",
       "73865      De Martino  "
      ]
     },
     "execution_count": 14,
     "metadata": {},
     "output_type": "execute_result"
    }
   ],
   "source": [
    "df[\n",
    "    df.taster_name.str.startswith('J')\n",
    "    & ((df.points > 99) | (df.points < 81))\n",
    "    & (df.country != 'France')\n",
    "    & ((df.province.str.upper()).str.contains('Y'))\n",
    "]"
   ]
  },
  {
   "cell_type": "code",
   "execution_count": null,
   "metadata": {},
   "outputs": [],
   "source": []
  }
 ],
 "metadata": {
  "kernelspec": {
   "display_name": "Python 3",
   "language": "python",
   "name": "python3"
  },
  "language_info": {
   "codemirror_mode": {
    "name": "ipython",
    "version": 3
   },
   "file_extension": ".py",
   "mimetype": "text/x-python",
   "name": "python",
   "nbconvert_exporter": "python",
   "pygments_lexer": "ipython3",
   "version": "3.7.3"
  }
 },
 "nbformat": 4,
 "nbformat_minor": 4
}
