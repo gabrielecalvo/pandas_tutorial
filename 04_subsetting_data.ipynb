{
 "cells": [
  {
   "cell_type": "code",
   "execution_count": 1,
   "metadata": {
    "collapsed": true,
    "jupyter": {
     "outputs_hidden": true
    }
   },
   "outputs": [
    {
     "data": {
      "text/html": [
       "<div>\n",
       "<style scoped>\n",
       "    .dataframe tbody tr th:only-of-type {\n",
       "        vertical-align: middle;\n",
       "    }\n",
       "\n",
       "    .dataframe tbody tr th {\n",
       "        vertical-align: top;\n",
       "    }\n",
       "\n",
       "    .dataframe thead th {\n",
       "        text-align: right;\n",
       "    }\n",
       "</style>\n",
       "<table border=\"1\" class=\"dataframe\">\n",
       "  <thead>\n",
       "    <tr style=\"text-align: right;\">\n",
       "      <th></th>\n",
       "      <th>country</th>\n",
       "      <th>description</th>\n",
       "      <th>designation</th>\n",
       "      <th>points</th>\n",
       "      <th>price</th>\n",
       "      <th>province</th>\n",
       "      <th>region_1</th>\n",
       "      <th>region_2</th>\n",
       "      <th>taster_name</th>\n",
       "      <th>taster_twitter_handle</th>\n",
       "      <th>title</th>\n",
       "      <th>variety</th>\n",
       "      <th>winery</th>\n",
       "    </tr>\n",
       "    <tr>\n",
       "      <th>wine_id</th>\n",
       "      <th></th>\n",
       "      <th></th>\n",
       "      <th></th>\n",
       "      <th></th>\n",
       "      <th></th>\n",
       "      <th></th>\n",
       "      <th></th>\n",
       "      <th></th>\n",
       "      <th></th>\n",
       "      <th></th>\n",
       "      <th></th>\n",
       "      <th></th>\n",
       "      <th></th>\n",
       "    </tr>\n",
       "  </thead>\n",
       "  <tbody>\n",
       "    <tr>\n",
       "      <th>0</th>\n",
       "      <td>Italy</td>\n",
       "      <td>Aromas include tropical fruit, broom, brimston...</td>\n",
       "      <td>Vulkà Bianco</td>\n",
       "      <td>87</td>\n",
       "      <td>NaN</td>\n",
       "      <td>Sicily &amp; Sardinia</td>\n",
       "      <td>Etna</td>\n",
       "      <td>NaN</td>\n",
       "      <td>Kerin O’Keefe</td>\n",
       "      <td>@kerinokeefe</td>\n",
       "      <td>Nicosia 2013 Vulkà Bianco  (Etna)</td>\n",
       "      <td>White Blend</td>\n",
       "      <td>Nicosia</td>\n",
       "    </tr>\n",
       "    <tr>\n",
       "      <th>1</th>\n",
       "      <td>Portugal</td>\n",
       "      <td>This is ripe and fruity, a wine that is smooth...</td>\n",
       "      <td>Avidagos</td>\n",
       "      <td>87</td>\n",
       "      <td>15.0</td>\n",
       "      <td>Douro</td>\n",
       "      <td>NaN</td>\n",
       "      <td>NaN</td>\n",
       "      <td>Roger Voss</td>\n",
       "      <td>@vossroger</td>\n",
       "      <td>Quinta dos Avidagos 2011 Avidagos Red (Douro)</td>\n",
       "      <td>Portuguese Red</td>\n",
       "      <td>Quinta dos Avidagos</td>\n",
       "    </tr>\n",
       "    <tr>\n",
       "      <th>2</th>\n",
       "      <td>US</td>\n",
       "      <td>Tart and snappy, the flavors of lime flesh and...</td>\n",
       "      <td>NaN</td>\n",
       "      <td>87</td>\n",
       "      <td>14.0</td>\n",
       "      <td>Oregon</td>\n",
       "      <td>Willamette Valley</td>\n",
       "      <td>Willamette Valley</td>\n",
       "      <td>Paul Gregutt</td>\n",
       "      <td>@paulgwine</td>\n",
       "      <td>Rainstorm 2013 Pinot Gris (Willamette Valley)</td>\n",
       "      <td>Pinot Gris</td>\n",
       "      <td>Rainstorm</td>\n",
       "    </tr>\n",
       "    <tr>\n",
       "      <th>3</th>\n",
       "      <td>US</td>\n",
       "      <td>Pineapple rind, lemon pith and orange blossom ...</td>\n",
       "      <td>Reserve Late Harvest</td>\n",
       "      <td>87</td>\n",
       "      <td>13.0</td>\n",
       "      <td>Michigan</td>\n",
       "      <td>Lake Michigan Shore</td>\n",
       "      <td>NaN</td>\n",
       "      <td>Alexander Peartree</td>\n",
       "      <td>NaN</td>\n",
       "      <td>St. Julian 2013 Reserve Late Harvest Riesling ...</td>\n",
       "      <td>Riesling</td>\n",
       "      <td>St. Julian</td>\n",
       "    </tr>\n",
       "    <tr>\n",
       "      <th>4</th>\n",
       "      <td>US</td>\n",
       "      <td>Much like the regular bottling from 2012, this...</td>\n",
       "      <td>Vintner's Reserve Wild Child Block</td>\n",
       "      <td>87</td>\n",
       "      <td>65.0</td>\n",
       "      <td>Oregon</td>\n",
       "      <td>Willamette Valley</td>\n",
       "      <td>Willamette Valley</td>\n",
       "      <td>Paul Gregutt</td>\n",
       "      <td>@paulgwine</td>\n",
       "      <td>Sweet Cheeks 2012 Vintner's Reserve Wild Child...</td>\n",
       "      <td>Pinot Noir</td>\n",
       "      <td>Sweet Cheeks</td>\n",
       "    </tr>\n",
       "  </tbody>\n",
       "</table>\n",
       "</div>"
      ],
      "text/plain": [
       "          country                                        description  \\\n",
       "wine_id                                                                \n",
       "0           Italy  Aromas include tropical fruit, broom, brimston...   \n",
       "1        Portugal  This is ripe and fruity, a wine that is smooth...   \n",
       "2              US  Tart and snappy, the flavors of lime flesh and...   \n",
       "3              US  Pineapple rind, lemon pith and orange blossom ...   \n",
       "4              US  Much like the regular bottling from 2012, this...   \n",
       "\n",
       "                                designation  points  price           province  \\\n",
       "wine_id                                                                         \n",
       "0                              Vulkà Bianco      87    NaN  Sicily & Sardinia   \n",
       "1                                  Avidagos      87   15.0              Douro   \n",
       "2                                       NaN      87   14.0             Oregon   \n",
       "3                      Reserve Late Harvest      87   13.0           Michigan   \n",
       "4        Vintner's Reserve Wild Child Block      87   65.0             Oregon   \n",
       "\n",
       "                    region_1           region_2         taster_name  \\\n",
       "wine_id                                                               \n",
       "0                       Etna                NaN       Kerin O’Keefe   \n",
       "1                        NaN                NaN          Roger Voss   \n",
       "2          Willamette Valley  Willamette Valley        Paul Gregutt   \n",
       "3        Lake Michigan Shore                NaN  Alexander Peartree   \n",
       "4          Willamette Valley  Willamette Valley        Paul Gregutt   \n",
       "\n",
       "        taster_twitter_handle  \\\n",
       "wine_id                         \n",
       "0                @kerinokeefe   \n",
       "1                  @vossroger   \n",
       "2                 @paulgwine    \n",
       "3                         NaN   \n",
       "4                 @paulgwine    \n",
       "\n",
       "                                                     title         variety  \\\n",
       "wine_id                                                                      \n",
       "0                        Nicosia 2013 Vulkà Bianco  (Etna)     White Blend   \n",
       "1            Quinta dos Avidagos 2011 Avidagos Red (Douro)  Portuguese Red   \n",
       "2            Rainstorm 2013 Pinot Gris (Willamette Valley)      Pinot Gris   \n",
       "3        St. Julian 2013 Reserve Late Harvest Riesling ...        Riesling   \n",
       "4        Sweet Cheeks 2012 Vintner's Reserve Wild Child...      Pinot Noir   \n",
       "\n",
       "                      winery  \n",
       "wine_id                       \n",
       "0                    Nicosia  \n",
       "1        Quinta dos Avidagos  \n",
       "2                  Rainstorm  \n",
       "3                 St. Julian  \n",
       "4               Sweet Cheeks  "
      ]
     },
     "execution_count": 1,
     "metadata": {},
     "output_type": "execute_result"
    }
   ],
   "source": [
    "import pandas as pd\n",
    "\n",
    "df = pd.read_csv('data/wine-reviews/winemag-data-130k-v2.csv', index_col='wine_id')\n",
    "df.head()"
   ]
  },
  {
   "cell_type": "markdown",
   "metadata": {},
   "source": [
    "# **Subsetting Data**"
   ]
  },
  {
   "cell_type": "markdown",
   "metadata": {},
   "source": [
    "## Selecting Columns\n",
    "To select columns there are 2 ways:\n",
    "- **bracket notation**: longer but works all the time\n",
    "- **dot notation**: nicer but does not work if:\n",
    "    - there are spaces or invalid symbols in the column name (e.g. \"person name\", \"km/h\")\n",
    "    - they shadow a reserved method or attribute of the DataFrame (e.g. \"sum\", \"count\", ..)\n",
    "    - trying to create a new column\n",
    "    \n",
    "The result is equivalent."
   ]
  },
  {
   "cell_type": "code",
   "execution_count": 2,
   "metadata": {
    "collapsed": true,
    "jupyter": {
     "outputs_hidden": true
    }
   },
   "outputs": [
    {
     "data": {
      "text/plain": [
       "True"
      ]
     },
     "execution_count": 2,
     "metadata": {},
     "output_type": "execute_result"
    }
   ],
   "source": [
    "df['country']   # bracket notation\n",
    "df.country      # dot notation\n",
    "\n",
    "df['country'].equals(df.country)  # checking equality"
   ]
  },
  {
   "cell_type": "markdown",
   "metadata": {},
   "source": [
    "## Selecting Rows\n",
    "To select the rows we can either use labels or positions\n",
    "```python\n",
    ".loc[row_label/s]    # by label\n",
    ".iloc[row_index/s]   # by position\n",
    "```\n",
    "Inside the brackets there can be:\n",
    "- a **single value**, e.g. `df.loc['myrowlabel']`\n",
    "- a **list** of values, e.g. `df.loc[['myrowlabel1', 'myrowlabel2']]`\n",
    "- a **slice**, e.g. `df.loc['myrowlabel1':'myrowlabel5']`\n",
    "\n",
    "**NOTE**: \n",
    "When using a slice, remember that `loc` includes both edges, while `iloc` excludes the right edge (like slicing a list)\n",
    "```python\n",
    ".loc[a:b]   # includes both a and b\n",
    ".iloc[a:b]   # includes only a, excludes b\n",
    "```"
   ]
  },
  {
   "cell_type": "code",
   "execution_count": 3,
   "metadata": {
    "collapsed": true,
    "jupyter": {
     "outputs_hidden": true
    }
   },
   "outputs": [
    {
     "data": {
      "text/html": [
       "<div>\n",
       "<style scoped>\n",
       "    .dataframe tbody tr th:only-of-type {\n",
       "        vertical-align: middle;\n",
       "    }\n",
       "\n",
       "    .dataframe tbody tr th {\n",
       "        vertical-align: top;\n",
       "    }\n",
       "\n",
       "    .dataframe thead th {\n",
       "        text-align: right;\n",
       "    }\n",
       "</style>\n",
       "<table border=\"1\" class=\"dataframe\">\n",
       "  <thead>\n",
       "    <tr style=\"text-align: right;\">\n",
       "      <th></th>\n",
       "      <th>country</th>\n",
       "      <th>description</th>\n",
       "      <th>designation</th>\n",
       "      <th>points</th>\n",
       "      <th>price</th>\n",
       "      <th>province</th>\n",
       "      <th>region_1</th>\n",
       "      <th>region_2</th>\n",
       "      <th>taster_name</th>\n",
       "      <th>taster_twitter_handle</th>\n",
       "      <th>title</th>\n",
       "      <th>variety</th>\n",
       "      <th>winery</th>\n",
       "    </tr>\n",
       "    <tr>\n",
       "      <th>wine_id</th>\n",
       "      <th></th>\n",
       "      <th></th>\n",
       "      <th></th>\n",
       "      <th></th>\n",
       "      <th></th>\n",
       "      <th></th>\n",
       "      <th></th>\n",
       "      <th></th>\n",
       "      <th></th>\n",
       "      <th></th>\n",
       "      <th></th>\n",
       "      <th></th>\n",
       "      <th></th>\n",
       "    </tr>\n",
       "  </thead>\n",
       "  <tbody>\n",
       "    <tr>\n",
       "      <th>20484</th>\n",
       "      <td>US</td>\n",
       "      <td>Fruity, soft and rather sweet, this wine smell...</td>\n",
       "      <td>NaN</td>\n",
       "      <td>85</td>\n",
       "      <td>4.0</td>\n",
       "      <td>California</td>\n",
       "      <td>Clarksburg</td>\n",
       "      <td>Central Valley</td>\n",
       "      <td>Jim Gordon</td>\n",
       "      <td>@gordone_cellars</td>\n",
       "      <td>Dancing Coyote 2015 White (Clarksburg)</td>\n",
       "      <td>White Blend</td>\n",
       "      <td>Dancing Coyote</td>\n",
       "    </tr>\n",
       "    <tr>\n",
       "      <th>112919</th>\n",
       "      <td>Spain</td>\n",
       "      <td>Nice on the nose, this has a leafy note and a ...</td>\n",
       "      <td>Estate Bottled</td>\n",
       "      <td>84</td>\n",
       "      <td>4.0</td>\n",
       "      <td>Levante</td>\n",
       "      <td>Yecla</td>\n",
       "      <td>NaN</td>\n",
       "      <td>Michael Schachner</td>\n",
       "      <td>@wineschach</td>\n",
       "      <td>Terrenal 2010 Estate Bottled Tempranillo (Yecla)</td>\n",
       "      <td>Tempranillo</td>\n",
       "      <td>Terrenal</td>\n",
       "    </tr>\n",
       "    <tr>\n",
       "      <th>59507</th>\n",
       "      <td>US</td>\n",
       "      <td>Sweet and fruity, this canned wine feels soft ...</td>\n",
       "      <td>Unoaked</td>\n",
       "      <td>83</td>\n",
       "      <td>4.0</td>\n",
       "      <td>California</td>\n",
       "      <td>California</td>\n",
       "      <td>California Other</td>\n",
       "      <td>Jim Gordon</td>\n",
       "      <td>@gordone_cellars</td>\n",
       "      <td>Pam's Cuties NV Unoaked Chardonnay (California)</td>\n",
       "      <td>Chardonnay</td>\n",
       "      <td>Pam's Cuties</td>\n",
       "    </tr>\n",
       "  </tbody>\n",
       "</table>\n",
       "</div>"
      ],
      "text/plain": [
       "        country                                        description  \\\n",
       "wine_id                                                              \n",
       "20484        US  Fruity, soft and rather sweet, this wine smell...   \n",
       "112919    Spain  Nice on the nose, this has a leafy note and a ...   \n",
       "59507        US  Sweet and fruity, this canned wine feels soft ...   \n",
       "\n",
       "            designation  points  price    province    region_1  \\\n",
       "wine_id                                                          \n",
       "20484               NaN      85    4.0  California  Clarksburg   \n",
       "112919   Estate Bottled      84    4.0     Levante       Yecla   \n",
       "59507           Unoaked      83    4.0  California  California   \n",
       "\n",
       "                 region_2        taster_name taster_twitter_handle  \\\n",
       "wine_id                                                              \n",
       "20484      Central Valley         Jim Gordon      @gordone_cellars   \n",
       "112919                NaN  Michael Schachner           @wineschach   \n",
       "59507    California Other         Jim Gordon      @gordone_cellars   \n",
       "\n",
       "                                                    title      variety  \\\n",
       "wine_id                                                                  \n",
       "20484              Dancing Coyote 2015 White (Clarksburg)  White Blend   \n",
       "112919   Terrenal 2010 Estate Bottled Tempranillo (Yecla)  Tempranillo   \n",
       "59507     Pam's Cuties NV Unoaked Chardonnay (California)   Chardonnay   \n",
       "\n",
       "                 winery  \n",
       "wine_id                  \n",
       "20484    Dancing Coyote  \n",
       "112919         Terrenal  \n",
       "59507      Pam's Cuties  "
      ]
     },
     "execution_count": 3,
     "metadata": {},
     "output_type": "execute_result"
    }
   ],
   "source": [
    "#to better demonstrate the difference, let's first re-sort the data so the index label doesn't coincide with the position\n",
    "df_sorted = df.sort_values('price')\n",
    "\n",
    "df_sorted.head(3)"
   ]
  },
  {
   "cell_type": "code",
   "execution_count": 4,
   "metadata": {
    "collapsed": true,
    "jupyter": {
     "outputs_hidden": true
    }
   },
   "outputs": [
    {
     "data": {
      "text/plain": [
       "country                                                              Spain\n",
       "description              Nice on the nose, this has a leafy note and a ...\n",
       "designation                                                 Estate Bottled\n",
       "points                                                                  84\n",
       "price                                                                    4\n",
       "province                                                           Levante\n",
       "region_1                                                             Yecla\n",
       "region_2                                                               NaN\n",
       "taster_name                                              Michael Schachner\n",
       "taster_twitter_handle                                          @wineschach\n",
       "title                     Terrenal 2010 Estate Bottled Tempranillo (Yecla)\n",
       "variety                                                        Tempranillo\n",
       "winery                                                            Terrenal\n",
       "Name: 112919, dtype: object"
      ]
     },
     "execution_count": 4,
     "metadata": {},
     "output_type": "execute_result"
    }
   ],
   "source": [
    "terrenal_wine_loc = df_sorted.loc[112919]   # selecting by label (row with index label 112919)\n",
    "terrenal_wine_iloc = df_sorted.iloc[1]      # selecting by position (second row of the re-sorted dataset)\n",
    "\n",
    "terrenal_wine_loc"
   ]
  },
  {
   "cell_type": "code",
   "execution_count": 5,
   "metadata": {
    "collapsed": true,
    "jupyter": {
     "outputs_hidden": true
    }
   },
   "outputs": [
    {
     "data": {
      "text/plain": [
       "True"
      ]
     },
     "execution_count": 5,
     "metadata": {},
     "output_type": "execute_result"
    }
   ],
   "source": [
    "terrenal_wine_loc.equals(terrenal_wine_iloc)  # checking equality"
   ]
  },
  {
   "cell_type": "markdown",
   "metadata": {},
   "source": [
    "## Selecting Rows & Columns\n",
    "The `loc` and `iloc` methods also allow for a second argument to subset on the columns, chaining the two is also possible to mix approaches"
   ]
  },
  {
   "cell_type": "code",
   "execution_count": 6,
   "metadata": {
    "collapsed": true,
    "jupyter": {
     "outputs_hidden": true
    }
   },
   "outputs": [
    {
     "data": {
      "text/plain": [
       "country                                                    Spain\n",
       "description    Nice on the nose, this has a leafy note and a ...\n",
       "designation                                       Estate Bottled\n",
       "Name: 112919, dtype: object"
      ]
     },
     "execution_count": 6,
     "metadata": {},
     "output_type": "execute_result"
    }
   ],
   "source": [
    "# selecting by row's and columns' labels\n",
    "sel1 = df_sorted.loc[112919, 'country':'designation']  \n",
    "\n",
    "# selecting by row's and columns' position\n",
    "sel2 = df_sorted.iloc[1, 0:3]    \n",
    "\n",
    "sel1"
   ]
  },
  {
   "cell_type": "code",
   "execution_count": 7,
   "metadata": {
    "collapsed": true,
    "jupyter": {
     "outputs_hidden": true
    }
   },
   "outputs": [
    {
     "data": {
      "text/plain": [
       "True"
      ]
     },
     "execution_count": 7,
     "metadata": {},
     "output_type": "execute_result"
    }
   ],
   "source": [
    "sel1.equals(sel2)  # checking equality"
   ]
  },
  {
   "cell_type": "code",
   "execution_count": 8,
   "metadata": {
    "collapsed": true,
    "jupyter": {
     "outputs_hidden": true
    }
   },
   "outputs": [
    {
     "data": {
      "text/plain": [
       "True"
      ]
     },
     "execution_count": 8,
     "metadata": {},
     "output_type": "execute_result"
    }
   ],
   "source": [
    "# to mix positional and label selection we can just chain the two\n",
    "sel3 = df_sorted.iloc[1].loc['country':'designation']  \n",
    "\n",
    "sel1.equals(sel3) # checking equality"
   ]
  },
  {
   "cell_type": "markdown",
   "metadata": {},
   "source": [
    "### ***EXERCISE 4.1***\n",
    "Select all the geographical information of the 32nd row in the `df` "
   ]
  },
  {
   "cell_type": "code",
   "execution_count": 9,
   "metadata": {
    "collapsed": true,
    "jupyter": {
     "outputs_hidden": true
    }
   },
   "outputs": [],
   "source": [
    "# insert solution here"
   ]
  },
  {
   "cell_type": "markdown",
   "metadata": {},
   "source": [
    "## Filtering by condition\n",
    "To filter by condition we can just use the square bracket notation, but instead of a column name put the condition.\n",
    "\n",
    "Conditions can be created using standard python logical operators:\n",
    "- `==` is equal to\n",
    "- `!=` is not equal to\n",
    "- `<` is lower than\n",
    "- `<=` is lower or equal than\n",
    "- `>` is higher than\n",
    "- `>=` is higher or equal than"
   ]
  },
  {
   "cell_type": "code",
   "execution_count": 10,
   "metadata": {
    "collapsed": true,
    "jupyter": {
     "outputs_hidden": true
    }
   },
   "outputs": [
    {
     "data": {
      "text/html": [
       "<div>\n",
       "<style scoped>\n",
       "    .dataframe tbody tr th:only-of-type {\n",
       "        vertical-align: middle;\n",
       "    }\n",
       "\n",
       "    .dataframe tbody tr th {\n",
       "        vertical-align: top;\n",
       "    }\n",
       "\n",
       "    .dataframe thead th {\n",
       "        text-align: right;\n",
       "    }\n",
       "</style>\n",
       "<table border=\"1\" class=\"dataframe\">\n",
       "  <thead>\n",
       "    <tr style=\"text-align: right;\">\n",
       "      <th></th>\n",
       "      <th>country</th>\n",
       "      <th>description</th>\n",
       "      <th>designation</th>\n",
       "      <th>points</th>\n",
       "      <th>price</th>\n",
       "      <th>province</th>\n",
       "      <th>region_1</th>\n",
       "      <th>region_2</th>\n",
       "      <th>taster_name</th>\n",
       "      <th>taster_twitter_handle</th>\n",
       "      <th>title</th>\n",
       "      <th>variety</th>\n",
       "      <th>winery</th>\n",
       "    </tr>\n",
       "    <tr>\n",
       "      <th>wine_id</th>\n",
       "      <th></th>\n",
       "      <th></th>\n",
       "      <th></th>\n",
       "      <th></th>\n",
       "      <th></th>\n",
       "      <th></th>\n",
       "      <th></th>\n",
       "      <th></th>\n",
       "      <th></th>\n",
       "      <th></th>\n",
       "      <th></th>\n",
       "      <th></th>\n",
       "      <th></th>\n",
       "    </tr>\n",
       "  </thead>\n",
       "  <tbody>\n",
       "    <tr>\n",
       "      <th>0</th>\n",
       "      <td>Italy</td>\n",
       "      <td>Aromas include tropical fruit, broom, brimston...</td>\n",
       "      <td>Vulkà Bianco</td>\n",
       "      <td>87</td>\n",
       "      <td>NaN</td>\n",
       "      <td>Sicily &amp; Sardinia</td>\n",
       "      <td>Etna</td>\n",
       "      <td>NaN</td>\n",
       "      <td>Kerin O’Keefe</td>\n",
       "      <td>@kerinokeefe</td>\n",
       "      <td>Nicosia 2013 Vulkà Bianco  (Etna)</td>\n",
       "      <td>White Blend</td>\n",
       "      <td>Nicosia</td>\n",
       "    </tr>\n",
       "    <tr>\n",
       "      <th>1</th>\n",
       "      <td>Portugal</td>\n",
       "      <td>This is ripe and fruity, a wine that is smooth...</td>\n",
       "      <td>Avidagos</td>\n",
       "      <td>87</td>\n",
       "      <td>15.0</td>\n",
       "      <td>Douro</td>\n",
       "      <td>NaN</td>\n",
       "      <td>NaN</td>\n",
       "      <td>Roger Voss</td>\n",
       "      <td>@vossroger</td>\n",
       "      <td>Quinta dos Avidagos 2011 Avidagos Red (Douro)</td>\n",
       "      <td>Portuguese Red</td>\n",
       "      <td>Quinta dos Avidagos</td>\n",
       "    </tr>\n",
       "    <tr>\n",
       "      <th>2</th>\n",
       "      <td>US</td>\n",
       "      <td>Tart and snappy, the flavors of lime flesh and...</td>\n",
       "      <td>NaN</td>\n",
       "      <td>87</td>\n",
       "      <td>14.0</td>\n",
       "      <td>Oregon</td>\n",
       "      <td>Willamette Valley</td>\n",
       "      <td>Willamette Valley</td>\n",
       "      <td>Paul Gregutt</td>\n",
       "      <td>@paulgwine</td>\n",
       "      <td>Rainstorm 2013 Pinot Gris (Willamette Valley)</td>\n",
       "      <td>Pinot Gris</td>\n",
       "      <td>Rainstorm</td>\n",
       "    </tr>\n",
       "    <tr>\n",
       "      <th>3</th>\n",
       "      <td>US</td>\n",
       "      <td>Pineapple rind, lemon pith and orange blossom ...</td>\n",
       "      <td>Reserve Late Harvest</td>\n",
       "      <td>87</td>\n",
       "      <td>13.0</td>\n",
       "      <td>Michigan</td>\n",
       "      <td>Lake Michigan Shore</td>\n",
       "      <td>NaN</td>\n",
       "      <td>Alexander Peartree</td>\n",
       "      <td>NaN</td>\n",
       "      <td>St. Julian 2013 Reserve Late Harvest Riesling ...</td>\n",
       "      <td>Riesling</td>\n",
       "      <td>St. Julian</td>\n",
       "    </tr>\n",
       "    <tr>\n",
       "      <th>4</th>\n",
       "      <td>US</td>\n",
       "      <td>Much like the regular bottling from 2012, this...</td>\n",
       "      <td>Vintner's Reserve Wild Child Block</td>\n",
       "      <td>87</td>\n",
       "      <td>65.0</td>\n",
       "      <td>Oregon</td>\n",
       "      <td>Willamette Valley</td>\n",
       "      <td>Willamette Valley</td>\n",
       "      <td>Paul Gregutt</td>\n",
       "      <td>@paulgwine</td>\n",
       "      <td>Sweet Cheeks 2012 Vintner's Reserve Wild Child...</td>\n",
       "      <td>Pinot Noir</td>\n",
       "      <td>Sweet Cheeks</td>\n",
       "    </tr>\n",
       "  </tbody>\n",
       "</table>\n",
       "</div>"
      ],
      "text/plain": [
       "          country                                        description  \\\n",
       "wine_id                                                                \n",
       "0           Italy  Aromas include tropical fruit, broom, brimston...   \n",
       "1        Portugal  This is ripe and fruity, a wine that is smooth...   \n",
       "2              US  Tart and snappy, the flavors of lime flesh and...   \n",
       "3              US  Pineapple rind, lemon pith and orange blossom ...   \n",
       "4              US  Much like the regular bottling from 2012, this...   \n",
       "\n",
       "                                designation  points  price           province  \\\n",
       "wine_id                                                                         \n",
       "0                              Vulkà Bianco      87    NaN  Sicily & Sardinia   \n",
       "1                                  Avidagos      87   15.0              Douro   \n",
       "2                                       NaN      87   14.0             Oregon   \n",
       "3                      Reserve Late Harvest      87   13.0           Michigan   \n",
       "4        Vintner's Reserve Wild Child Block      87   65.0             Oregon   \n",
       "\n",
       "                    region_1           region_2         taster_name  \\\n",
       "wine_id                                                               \n",
       "0                       Etna                NaN       Kerin O’Keefe   \n",
       "1                        NaN                NaN          Roger Voss   \n",
       "2          Willamette Valley  Willamette Valley        Paul Gregutt   \n",
       "3        Lake Michigan Shore                NaN  Alexander Peartree   \n",
       "4          Willamette Valley  Willamette Valley        Paul Gregutt   \n",
       "\n",
       "        taster_twitter_handle  \\\n",
       "wine_id                         \n",
       "0                @kerinokeefe   \n",
       "1                  @vossroger   \n",
       "2                 @paulgwine    \n",
       "3                         NaN   \n",
       "4                 @paulgwine    \n",
       "\n",
       "                                                     title         variety  \\\n",
       "wine_id                                                                      \n",
       "0                        Nicosia 2013 Vulkà Bianco  (Etna)     White Blend   \n",
       "1            Quinta dos Avidagos 2011 Avidagos Red (Douro)  Portuguese Red   \n",
       "2            Rainstorm 2013 Pinot Gris (Willamette Valley)      Pinot Gris   \n",
       "3        St. Julian 2013 Reserve Late Harvest Riesling ...        Riesling   \n",
       "4        Sweet Cheeks 2012 Vintner's Reserve Wild Child...      Pinot Noir   \n",
       "\n",
       "                      winery  \n",
       "wine_id                       \n",
       "0                    Nicosia  \n",
       "1        Quinta dos Avidagos  \n",
       "2                  Rainstorm  \n",
       "3                 St. Julian  \n",
       "4               Sweet Cheeks  "
      ]
     },
     "execution_count": 10,
     "metadata": {},
     "output_type": "execute_result"
    }
   ],
   "source": [
    "first5_df = df.head()\n",
    "first5_df"
   ]
  },
  {
   "cell_type": "code",
   "execution_count": 11,
   "metadata": {
    "collapsed": true,
    "jupyter": {
     "outputs_hidden": true
    }
   },
   "outputs": [
    {
     "data": {
      "text/html": [
       "<div>\n",
       "<style scoped>\n",
       "    .dataframe tbody tr th:only-of-type {\n",
       "        vertical-align: middle;\n",
       "    }\n",
       "\n",
       "    .dataframe tbody tr th {\n",
       "        vertical-align: top;\n",
       "    }\n",
       "\n",
       "    .dataframe thead th {\n",
       "        text-align: right;\n",
       "    }\n",
       "</style>\n",
       "<table border=\"1\" class=\"dataframe\">\n",
       "  <thead>\n",
       "    <tr style=\"text-align: right;\">\n",
       "      <th></th>\n",
       "      <th>country</th>\n",
       "      <th>description</th>\n",
       "      <th>designation</th>\n",
       "      <th>points</th>\n",
       "      <th>price</th>\n",
       "      <th>province</th>\n",
       "      <th>region_1</th>\n",
       "      <th>region_2</th>\n",
       "      <th>taster_name</th>\n",
       "      <th>taster_twitter_handle</th>\n",
       "      <th>title</th>\n",
       "      <th>variety</th>\n",
       "      <th>winery</th>\n",
       "    </tr>\n",
       "    <tr>\n",
       "      <th>wine_id</th>\n",
       "      <th></th>\n",
       "      <th></th>\n",
       "      <th></th>\n",
       "      <th></th>\n",
       "      <th></th>\n",
       "      <th></th>\n",
       "      <th></th>\n",
       "      <th></th>\n",
       "      <th></th>\n",
       "      <th></th>\n",
       "      <th></th>\n",
       "      <th></th>\n",
       "      <th></th>\n",
       "    </tr>\n",
       "  </thead>\n",
       "  <tbody>\n",
       "    <tr>\n",
       "      <th>1</th>\n",
       "      <td>Portugal</td>\n",
       "      <td>This is ripe and fruity, a wine that is smooth...</td>\n",
       "      <td>Avidagos</td>\n",
       "      <td>87</td>\n",
       "      <td>15.0</td>\n",
       "      <td>Douro</td>\n",
       "      <td>NaN</td>\n",
       "      <td>NaN</td>\n",
       "      <td>Roger Voss</td>\n",
       "      <td>@vossroger</td>\n",
       "      <td>Quinta dos Avidagos 2011 Avidagos Red (Douro)</td>\n",
       "      <td>Portuguese Red</td>\n",
       "      <td>Quinta dos Avidagos</td>\n",
       "    </tr>\n",
       "  </tbody>\n",
       "</table>\n",
       "</div>"
      ],
      "text/plain": [
       "          country                                        description  \\\n",
       "wine_id                                                                \n",
       "1        Portugal  This is ripe and fruity, a wine that is smooth...   \n",
       "\n",
       "        designation  points  price province region_1 region_2 taster_name  \\\n",
       "wine_id                                                                     \n",
       "1          Avidagos      87   15.0    Douro      NaN      NaN  Roger Voss   \n",
       "\n",
       "        taster_twitter_handle                                          title  \\\n",
       "wine_id                                                                        \n",
       "1                  @vossroger  Quinta dos Avidagos 2011 Avidagos Red (Douro)   \n",
       "\n",
       "                variety               winery  \n",
       "wine_id                                       \n",
       "1        Portuguese Red  Quinta dos Avidagos  "
      ]
     },
     "execution_count": 11,
     "metadata": {},
     "output_type": "execute_result"
    }
   ],
   "source": [
    "first5_df[ first5_df.country == 'Portugal' ]"
   ]
  },
  {
   "cell_type": "markdown",
   "metadata": {},
   "source": [
    "the condition is actually turned into a boolean array (True if the condition is met, False otherwise)"
   ]
  },
  {
   "cell_type": "code",
   "execution_count": 12,
   "metadata": {
    "collapsed": true,
    "jupyter": {
     "outputs_hidden": true
    }
   },
   "outputs": [
    {
     "data": {
      "text/plain": [
       "wine_id\n",
       "0    False\n",
       "1     True\n",
       "2    False\n",
       "3    False\n",
       "4    False\n",
       "Name: country, dtype: bool"
      ]
     },
     "execution_count": 12,
     "metadata": {},
     "output_type": "execute_result"
    }
   ],
   "source": [
    "(first5_df.country == 'Portugal')"
   ]
  },
  {
   "cell_type": "markdown",
   "metadata": {},
   "source": [
    "### Extra pandas conditions\n",
    "There are also useful pandas-specific method that can be used on the dataframe, such as:\n",
    "- `df.mycol.isna()` the column named 'mycol' is null\n",
    "- `df.mycol.notna()` the column named 'mycol' is not null\n",
    "- `df.mycol.isin(list_of_values)` the value in the 'mycol' column is almong the 'list_of_values'"
   ]
  },
  {
   "cell_type": "code",
   "execution_count": 58,
   "metadata": {
    "collapsed": true,
    "jupyter": {
     "outputs_hidden": true
    }
   },
   "outputs": [
    {
     "data": {
      "text/plain": [
       "wine_id\n",
       "0     True\n",
       "1     True\n",
       "2    False\n",
       "3    False\n",
       "4    False\n",
       "Name: country, dtype: bool"
      ]
     },
     "execution_count": 58,
     "metadata": {},
     "output_type": "execute_result"
    }
   ],
   "source": [
    "first5_df.country.isin(['Portugal', 'Italy'])"
   ]
  },
  {
   "cell_type": "markdown",
   "metadata": {},
   "source": [
    "### Using string and datetime methods\n",
    "If the column contains strings, the `.str.<method>` can be used to utilise a string method/attribute for each element in the column, for example:\n",
    "```python\n",
    "df['my_string_column'].str.startswith('I')\n",
    "```\n",
    "Similar can be done if a column has been converted to datatime, using the `.dt.<method>`, for example:\n",
    "```python\n",
    "df['my_date_column'].dt.year == 2015\n",
    "```"
   ]
  },
  {
   "cell_type": "code",
   "execution_count": 15,
   "metadata": {
    "collapsed": true,
    "jupyter": {
     "outputs_hidden": true
    }
   },
   "outputs": [
    {
     "data": {
      "text/plain": [
       "wine_id\n",
       "0     True\n",
       "1    False\n",
       "2    False\n",
       "3    False\n",
       "4    False\n",
       "Name: country, dtype: bool"
      ]
     },
     "execution_count": 15,
     "metadata": {},
     "output_type": "execute_result"
    }
   ],
   "source": [
    "first5_df.country.str.startswith('I')"
   ]
  },
  {
   "cell_type": "markdown",
   "metadata": {},
   "source": [
    "## Combining filters\n",
    "To use multiple filters together we can use the bit-wise logical operators, which are:\n",
    "- `&` = and\n",
    "- `|` = or\n",
    "- `~` = not\n",
    "\n",
    "**NOTE**: when combining filters we **need** to put parenthesis around the conditions to properly convert the condition to a binary array"
   ]
  },
  {
   "cell_type": "code",
   "execution_count": 16,
   "metadata": {
    "collapsed": true,
    "jupyter": {
     "outputs_hidden": true
    }
   },
   "outputs": [
    {
     "data": {
      "text/html": [
       "<div>\n",
       "<style scoped>\n",
       "    .dataframe tbody tr th:only-of-type {\n",
       "        vertical-align: middle;\n",
       "    }\n",
       "\n",
       "    .dataframe tbody tr th {\n",
       "        vertical-align: top;\n",
       "    }\n",
       "\n",
       "    .dataframe thead th {\n",
       "        text-align: right;\n",
       "    }\n",
       "</style>\n",
       "<table border=\"1\" class=\"dataframe\">\n",
       "  <thead>\n",
       "    <tr style=\"text-align: right;\">\n",
       "      <th></th>\n",
       "      <th>country</th>\n",
       "      <th>description</th>\n",
       "      <th>designation</th>\n",
       "      <th>points</th>\n",
       "      <th>price</th>\n",
       "      <th>province</th>\n",
       "      <th>region_1</th>\n",
       "      <th>region_2</th>\n",
       "      <th>taster_name</th>\n",
       "      <th>taster_twitter_handle</th>\n",
       "      <th>title</th>\n",
       "      <th>variety</th>\n",
       "      <th>winery</th>\n",
       "    </tr>\n",
       "    <tr>\n",
       "      <th>wine_id</th>\n",
       "      <th></th>\n",
       "      <th></th>\n",
       "      <th></th>\n",
       "      <th></th>\n",
       "      <th></th>\n",
       "      <th></th>\n",
       "      <th></th>\n",
       "      <th></th>\n",
       "      <th></th>\n",
       "      <th></th>\n",
       "      <th></th>\n",
       "      <th></th>\n",
       "      <th></th>\n",
       "    </tr>\n",
       "  </thead>\n",
       "  <tbody>\n",
       "    <tr>\n",
       "      <th>3</th>\n",
       "      <td>US</td>\n",
       "      <td>Pineapple rind, lemon pith and orange blossom ...</td>\n",
       "      <td>Reserve Late Harvest</td>\n",
       "      <td>87</td>\n",
       "      <td>13.0</td>\n",
       "      <td>Michigan</td>\n",
       "      <td>Lake Michigan Shore</td>\n",
       "      <td>NaN</td>\n",
       "      <td>Alexander Peartree</td>\n",
       "      <td>NaN</td>\n",
       "      <td>St. Julian 2013 Reserve Late Harvest Riesling ...</td>\n",
       "      <td>Riesling</td>\n",
       "      <td>St. Julian</td>\n",
       "    </tr>\n",
       "  </tbody>\n",
       "</table>\n",
       "</div>"
      ],
      "text/plain": [
       "        country                                        description  \\\n",
       "wine_id                                                              \n",
       "3            US  Pineapple rind, lemon pith and orange blossom ...   \n",
       "\n",
       "                  designation  points  price  province             region_1  \\\n",
       "wine_id                                                                       \n",
       "3        Reserve Late Harvest      87   13.0  Michigan  Lake Michigan Shore   \n",
       "\n",
       "        region_2         taster_name taster_twitter_handle  \\\n",
       "wine_id                                                      \n",
       "3            NaN  Alexander Peartree                   NaN   \n",
       "\n",
       "                                                     title   variety  \\\n",
       "wine_id                                                                \n",
       "3        St. Julian 2013 Reserve Late Harvest Riesling ...  Riesling   \n",
       "\n",
       "             winery  \n",
       "wine_id              \n",
       "3        St. Julian  "
      ]
     },
     "execution_count": 16,
     "metadata": {},
     "output_type": "execute_result"
    }
   ],
   "source": [
    "# we could write this..\n",
    "first5_df[\n",
    "    (first5_df.country == 'US') & \n",
    "    ~(first5_df.variety.str.contains('Pinot'))\n",
    "]"
   ]
  },
  {
   "cell_type": "code",
   "execution_count": 57,
   "metadata": {
    "collapsed": true,
    "jupyter": {
     "outputs_hidden": true
    }
   },
   "outputs": [
    {
     "data": {
      "text/html": [
       "<div>\n",
       "<style scoped>\n",
       "    .dataframe tbody tr th:only-of-type {\n",
       "        vertical-align: middle;\n",
       "    }\n",
       "\n",
       "    .dataframe tbody tr th {\n",
       "        vertical-align: top;\n",
       "    }\n",
       "\n",
       "    .dataframe thead th {\n",
       "        text-align: right;\n",
       "    }\n",
       "</style>\n",
       "<table border=\"1\" class=\"dataframe\">\n",
       "  <thead>\n",
       "    <tr style=\"text-align: right;\">\n",
       "      <th></th>\n",
       "      <th>country</th>\n",
       "      <th>description</th>\n",
       "      <th>designation</th>\n",
       "      <th>points</th>\n",
       "      <th>price</th>\n",
       "      <th>province</th>\n",
       "      <th>region_1</th>\n",
       "      <th>region_2</th>\n",
       "      <th>taster_name</th>\n",
       "      <th>taster_twitter_handle</th>\n",
       "      <th>title</th>\n",
       "      <th>variety</th>\n",
       "      <th>winery</th>\n",
       "    </tr>\n",
       "    <tr>\n",
       "      <th>wine_id</th>\n",
       "      <th></th>\n",
       "      <th></th>\n",
       "      <th></th>\n",
       "      <th></th>\n",
       "      <th></th>\n",
       "      <th></th>\n",
       "      <th></th>\n",
       "      <th></th>\n",
       "      <th></th>\n",
       "      <th></th>\n",
       "      <th></th>\n",
       "      <th></th>\n",
       "      <th></th>\n",
       "    </tr>\n",
       "  </thead>\n",
       "  <tbody>\n",
       "    <tr>\n",
       "      <th>3</th>\n",
       "      <td>US</td>\n",
       "      <td>Pineapple rind, lemon pith and orange blossom ...</td>\n",
       "      <td>Reserve Late Harvest</td>\n",
       "      <td>87</td>\n",
       "      <td>13.0</td>\n",
       "      <td>Michigan</td>\n",
       "      <td>Lake Michigan Shore</td>\n",
       "      <td>NaN</td>\n",
       "      <td>Alexander Peartree</td>\n",
       "      <td>NaN</td>\n",
       "      <td>St. Julian 2013 Reserve Late Harvest Riesling ...</td>\n",
       "      <td>Riesling</td>\n",
       "      <td>St. Julian</td>\n",
       "    </tr>\n",
       "  </tbody>\n",
       "</table>\n",
       "</div>"
      ],
      "text/plain": [
       "        country                                        description  \\\n",
       "wine_id                                                              \n",
       "3            US  Pineapple rind, lemon pith and orange blossom ...   \n",
       "\n",
       "                  designation  points  price  province             region_1  \\\n",
       "wine_id                                                                       \n",
       "3        Reserve Late Harvest      87   13.0  Michigan  Lake Michigan Shore   \n",
       "\n",
       "        region_2         taster_name taster_twitter_handle  \\\n",
       "wine_id                                                      \n",
       "3            NaN  Alexander Peartree                   NaN   \n",
       "\n",
       "                                                     title   variety  \\\n",
       "wine_id                                                                \n",
       "3        St. Julian 2013 Reserve Late Harvest Riesling ...  Riesling   \n",
       "\n",
       "             winery  \n",
       "wine_id              \n",
       "3        St. Julian  "
      ]
     },
     "execution_count": 57,
     "metadata": {},
     "output_type": "execute_result"
    }
   ],
   "source": [
    "# .. but for readibility the following approach is usually better\n",
    "is_from_us = (first5_df.country == 'US')\n",
    "not_pinot = ~(first5_df.variety.str.contains('Pinot'))\n",
    "\n",
    "first5_df[is_from_us & not_pinot]"
   ]
  },
  {
   "cell_type": "markdown",
   "metadata": {},
   "source": [
    "### ***EXERCISE 4.2***\n",
    "Find the wines that meet the following conditions:\n",
    "- the taster name starts with \"J\"\n",
    "- the score (points) is either higher than 99 or lower than 81\n",
    "- it does not come from France\n",
    "- the province contanins a \"y\" (anywhere in the name)"
   ]
  },
  {
   "cell_type": "code",
   "execution_count": 58,
   "metadata": {},
   "outputs": [],
   "source": [
    "# insert solution here"
   ]
  },
  {
   "cell_type": "code",
   "execution_count": null,
   "metadata": {},
   "outputs": [],
   "source": []
  }
 ],
 "metadata": {
  "kernelspec": {
   "display_name": "Python 3",
   "language": "python",
   "name": "python3"
  },
  "language_info": {
   "codemirror_mode": {
    "name": "ipython",
    "version": 3
   },
   "file_extension": ".py",
   "mimetype": "text/x-python",
   "name": "python",
   "nbconvert_exporter": "python",
   "pygments_lexer": "ipython3",
   "version": "3.7.3"
  }
 },
 "nbformat": 4,
 "nbformat_minor": 4
}
