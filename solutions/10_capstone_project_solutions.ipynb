{
 "cells": [
  {
   "cell_type": "code",
   "execution_count": 1,
   "metadata": {},
   "outputs": [],
   "source": [
    "import pandas as pd\n",
    "import numpy as np\n",
    "import matplotlib.pyplot as plt\n",
    "%matplotlib inline"
   ]
  },
  {
   "cell_type": "markdown",
   "metadata": {},
   "source": [
    "# Capstone Project\n",
    "To tie most of what we have learned together in this tutorial, let's analyse the *world-happiness* dataset.\n",
    "\n",
    "Below are the tasks that need to be done."
   ]
  },
  {
   "cell_type": "markdown",
   "metadata": {},
   "source": [
    "## Loading data\n",
    "load the data in `data/world-happiness/{year}.csv` for each year \n",
    "\n",
    "to each a column 'data_year' to keep track of the source year"
   ]
  },
  {
   "cell_type": "code",
   "execution_count": 2,
   "metadata": {},
   "outputs": [],
   "source": [
    "# insert solution here"
   ]
  },
  {
   "cell_type": "code",
   "execution_count": 3,
   "metadata": {},
   "outputs": [
    {
     "name": "stdout",
     "output_type": "stream",
     "text": [
      "Index(['Country', 'Region', 'Happiness Rank', 'Happiness Score',\n",
      "       'Standard Error', 'Economy (GDP per Capita)', 'Family',\n",
      "       'Health (Life Expectancy)', 'Freedom', 'Trust (Government Corruption)',\n",
      "       'Generosity', 'Dystopia Residual', 'data_year'],\n",
      "      dtype='object')\n",
      "Index(['Country', 'Region', 'Happiness Rank', 'Happiness Score',\n",
      "       'Lower Confidence Interval', 'Upper Confidence Interval',\n",
      "       'Economy (GDP per Capita)', 'Family', 'Health (Life Expectancy)',\n",
      "       'Freedom', 'Trust (Government Corruption)', 'Generosity',\n",
      "       'Dystopia Residual', 'data_year'],\n",
      "      dtype='object')\n",
      "Index(['Country', 'Happiness.Rank', 'Happiness.Score', 'Whisker.high',\n",
      "       'Whisker.low', 'Economy..GDP.per.Capita.', 'Family',\n",
      "       'Health..Life.Expectancy.', 'Freedom', 'Generosity',\n",
      "       'Trust..Government.Corruption.', 'Dystopia.Residual', 'data_year'],\n",
      "      dtype='object')\n"
     ]
    }
   ],
   "source": [
    "dfs = {}\n",
    "for year in (2015, 2016, 2017):\n",
    "    i_df = pd.read_csv(f'../data/world-happiness/{year}.csv')\n",
    "    i_df['data_year'] = year\n",
    "    print(i_df.columns)\n",
    "    dfs[year] = i_df"
   ]
  },
  {
   "cell_type": "markdown",
   "metadata": {},
   "source": [
    "## Correcting column names\n",
    "correct the column names in the 2017 data so to be consistent with the previous years"
   ]
  },
  {
   "cell_type": "code",
   "execution_count": 4,
   "metadata": {},
   "outputs": [],
   "source": [
    "# insert solution here"
   ]
  },
  {
   "cell_type": "code",
   "execution_count": 5,
   "metadata": {},
   "outputs": [],
   "source": [
    "dfs[2017].rename(columns={\n",
    "    'Economy..GDP.per.Capita.': 'Economy (GDP per Capita)', \n",
    "    'Health..Life.Expectancy.': 'Health (Life Expectancy)', \n",
    "    'Trust..Government.Corruption.': 'Trust (Government Corruption)'\n",
    "}, inplace=True)\n",
    "dfs[2017].columns = dfs[2017].columns.str.replace('.', ' ')"
   ]
  },
  {
   "cell_type": "code",
   "execution_count": 6,
   "metadata": {},
   "outputs": [
    {
     "name": "stdout",
     "output_type": "stream",
     "text": [
      "Index(['Country', 'Region', 'Happiness Rank', 'Happiness Score',\n",
      "       'Standard Error', 'Economy (GDP per Capita)', 'Family',\n",
      "       'Health (Life Expectancy)', 'Freedom', 'Trust (Government Corruption)',\n",
      "       'Generosity', 'Dystopia Residual', 'data_year'],\n",
      "      dtype='object')\n",
      "Index(['Country', 'Happiness Rank', 'Happiness Score', 'Whisker high',\n",
      "       'Whisker low', 'Economy (GDP per Capita)', 'Family',\n",
      "       'Health (Life Expectancy)', 'Freedom', 'Generosity',\n",
      "       'Trust (Government Corruption)', 'Dystopia Residual', 'data_year'],\n",
      "      dtype='object')\n"
     ]
    }
   ],
   "source": [
    "#checking\n",
    "print(dfs[2015].columns)\n",
    "print(dfs[2017].columns)"
   ]
  },
  {
   "cell_type": "markdown",
   "metadata": {},
   "source": [
    "# Standardize Country names\n",
    "correct the names in all DataFrames to common ones.\n",
    "\n",
    "**HINT**: you can use the following correction dictionary or create your own\n",
    "```python\n",
    "correcting_country_names = {\n",
    "    'Taiwan': 'Taiwan Province of China',\n",
    "    'Hong Kong': 'Hong Kong S.A.R., China',\n",
    "}\n",
    "```"
   ]
  },
  {
   "cell_type": "code",
   "execution_count": 7,
   "metadata": {},
   "outputs": [],
   "source": [
    "# insert solution here"
   ]
  },
  {
   "cell_type": "code",
   "execution_count": 8,
   "metadata": {},
   "outputs": [
    {
     "name": "stdout",
     "output_type": "stream",
     "text": [
      "extra_in_2015   : ['Comoros', 'Djibouti', 'Hong Kong', 'Laos', 'Oman', 'Somaliland region', 'Suriname', 'Swaziland', 'Taiwan']\n",
      "missing_in_2015 : ['Belize', 'Hong Kong S.A.R., China', 'Namibia', 'Somalia', 'South Sudan', 'Taiwan Province of China']\n",
      "extra_in_2016   : ['Comoros', 'Hong Kong', 'Laos', 'Puerto Rico', 'Somaliland Region', 'Suriname', 'Taiwan']\n",
      "missing_in_2016 : ['Central African Republic', 'Hong Kong S.A.R., China', 'Lesotho', 'Mozambique', 'Taiwan Province of China']\n"
     ]
    }
   ],
   "source": [
    "# this is how 'correcting_country_names' was created\n",
    "def compare_series(s1, s2, s2_name='s2'):\n",
    "    set1, set2 = set(s1), set(s2)\n",
    "    missing_in_s1 = sorted(set2 - set1)\n",
    "    missing_in_s2 = sorted(set1 - set2)\n",
    "    print(f'extra_in_{s2_name}   : {missing_in_s1}\\nmissing_in_{s2_name} : {missing_in_s2}')\n",
    "    \n",
    "compare_series(s1=dfs[2017]['Country'], s2=dfs[2015]['Country'], s2_name='2015')\n",
    "compare_series(s1=dfs[2017]['Country'], s2=dfs[2016]['Country'], s2_name='2016')"
   ]
  },
  {
   "cell_type": "code",
   "execution_count": 9,
   "metadata": {},
   "outputs": [
    {
     "name": "stdout",
     "output_type": "stream",
     "text": [
      "extra_in_2015   : ['Comoros', 'Djibouti', 'Laos', 'Oman', 'Somaliland region', 'Suriname', 'Swaziland']\n",
      "missing_in_2015 : ['Belize', 'Namibia', 'Somalia', 'South Sudan']\n",
      "extra_in_2016   : ['Comoros', 'Laos', 'Puerto Rico', 'Somaliland Region', 'Suriname']\n",
      "missing_in_2016 : ['Central African Republic', 'Lesotho', 'Mozambique']\n"
     ]
    }
   ],
   "source": [
    "correcting_country_names = {\n",
    "    'Taiwan': 'Taiwan Province of China',\n",
    "    'Hong Kong': 'Hong Kong S.A.R., China',\n",
    "}\n",
    "\n",
    "for k,v in correcting_country_names.items():\n",
    "    dfs[2015]['Country'].replace(k,v, inplace=True)\n",
    "    dfs[2016]['Country'].replace(k,v, inplace=True)\n",
    "    dfs[2017]['Country'].replace(k,v, inplace=True)\n",
    "    \n",
    "compare_series(s1=dfs[2017]['Country'], s2=dfs[2015]['Country'], s2_name='2015')\n",
    "compare_series(s1=dfs[2017]['Country'], s2=dfs[2016]['Country'], s2_name='2016')"
   ]
  },
  {
   "cell_type": "markdown",
   "metadata": {},
   "source": [
    "## Remove Inconsistent Countries \n",
    "remove the rows of the countries that are not in all datasets"
   ]
  },
  {
   "cell_type": "code",
   "execution_count": 10,
   "metadata": {},
   "outputs": [
    {
     "name": "stdout",
     "output_type": "stream",
     "text": [
      "starting with n_rows:  [158, 157, 155]\n",
      "trimmed to n_rows:  [148, 148, 148]\n"
     ]
    }
   ],
   "source": [
    "print('starting with n_rows: ', [df.shape[0] for df in dfs.values()])\n",
    "\n",
    "list_of_unique_country_names = [set(i['Country']) for i in dfs.values()]\n",
    "common_country_names = set.intersection(*list_of_unique_country_names)\n",
    "\n",
    "trimmed_dfs = {year: df[df['Country'].isin(common_country_names)].copy() for year, df in dfs.items()}\n",
    "\n",
    "print('trimmed to n_rows: ', [df.shape[0] for df in trimmed_dfs.values()])"
   ]
  },
  {
   "cell_type": "markdown",
   "metadata": {},
   "source": [
    "## Add Region to 2017 data\n",
    "add Region column to the 2017 data by using the same mapping of the previous years "
   ]
  },
  {
   "cell_type": "code",
   "execution_count": 11,
   "metadata": {},
   "outputs": [
    {
     "data": {
      "text/plain": [
       "True"
      ]
     },
     "execution_count": 11,
     "metadata": {},
     "output_type": "execute_result"
    }
   ],
   "source": [
    "mapping_2015 = {k:v for k,v in trimmed_dfs[2015].apply(lambda row: (row['Country'],row['Region']), axis=1)}\n",
    "mapping_2016 = {k:v for k,v in trimmed_dfs[2016].apply(lambda row: (row['Country'],row['Region']), axis=1)}\n",
    "\n",
    "mapping_2015 == mapping_2016  # checking they match"
   ]
  },
  {
   "cell_type": "code",
   "execution_count": 12,
   "metadata": {},
   "outputs": [
    {
     "data": {
      "text/html": [
       "<div>\n",
       "<style scoped>\n",
       "    .dataframe tbody tr th:only-of-type {\n",
       "        vertical-align: middle;\n",
       "    }\n",
       "\n",
       "    .dataframe tbody tr th {\n",
       "        vertical-align: top;\n",
       "    }\n",
       "\n",
       "    .dataframe thead th {\n",
       "        text-align: right;\n",
       "    }\n",
       "</style>\n",
       "<table border=\"1\" class=\"dataframe\">\n",
       "  <thead>\n",
       "    <tr style=\"text-align: right;\">\n",
       "      <th></th>\n",
       "      <th>Country</th>\n",
       "      <th>Happiness Rank</th>\n",
       "      <th>Happiness Score</th>\n",
       "      <th>Whisker high</th>\n",
       "      <th>Whisker low</th>\n",
       "      <th>Economy (GDP per Capita)</th>\n",
       "      <th>Family</th>\n",
       "      <th>Health (Life Expectancy)</th>\n",
       "      <th>Freedom</th>\n",
       "      <th>Generosity</th>\n",
       "      <th>Trust (Government Corruption)</th>\n",
       "      <th>Dystopia Residual</th>\n",
       "      <th>data_year</th>\n",
       "      <th>Region</th>\n",
       "    </tr>\n",
       "  </thead>\n",
       "  <tbody>\n",
       "    <tr>\n",
       "      <th>0</th>\n",
       "      <td>Norway</td>\n",
       "      <td>1</td>\n",
       "      <td>7.537</td>\n",
       "      <td>7.594445</td>\n",
       "      <td>7.479556</td>\n",
       "      <td>1.616463</td>\n",
       "      <td>1.533524</td>\n",
       "      <td>0.796667</td>\n",
       "      <td>0.635423</td>\n",
       "      <td>0.362012</td>\n",
       "      <td>0.315964</td>\n",
       "      <td>2.277027</td>\n",
       "      <td>2017</td>\n",
       "      <td>Western Europe</td>\n",
       "    </tr>\n",
       "    <tr>\n",
       "      <th>1</th>\n",
       "      <td>Denmark</td>\n",
       "      <td>2</td>\n",
       "      <td>7.522</td>\n",
       "      <td>7.581728</td>\n",
       "      <td>7.462272</td>\n",
       "      <td>1.482383</td>\n",
       "      <td>1.551122</td>\n",
       "      <td>0.792566</td>\n",
       "      <td>0.626007</td>\n",
       "      <td>0.355280</td>\n",
       "      <td>0.400770</td>\n",
       "      <td>2.313707</td>\n",
       "      <td>2017</td>\n",
       "      <td>Western Europe</td>\n",
       "    </tr>\n",
       "    <tr>\n",
       "      <th>2</th>\n",
       "      <td>Iceland</td>\n",
       "      <td>3</td>\n",
       "      <td>7.504</td>\n",
       "      <td>7.622030</td>\n",
       "      <td>7.385970</td>\n",
       "      <td>1.480633</td>\n",
       "      <td>1.610574</td>\n",
       "      <td>0.833552</td>\n",
       "      <td>0.627163</td>\n",
       "      <td>0.475540</td>\n",
       "      <td>0.153527</td>\n",
       "      <td>2.322715</td>\n",
       "      <td>2017</td>\n",
       "      <td>Western Europe</td>\n",
       "    </tr>\n",
       "  </tbody>\n",
       "</table>\n",
       "</div>"
      ],
      "text/plain": [
       "   Country  Happiness Rank  Happiness Score  Whisker high  Whisker low  \\\n",
       "0   Norway               1            7.537      7.594445     7.479556   \n",
       "1  Denmark               2            7.522      7.581728     7.462272   \n",
       "2  Iceland               3            7.504      7.622030     7.385970   \n",
       "\n",
       "   Economy (GDP per Capita)    Family  Health (Life Expectancy)   Freedom  \\\n",
       "0                  1.616463  1.533524                  0.796667  0.635423   \n",
       "1                  1.482383  1.551122                  0.792566  0.626007   \n",
       "2                  1.480633  1.610574                  0.833552  0.627163   \n",
       "\n",
       "   Generosity  Trust (Government Corruption)  Dystopia Residual  data_year  \\\n",
       "0    0.362012                       0.315964           2.277027       2017   \n",
       "1    0.355280                       0.400770           2.313707       2017   \n",
       "2    0.475540                       0.153527           2.322715       2017   \n",
       "\n",
       "           Region  \n",
       "0  Western Europe  \n",
       "1  Western Europe  \n",
       "2  Western Europe  "
      ]
     },
     "execution_count": 12,
     "metadata": {},
     "output_type": "execute_result"
    }
   ],
   "source": [
    "trimmed_dfs[2017]['Region'] = trimmed_dfs[2017]['Country'].apply(mapping_2015.get)\n",
    "trimmed_dfs[2017].head(3)"
   ]
  },
  {
   "cell_type": "markdown",
   "metadata": {},
   "source": [
    "## Remove Inconsistent Columns \n",
    "remove the columns that are not in all datasets"
   ]
  },
  {
   "cell_type": "code",
   "execution_count": 13,
   "metadata": {},
   "outputs": [
    {
     "data": {
      "text/plain": [
       "['Country',\n",
       " 'Dystopia Residual',\n",
       " 'Economy (GDP per Capita)',\n",
       " 'Family',\n",
       " 'Freedom',\n",
       " 'Generosity',\n",
       " 'Happiness Rank',\n",
       " 'Happiness Score',\n",
       " 'Health (Life Expectancy)',\n",
       " 'Region',\n",
       " 'Trust (Government Corruption)',\n",
       " 'data_year']"
      ]
     },
     "execution_count": 13,
     "metadata": {},
     "output_type": "execute_result"
    }
   ],
   "source": [
    "list_of_unique_columns = [set(df.columns) for df in trimmed_dfs.values()]\n",
    "common_columns = sorted(set.intersection(*list_of_unique_columns))\n",
    "\n",
    "common_columns"
   ]
  },
  {
   "cell_type": "code",
   "execution_count": 14,
   "metadata": {},
   "outputs": [
    {
     "name": "stdout",
     "output_type": "stream",
     "text": [
      "2015 True\n",
      "2016 True\n",
      "2017 True\n"
     ]
    }
   ],
   "source": [
    "trimmed_dfs = {year: df[common_columns].copy() for (year,df) in trimmed_dfs.items()}\n",
    "\n",
    "# check columns match\n",
    "for k,v in trimmed_dfs.items():\n",
    "    print(k, sorted(v.columns) == common_columns)"
   ]
  },
  {
   "cell_type": "markdown",
   "metadata": {},
   "source": [
    "## Combine All DataFrames\n",
    "now that all three dataframes have been standardized, we can combine them (vertically)"
   ]
  },
  {
   "cell_type": "code",
   "execution_count": 15,
   "metadata": {},
   "outputs": [
    {
     "data": {
      "text/html": [
       "<div>\n",
       "<style scoped>\n",
       "    .dataframe tbody tr th:only-of-type {\n",
       "        vertical-align: middle;\n",
       "    }\n",
       "\n",
       "    .dataframe tbody tr th {\n",
       "        vertical-align: top;\n",
       "    }\n",
       "\n",
       "    .dataframe thead th {\n",
       "        text-align: right;\n",
       "    }\n",
       "</style>\n",
       "<table border=\"1\" class=\"dataframe\">\n",
       "  <thead>\n",
       "    <tr style=\"text-align: right;\">\n",
       "      <th></th>\n",
       "      <th>Country</th>\n",
       "      <th>Dystopia Residual</th>\n",
       "      <th>Economy (GDP per Capita)</th>\n",
       "      <th>Family</th>\n",
       "      <th>Freedom</th>\n",
       "      <th>Generosity</th>\n",
       "      <th>Happiness Rank</th>\n",
       "      <th>Happiness Score</th>\n",
       "      <th>Health (Life Expectancy)</th>\n",
       "      <th>Region</th>\n",
       "      <th>Trust (Government Corruption)</th>\n",
       "      <th>data_year</th>\n",
       "    </tr>\n",
       "  </thead>\n",
       "  <tbody>\n",
       "    <tr>\n",
       "      <th>0</th>\n",
       "      <td>Switzerland</td>\n",
       "      <td>2.51738</td>\n",
       "      <td>1.39651</td>\n",
       "      <td>1.34951</td>\n",
       "      <td>0.66557</td>\n",
       "      <td>0.29678</td>\n",
       "      <td>1</td>\n",
       "      <td>7.587</td>\n",
       "      <td>0.94143</td>\n",
       "      <td>Western Europe</td>\n",
       "      <td>0.41978</td>\n",
       "      <td>2015</td>\n",
       "    </tr>\n",
       "    <tr>\n",
       "      <th>1</th>\n",
       "      <td>Iceland</td>\n",
       "      <td>2.70201</td>\n",
       "      <td>1.30232</td>\n",
       "      <td>1.40223</td>\n",
       "      <td>0.62877</td>\n",
       "      <td>0.43630</td>\n",
       "      <td>2</td>\n",
       "      <td>7.561</td>\n",
       "      <td>0.94784</td>\n",
       "      <td>Western Europe</td>\n",
       "      <td>0.14145</td>\n",
       "      <td>2015</td>\n",
       "    </tr>\n",
       "    <tr>\n",
       "      <th>2</th>\n",
       "      <td>Denmark</td>\n",
       "      <td>2.49204</td>\n",
       "      <td>1.32548</td>\n",
       "      <td>1.36058</td>\n",
       "      <td>0.64938</td>\n",
       "      <td>0.34139</td>\n",
       "      <td>3</td>\n",
       "      <td>7.527</td>\n",
       "      <td>0.87464</td>\n",
       "      <td>Western Europe</td>\n",
       "      <td>0.48357</td>\n",
       "      <td>2015</td>\n",
       "    </tr>\n",
       "    <tr>\n",
       "      <th>3</th>\n",
       "      <td>Norway</td>\n",
       "      <td>2.46531</td>\n",
       "      <td>1.45900</td>\n",
       "      <td>1.33095</td>\n",
       "      <td>0.66973</td>\n",
       "      <td>0.34699</td>\n",
       "      <td>4</td>\n",
       "      <td>7.522</td>\n",
       "      <td>0.88521</td>\n",
       "      <td>Western Europe</td>\n",
       "      <td>0.36503</td>\n",
       "      <td>2015</td>\n",
       "    </tr>\n",
       "    <tr>\n",
       "      <th>4</th>\n",
       "      <td>Canada</td>\n",
       "      <td>2.45176</td>\n",
       "      <td>1.32629</td>\n",
       "      <td>1.32261</td>\n",
       "      <td>0.63297</td>\n",
       "      <td>0.45811</td>\n",
       "      <td>5</td>\n",
       "      <td>7.427</td>\n",
       "      <td>0.90563</td>\n",
       "      <td>North America</td>\n",
       "      <td>0.32957</td>\n",
       "      <td>2015</td>\n",
       "    </tr>\n",
       "  </tbody>\n",
       "</table>\n",
       "</div>"
      ],
      "text/plain": [
       "       Country  Dystopia Residual  Economy (GDP per Capita)   Family  Freedom  \\\n",
       "0  Switzerland            2.51738                   1.39651  1.34951  0.66557   \n",
       "1      Iceland            2.70201                   1.30232  1.40223  0.62877   \n",
       "2      Denmark            2.49204                   1.32548  1.36058  0.64938   \n",
       "3       Norway            2.46531                   1.45900  1.33095  0.66973   \n",
       "4       Canada            2.45176                   1.32629  1.32261  0.63297   \n",
       "\n",
       "   Generosity  Happiness Rank  Happiness Score  Health (Life Expectancy)  \\\n",
       "0     0.29678               1            7.587                   0.94143   \n",
       "1     0.43630               2            7.561                   0.94784   \n",
       "2     0.34139               3            7.527                   0.87464   \n",
       "3     0.34699               4            7.522                   0.88521   \n",
       "4     0.45811               5            7.427                   0.90563   \n",
       "\n",
       "           Region  Trust (Government Corruption)  data_year  \n",
       "0  Western Europe                        0.41978       2015  \n",
       "1  Western Europe                        0.14145       2015  \n",
       "2  Western Europe                        0.48357       2015  \n",
       "3  Western Europe                        0.36503       2015  \n",
       "4   North America                        0.32957       2015  "
      ]
     },
     "execution_count": 15,
     "metadata": {},
     "output_type": "execute_result"
    }
   ],
   "source": [
    "df = pd.concat(trimmed_dfs.values(), axis='index')\n",
    "df.head()"
   ]
  },
  {
   "cell_type": "markdown",
   "metadata": {},
   "source": [
    "## Analysing the data\n",
    "Use the cleaned dataset to answer the following questions/tasks.\n",
    "\n",
    "Feel free to explore more and answer your own questions."
   ]
  },
  {
   "cell_type": "markdown",
   "metadata": {},
   "source": [
    "### Which country is consistely more Generous? which least Generous?"
   ]
  },
  {
   "cell_type": "code",
   "execution_count": 16,
   "metadata": {},
   "outputs": [
    {
     "data": {
      "text/plain": [
       "'most:'"
      ]
     },
     "metadata": {},
     "output_type": "display_data"
    },
    {
     "data": {
      "text/html": [
       "<div>\n",
       "<style scoped>\n",
       "    .dataframe tbody tr th:only-of-type {\n",
       "        vertical-align: middle;\n",
       "    }\n",
       "\n",
       "    .dataframe tbody tr th {\n",
       "        vertical-align: top;\n",
       "    }\n",
       "\n",
       "    .dataframe thead th {\n",
       "        text-align: right;\n",
       "    }\n",
       "</style>\n",
       "<table border=\"1\" class=\"dataframe\">\n",
       "  <thead>\n",
       "    <tr style=\"text-align: right;\">\n",
       "      <th></th>\n",
       "      <th>Country</th>\n",
       "      <th>Dystopia Residual</th>\n",
       "      <th>Economy (GDP per Capita)</th>\n",
       "      <th>Family</th>\n",
       "      <th>Freedom</th>\n",
       "      <th>Generosity</th>\n",
       "      <th>Happiness Rank</th>\n",
       "      <th>Happiness Score</th>\n",
       "      <th>Health (Life Expectancy)</th>\n",
       "      <th>Region</th>\n",
       "      <th>Trust (Government Corruption)</th>\n",
       "      <th>data_year</th>\n",
       "    </tr>\n",
       "  </thead>\n",
       "  <tbody>\n",
       "    <tr>\n",
       "      <th>128</th>\n",
       "      <td>Myanmar</td>\n",
       "      <td>1.41805</td>\n",
       "      <td>0.271080</td>\n",
       "      <td>0.709050</td>\n",
       "      <td>0.440170</td>\n",
       "      <td>0.795880</td>\n",
       "      <td>129</td>\n",
       "      <td>4.307</td>\n",
       "      <td>0.482460</td>\n",
       "      <td>Southeastern Asia</td>\n",
       "      <td>0.190340</td>\n",
       "      <td>2015</td>\n",
       "    </tr>\n",
       "    <tr>\n",
       "      <th>118</th>\n",
       "      <td>Myanmar</td>\n",
       "      <td>1.50655</td>\n",
       "      <td>0.341120</td>\n",
       "      <td>0.699810</td>\n",
       "      <td>0.426920</td>\n",
       "      <td>0.819710</td>\n",
       "      <td>119</td>\n",
       "      <td>4.395</td>\n",
       "      <td>0.398800</td>\n",
       "      <td>Southeastern Asia</td>\n",
       "      <td>0.202430</td>\n",
       "      <td>2016</td>\n",
       "    </tr>\n",
       "    <tr>\n",
       "      <th>113</th>\n",
       "      <td>Myanmar</td>\n",
       "      <td>1.11529</td>\n",
       "      <td>0.367111</td>\n",
       "      <td>1.123236</td>\n",
       "      <td>0.514492</td>\n",
       "      <td>0.838075</td>\n",
       "      <td>114</td>\n",
       "      <td>4.545</td>\n",
       "      <td>0.397523</td>\n",
       "      <td>Southeastern Asia</td>\n",
       "      <td>0.188816</td>\n",
       "      <td>2017</td>\n",
       "    </tr>\n",
       "  </tbody>\n",
       "</table>\n",
       "</div>"
      ],
      "text/plain": [
       "     Country  Dystopia Residual  Economy (GDP per Capita)    Family   Freedom  \\\n",
       "128  Myanmar            1.41805                  0.271080  0.709050  0.440170   \n",
       "118  Myanmar            1.50655                  0.341120  0.699810  0.426920   \n",
       "113  Myanmar            1.11529                  0.367111  1.123236  0.514492   \n",
       "\n",
       "     Generosity  Happiness Rank  Happiness Score  Health (Life Expectancy)  \\\n",
       "128    0.795880             129            4.307                  0.482460   \n",
       "118    0.819710             119            4.395                  0.398800   \n",
       "113    0.838075             114            4.545                  0.397523   \n",
       "\n",
       "                Region  Trust (Government Corruption)  data_year  \n",
       "128  Southeastern Asia                       0.190340       2015  \n",
       "118  Southeastern Asia                       0.202430       2016  \n",
       "113  Southeastern Asia                       0.188816       2017  "
      ]
     },
     "metadata": {},
     "output_type": "display_data"
    },
    {
     "data": {
      "text/plain": [
       "'least:'"
      ]
     },
     "metadata": {},
     "output_type": "display_data"
    },
    {
     "data": {
      "text/html": [
       "<div>\n",
       "<style scoped>\n",
       "    .dataframe tbody tr th:only-of-type {\n",
       "        vertical-align: middle;\n",
       "    }\n",
       "\n",
       "    .dataframe tbody tr th {\n",
       "        vertical-align: top;\n",
       "    }\n",
       "\n",
       "    .dataframe thead th {\n",
       "        text-align: right;\n",
       "    }\n",
       "</style>\n",
       "<table border=\"1\" class=\"dataframe\">\n",
       "  <thead>\n",
       "    <tr style=\"text-align: right;\">\n",
       "      <th></th>\n",
       "      <th>Country</th>\n",
       "      <th>Dystopia Residual</th>\n",
       "      <th>Economy (GDP per Capita)</th>\n",
       "      <th>Family</th>\n",
       "      <th>Freedom</th>\n",
       "      <th>Generosity</th>\n",
       "      <th>Happiness Rank</th>\n",
       "      <th>Happiness Score</th>\n",
       "      <th>Health (Life Expectancy)</th>\n",
       "      <th>Region</th>\n",
       "      <th>Trust (Government Corruption)</th>\n",
       "      <th>data_year</th>\n",
       "    </tr>\n",
       "  </thead>\n",
       "  <tbody>\n",
       "    <tr>\n",
       "      <th>101</th>\n",
       "      <td>Greece</td>\n",
       "      <td>1.801010</td>\n",
       "      <td>1.154060</td>\n",
       "      <td>0.929330</td>\n",
       "      <td>0.076990</td>\n",
       "      <td>0.0</td>\n",
       "      <td>102</td>\n",
       "      <td>4.857</td>\n",
       "      <td>0.882130</td>\n",
       "      <td>Western Europe</td>\n",
       "      <td>0.01397</td>\n",
       "      <td>2015</td>\n",
       "    </tr>\n",
       "    <tr>\n",
       "      <th>86</th>\n",
       "      <td>Greece</td>\n",
       "      <td>1.749222</td>\n",
       "      <td>1.289487</td>\n",
       "      <td>1.239415</td>\n",
       "      <td>0.095731</td>\n",
       "      <td>0.0</td>\n",
       "      <td>87</td>\n",
       "      <td>5.227</td>\n",
       "      <td>0.810199</td>\n",
       "      <td>Western Europe</td>\n",
       "      <td>0.04329</td>\n",
       "      <td>2017</td>\n",
       "    </tr>\n",
       "    <tr>\n",
       "      <th>98</th>\n",
       "      <td>Greece</td>\n",
       "      <td>2.129440</td>\n",
       "      <td>1.248860</td>\n",
       "      <td>0.754730</td>\n",
       "      <td>0.058220</td>\n",
       "      <td>0.0</td>\n",
       "      <td>99</td>\n",
       "      <td>5.033</td>\n",
       "      <td>0.800290</td>\n",
       "      <td>Western Europe</td>\n",
       "      <td>0.04127</td>\n",
       "      <td>2016</td>\n",
       "    </tr>\n",
       "  </tbody>\n",
       "</table>\n",
       "</div>"
      ],
      "text/plain": [
       "    Country  Dystopia Residual  Economy (GDP per Capita)    Family   Freedom  \\\n",
       "101  Greece           1.801010                  1.154060  0.929330  0.076990   \n",
       "86   Greece           1.749222                  1.289487  1.239415  0.095731   \n",
       "98   Greece           2.129440                  1.248860  0.754730  0.058220   \n",
       "\n",
       "     Generosity  Happiness Rank  Happiness Score  Health (Life Expectancy)  \\\n",
       "101         0.0             102            4.857                  0.882130   \n",
       "86          0.0              87            5.227                  0.810199   \n",
       "98          0.0              99            5.033                  0.800290   \n",
       "\n",
       "             Region  Trust (Government Corruption)  data_year  \n",
       "101  Western Europe                        0.01397       2015  \n",
       "86   Western Europe                        0.04329       2017  \n",
       "98   Western Europe                        0.04127       2016  "
      ]
     },
     "metadata": {},
     "output_type": "display_data"
    }
   ],
   "source": [
    "display('most:', df.sort_values('Generosity').tail(3))  # Myanmar\n",
    "display('least:', df.sort_values('Generosity').head(3))  # Greece"
   ]
  },
  {
   "cell_type": "markdown",
   "metadata": {},
   "source": [
    "### Which country has seen the biggest drop in Happiness Score within 1 year? which the biggest increase?"
   ]
  },
  {
   "cell_type": "code",
   "execution_count": 17,
   "metadata": {
    "jupyter": {
     "source_hidden": true
    }
   },
   "outputs": [
    {
     "data": {
      "text/html": [
       "<div>\n",
       "<style scoped>\n",
       "    .dataframe tbody tr th:only-of-type {\n",
       "        vertical-align: middle;\n",
       "    }\n",
       "\n",
       "    .dataframe tbody tr th {\n",
       "        vertical-align: top;\n",
       "    }\n",
       "\n",
       "    .dataframe thead th {\n",
       "        text-align: right;\n",
       "    }\n",
       "</style>\n",
       "<table border=\"1\" class=\"dataframe\">\n",
       "  <thead>\n",
       "    <tr style=\"text-align: right;\">\n",
       "      <th>data_year</th>\n",
       "      <th>2015</th>\n",
       "      <th>2016</th>\n",
       "      <th>2017</th>\n",
       "    </tr>\n",
       "    <tr>\n",
       "      <th>Country</th>\n",
       "      <th></th>\n",
       "      <th></th>\n",
       "      <th></th>\n",
       "    </tr>\n",
       "  </thead>\n",
       "  <tbody>\n",
       "    <tr>\n",
       "      <th>Afghanistan</th>\n",
       "      <td>3.575</td>\n",
       "      <td>3.360</td>\n",
       "      <td>3.794</td>\n",
       "    </tr>\n",
       "    <tr>\n",
       "      <th>Albania</th>\n",
       "      <td>4.959</td>\n",
       "      <td>4.655</td>\n",
       "      <td>4.644</td>\n",
       "    </tr>\n",
       "    <tr>\n",
       "      <th>Algeria</th>\n",
       "      <td>5.605</td>\n",
       "      <td>6.355</td>\n",
       "      <td>5.872</td>\n",
       "    </tr>\n",
       "    <tr>\n",
       "      <th>Angola</th>\n",
       "      <td>4.033</td>\n",
       "      <td>3.866</td>\n",
       "      <td>3.795</td>\n",
       "    </tr>\n",
       "    <tr>\n",
       "      <th>Argentina</th>\n",
       "      <td>6.574</td>\n",
       "      <td>6.650</td>\n",
       "      <td>6.599</td>\n",
       "    </tr>\n",
       "  </tbody>\n",
       "</table>\n",
       "</div>"
      ],
      "text/plain": [
       "data_year     2015   2016   2017\n",
       "Country                         \n",
       "Afghanistan  3.575  3.360  3.794\n",
       "Albania      4.959  4.655  4.644\n",
       "Algeria      5.605  6.355  5.872\n",
       "Angola       4.033  3.866  3.795\n",
       "Argentina    6.574  6.650  6.599"
      ]
     },
     "metadata": {},
     "output_type": "display_data"
    },
    {
     "data": {
      "text/plain": [
       "Country      data_year\n",
       "Afghanistan  2016        -0.215\n",
       "             2017         0.434\n",
       "Albania      2016        -0.304\n",
       "             2017        -0.011\n",
       "Algeria      2016         0.750\n",
       "dtype: float64"
      ]
     },
     "metadata": {},
     "output_type": "display_data"
    },
    {
     "name": "stdout",
     "output_type": "stream",
     "text": [
      "\n",
      "================================================================================\n",
      "biggest drop: ('Liberia', 2016) :  -0.9490000000000007\n",
      "biggest increase: ('Algeria', 2016) :  0.75\n"
     ]
    }
   ],
   "source": [
    "pivotted = df.pivot_table(index='Country', columns='data_year', values='Happiness Score')\n",
    "display(pivotted.head())\n",
    "\n",
    "happiness_diffs = pivotted.diff(axis=1).stack()\n",
    "display(happiness_diffs.head())\n",
    "\n",
    "print('\\n'+'='*80)\n",
    "print('biggest drop:', happiness_diffs.idxmin(), ': ', happiness_diffs.min())\n",
    "print('biggest increase:', happiness_diffs.idxmax(), ': ', happiness_diffs.max())"
   ]
  },
  {
   "cell_type": "markdown",
   "metadata": {},
   "source": [
    "### Which Region, on average, has seen the biggest drop in Happiness Score within 1 year? which the biggest increase?"
   ]
  },
  {
   "cell_type": "code",
   "execution_count": 18,
   "metadata": {
    "jupyter": {
     "source_hidden": true
    }
   },
   "outputs": [
    {
     "data": {
      "text/html": [
       "<div>\n",
       "<style scoped>\n",
       "    .dataframe tbody tr th:only-of-type {\n",
       "        vertical-align: middle;\n",
       "    }\n",
       "\n",
       "    .dataframe tbody tr th {\n",
       "        vertical-align: top;\n",
       "    }\n",
       "\n",
       "    .dataframe thead th {\n",
       "        text-align: right;\n",
       "    }\n",
       "</style>\n",
       "<table border=\"1\" class=\"dataframe\">\n",
       "  <thead>\n",
       "    <tr style=\"text-align: right;\">\n",
       "      <th>data_year</th>\n",
       "      <th>2015</th>\n",
       "      <th>2016</th>\n",
       "      <th>2017</th>\n",
       "    </tr>\n",
       "    <tr>\n",
       "      <th>Region</th>\n",
       "      <th></th>\n",
       "      <th></th>\n",
       "      <th></th>\n",
       "    </tr>\n",
       "  </thead>\n",
       "  <tbody>\n",
       "    <tr>\n",
       "      <th>Australia and New Zealand</th>\n",
       "      <td>7.285000</td>\n",
       "      <td>7.323500</td>\n",
       "      <td>7.299000</td>\n",
       "    </tr>\n",
       "    <tr>\n",
       "      <th>Central and Eastern Europe</th>\n",
       "      <td>5.332931</td>\n",
       "      <td>5.370690</td>\n",
       "      <td>5.409931</td>\n",
       "    </tr>\n",
       "    <tr>\n",
       "      <th>Eastern Asia</th>\n",
       "      <td>5.626167</td>\n",
       "      <td>5.624167</td>\n",
       "      <td>5.646667</td>\n",
       "    </tr>\n",
       "    <tr>\n",
       "      <th>Latin America and Caribbean</th>\n",
       "      <td>6.138762</td>\n",
       "      <td>6.056095</td>\n",
       "      <td>5.957905</td>\n",
       "    </tr>\n",
       "    <tr>\n",
       "      <th>Middle East and Northern Africa</th>\n",
       "      <td>5.330789</td>\n",
       "      <td>5.386053</td>\n",
       "      <td>5.369684</td>\n",
       "    </tr>\n",
       "  </tbody>\n",
       "</table>\n",
       "</div>"
      ],
      "text/plain": [
       "data_year                            2015      2016      2017\n",
       "Region                                                       \n",
       "Australia and New Zealand        7.285000  7.323500  7.299000\n",
       "Central and Eastern Europe       5.332931  5.370690  5.409931\n",
       "Eastern Asia                     5.626167  5.624167  5.646667\n",
       "Latin America and Caribbean      6.138762  6.056095  5.957905\n",
       "Middle East and Northern Africa  5.330789  5.386053  5.369684"
      ]
     },
     "metadata": {},
     "output_type": "display_data"
    },
    {
     "data": {
      "text/plain": [
       "Region                      data_year\n",
       "Australia and New Zealand   2016         0.038500\n",
       "                            2017        -0.024500\n",
       "Central and Eastern Europe  2016         0.037759\n",
       "                            2017         0.039241\n",
       "Eastern Asia                2016        -0.002000\n",
       "dtype: float64"
      ]
     },
     "metadata": {},
     "output_type": "display_data"
    },
    {
     "name": "stdout",
     "output_type": "stream",
     "text": [
      "\n",
      "================================================================================\n",
      "biggest drop: ('North America', 2017) :  -0.09949999237060414\n",
      "biggest increase: ('Southern Asia', 2017) :  0.06514284706115614\n"
     ]
    }
   ],
   "source": [
    "pivotted = df.pivot_table(index='Region', columns='data_year', values='Happiness Score', aggfunc='mean')\n",
    "display(pivotted.head())\n",
    "\n",
    "happiness_diffs = pivotted.diff(axis=1).stack()\n",
    "display(happiness_diffs.head())\n",
    "\n",
    "print('\\n'+'='*80)\n",
    "print('biggest drop:', happiness_diffs.idxmin(), ': ', happiness_diffs.min())\n",
    "print('biggest increase:', happiness_diffs.idxmax(), ': ', happiness_diffs.max())"
   ]
  },
  {
   "cell_type": "markdown",
   "metadata": {},
   "source": [
    "### Which variables are most/least correlated with *Happiness Score*? make a scatterplot of them against *Happiness Score*.\n",
    "NOTE: remove *Happiness Rank* "
   ]
  },
  {
   "cell_type": "code",
   "execution_count": 19,
   "metadata": {},
   "outputs": [
    {
     "data": {
      "text/plain": [
       "<matplotlib.axes._subplots.AxesSubplot at 0x1ac629cdd48>"
      ]
     },
     "execution_count": 19,
     "metadata": {},
     "output_type": "execute_result"
    },
    {
     "data": {
      "image/png": "[encoded data removed]",
      "text/plain": [
       "<Figure size 1800x288 with 2 Axes>"
      ]
     },
     "metadata": {
      "needs_background": "light"
     },
     "output_type": "display_data"
    }
   ],
   "source": [
    "corr = df.corr()['Happiness Score'].drop(['Happiness Score','Happiness Rank'])\n",
    "\n",
    "fig, axes = plt.subplots(1,2)\n",
    "fig.set_size_inches(25,4)\n",
    "df.plot.scatter(corr.idxmax(), 'Happiness Score', grid=True, ax=axes[0])\n",
    "df.plot.scatter(corr.idxmin(), 'Happiness Score', grid=True, ax=axes[1])"
   ]
  },
  {
   "cell_type": "markdown",
   "metadata": {},
   "source": [
    "### Taking the data average, is it clear if we getting happier or sadder? Which was the saddest year?"
   ]
  },
  {
   "cell_type": "code",
   "execution_count": 20,
   "metadata": {},
   "outputs": [
    {
     "data": {
      "text/plain": [
       "<matplotlib.axes._subplots.AxesSubplot at 0x1ac62fa8248>"
      ]
     },
     "execution_count": 20,
     "metadata": {},
     "output_type": "execute_result"
    },
    {
     "data": {
      "image/png": "[encoded data removed]",
      "text/plain": [
       "<Figure size 432x288 with 1 Axes>"
      ]
     },
     "metadata": {
      "needs_background": "light"
     },
     "output_type": "display_data"
    }
   ],
   "source": [
    "yearly_mean = df.groupby('data_year')['Happiness Score'].mean()\n",
    "yearly_mean.plot()\n",
    "\n",
    "# not clear\n",
    "# 2016 saddest"
   ]
  },
  {
   "cell_type": "code",
   "execution_count": null,
   "metadata": {},
   "outputs": [],
   "source": []
  }
 ],
 "metadata": {
  "kernelspec": {
   "display_name": "DataScience",
   "language": "python",
   "name": "ds_env"
  },
  "language_info": {
   "codemirror_mode": {
    "name": "ipython",
    "version": 3
   },
   "file_extension": ".py",
   "mimetype": "text/x-python",
   "name": "python",
   "nbconvert_exporter": "python",
   "pygments_lexer": "ipython3",
   "version": "3.7.4"
  }
 },
 "nbformat": 4,
 "nbformat_minor": 4
}
