{
 "cells": [
  {
   "cell_type": "code",
   "execution_count": 3,
   "metadata": {},
   "outputs": [],
   "source": [
    "import pandas as pd\n",
    "import numpy as np"
   ]
  },
  {
   "cell_type": "markdown",
   "metadata": {},
   "source": [
    "### ***EXERCISE 8.1***\n",
    "Prove that main pandas operation ignore missing data by creating a copy of the following `s1` Series provided, where all NaN have been removed. Name the amended copy `s2`.\n",
    "Compare the `.mean()` results of the two Series.\n",
    "\n",
    "***HINT***: the same methods used for the dataframes above work for Series"
   ]
  },
  {
   "cell_type": "code",
   "execution_count": 7,
   "metadata": {},
   "outputs": [
    {
     "name": "stdout",
     "output_type": "stream",
     "text": [
      "0    1.0\n",
      "1    2.0\n",
      "2    NaN\n",
      "3    4.0\n",
      "dtype: float64 \n",
      "sums up to: 2.3333333333333335 \n",
      "\n",
      " 0    1.0\n",
      "1    2.0\n",
      "3    4.0\n",
      "dtype: float64 \n",
      "sums up to: 2.3333333333333335\n"
     ]
    }
   ],
   "source": [
    "s1 = pd.Series([1,2,np.nan,4])\n",
    "s2 = s1.dropna()\n",
    "\n",
    "print(s1, '\\nsums up to:', s1.mean(), '\\n\\n', s2, '\\nsums up to:', s2.mean())"
   ]
  },
  {
   "cell_type": "markdown",
   "metadata": {},
   "source": [
    "### ***EXERCISE 8.2***\n",
    "Get the sum total of all the values in the `df` provided, only including rows where either 'quality1' or quality2' is not missing."
   ]
  },
  {
   "cell_type": "code",
   "execution_count": 8,
   "metadata": {},
   "outputs": [
    {
     "data": {
      "text/plain": [
       "30"
      ]
     },
     "execution_count": 8,
     "metadata": {},
     "output_type": "execute_result"
    }
   ],
   "source": [
    "df = pd.DataFrame({\n",
    "    'quality1': [100,92,30,np.nan,np.nan,15], \n",
    "    'value':[7,4,8,1,9,2],\n",
    "    'quality2': [89,88,np.nan,np.nan,1,100], \n",
    "})\n",
    "\n",
    "df.dropna(how='all', subset=['quality1', 'quality2'])['value'].sum()"
   ]
  },
  {
   "cell_type": "code",
   "execution_count": null,
   "metadata": {},
   "outputs": [],
   "source": []
  }
 ],
 "metadata": {
  "kernelspec": {
   "display_name": "DataScience",
   "language": "python",
   "name": "ds_env"
  },
  "language_info": {
   "codemirror_mode": {
    "name": "ipython",
    "version": 3
   },
   "file_extension": ".py",
   "mimetype": "text/x-python",
   "name": "python",
   "nbconvert_exporter": "python",
   "pygments_lexer": "ipython3",
   "version": "3.7.4"
  }
 },
 "nbformat": 4,
 "nbformat_minor": 4
}
