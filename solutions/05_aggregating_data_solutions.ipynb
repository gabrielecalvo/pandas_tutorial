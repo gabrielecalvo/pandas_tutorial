{
 "cells": [
  {
   "cell_type": "code",
   "execution_count": 1,
   "metadata": {},
   "outputs": [
    {
     "data": {
      "text/plain": [
       "Index(['country', 'description', 'designation', 'points', 'price', 'province',\n",
       "       'region_1', 'region_2', 'taster_name', 'taster_twitter_handle', 'title',\n",
       "       'variety', 'winery'],\n",
       "      dtype='object')"
      ]
     },
     "execution_count": 1,
     "metadata": {},
     "output_type": "execute_result"
    }
   ],
   "source": [
    "import pandas as pd\n",
    "\n",
    "df = pd.read_csv('../data/wine-reviews/winemag-data-130k-v2.csv', index_col='wine_id')\n",
    "df.columns"
   ]
  },
  {
   "cell_type": "markdown",
   "metadata": {},
   "source": [
    "### ***EXERCISE 5.1***\n",
    "Find the taster that has reviewed most wine countries\n",
    "\n",
    "**HINT**: to count the unique values in a Series you can use the method `nunique`"
   ]
  },
  {
   "cell_type": "code",
   "execution_count": 2,
   "metadata": {},
   "outputs": [
    {
     "data": {
      "text/plain": [
       "taster_name\n",
       "Anna Lee C. Iijima    18\n",
       "Susan Kostrzewa       15\n",
       "Jeff Jenssen          14\n",
       "Michael Schachner     11\n",
       "Joe Czerwinski        11\n",
       "Name: country, dtype: int64"
      ]
     },
     "execution_count": 2,
     "metadata": {},
     "output_type": "execute_result"
    }
   ],
   "source": [
    "df.groupby('taster_name')['country'].nunique()\\\n",
    "    .sort_values(ascending=False).head()\n",
    "\n",
    "# sort_values and head are just to show the top 5\n",
    "# to just get the name of the top one use .idxmax()"
   ]
  },
  {
   "cell_type": "code",
   "execution_count": 3,
   "metadata": {},
   "outputs": [
    {
     "data": {
      "text/plain": [
       "taster_name\n",
       "Roger Voss           779647.0\n",
       "Virginie Boone       443235.0\n",
       "Kerin O’Keefe        414248.0\n",
       "Michael Schachner    377231.0\n",
       "Paul Gregutt         319559.0\n",
       "Name: price, dtype: float64"
      ]
     },
     "execution_count": 3,
     "metadata": {},
     "output_type": "execute_result"
    }
   ],
   "source": [
    "df.groupby('taster_name')['price'].sum()\\\n",
    "    .sort_values(ascending=False).head()"
   ]
  },
  {
   "cell_type": "markdown",
   "metadata": {},
   "source": [
    "### ***EXERCISE 5.2***\n",
    "Find the most controversial wine variety"
   ]
  },
  {
   "cell_type": "code",
   "execution_count": 4,
   "metadata": {},
   "outputs": [
    {
     "data": {
      "text/plain": [
       "variety\n",
       "Cabernet-Shiraz      7.071068\n",
       "Tempranillo-Syrah    6.363961\n",
       "Tinta del Toro       5.686241\n",
       "Trousseau Gris       5.196152\n",
       "Pinot Noir-Syrah     5.000000\n",
       "Name: points, dtype: float64"
      ]
     },
     "execution_count": 4,
     "metadata": {},
     "output_type": "execute_result"
    }
   ],
   "source": [
    "df.groupby(['variety'])['points'].std()\\\n",
    "    .sort_values(ascending=False).head()"
   ]
  },
  {
   "cell_type": "markdown",
   "metadata": {},
   "source": [
    "### ***EXERCISE 5.3***\n",
    "Show the maximum point given by each taster for each region2"
   ]
  },
  {
   "cell_type": "code",
   "execution_count": 5,
   "metadata": {},
   "outputs": [
    {
     "data": {
      "text/plain": [
       "taster_name         region_2         \n",
       "Anna Lee C. Iijima  Finger Lakes          94\n",
       "                    Long Island           94\n",
       "                    New York Other        91\n",
       "Christina Pickard   Napa-Sonoma           89\n",
       "                    Sonoma                89\n",
       "Jim Gordon          California Other      94\n",
       "                    Central Coast         94\n",
       "                    Central Valley        94\n",
       "                    Napa                  95\n",
       "                    Napa-Sonoma           94\n",
       "                    North Coast           97\n",
       "                    Sierra Foothills      96\n",
       "                    Sonoma                95\n",
       "Joe Czerwinski      California Other      91\n",
       "                    Central Coast         89\n",
       "                    Finger Lakes          90\n",
       "                    Long Island           88\n",
       "                    Napa                  88\n",
       "                    Napa-Sonoma           87\n",
       "                    New York Other        86\n",
       "                    Oregon Other          90\n",
       "                    Sonoma                91\n",
       "                    Southern Oregon       88\n",
       "                    Willamette Valley     92\n",
       "Lauren Buzzeo       Finger Lakes          86\n",
       "                    Long Island           86\n",
       "Matt Kettmann       California Other      95\n",
       "                    Central Coast         97\n",
       "                    Central Valley        89\n",
       "                    Napa                  93\n",
       "                                        ... \n",
       "Paul Gregutt        Central Valley        82\n",
       "                    Columbia Valley      100\n",
       "                    Napa                  90\n",
       "                    Napa-Sonoma           90\n",
       "                    North Coast           88\n",
       "                    Oregon Other          99\n",
       "                    Sierra Foothills      90\n",
       "                    Sonoma                92\n",
       "                    Southern Oregon       94\n",
       "                    Washington Other      97\n",
       "                    Willamette Valley     96\n",
       "Roger Voss          Central Coast         88\n",
       "                    Napa-Sonoma           91\n",
       "Sean P. Sullivan    Columbia Valley       97\n",
       "                    Oregon Other          96\n",
       "                    Southern Oregon       92\n",
       "                    Washington Other      95\n",
       "                    Willamette Valley     92\n",
       "Susan Kostrzewa     Finger Lakes          89\n",
       "                    Long Island           88\n",
       "                    New York Other        86\n",
       "Virginie Boone      California Other      94\n",
       "                    Central Coast         94\n",
       "                    Central Valley        94\n",
       "                    Napa                  99\n",
       "                    Napa-Sonoma           96\n",
       "                    North Coast           96\n",
       "                    Sierra Foothills      97\n",
       "                    Sonoma                98\n",
       "                    South Coast           90\n",
       "Name: points, Length: 72, dtype: int64"
      ]
     },
     "execution_count": 5,
     "metadata": {},
     "output_type": "execute_result"
    }
   ],
   "source": [
    "df.groupby(['taster_name', 'region_2'])['points'].max()"
   ]
  },
  {
   "cell_type": "markdown",
   "metadata": {},
   "source": [
    "### ***EXERCISE 5.4***\n",
    "Create the equivalent of the following using only `pivot_table` and `stack/unstack`:\n",
    "```python\n",
    "df.groupby(['country', 'variety'])['points'].mean()\n",
    "```\n",
    "\n",
    "**HINT** To get rid of `NaN` values, add `.dropna()` at the end"
   ]
  },
  {
   "cell_type": "code",
   "execution_count": 6,
   "metadata": {},
   "outputs": [
    {
     "data": {
      "text/plain": [
       "True"
      ]
     },
     "execution_count": 6,
     "metadata": {},
     "output_type": "execute_result"
    }
   ],
   "source": [
    "a = df.groupby(['country', 'variety'])['points'].mean()\n",
    "b = df.pivot_table(index='variety', columns='country', values='points', aggfunc='mean').unstack().dropna()\n",
    "a.equals(b)"
   ]
  }
 ],
 "metadata": {
  "kernelspec": {
   "display_name": "Python 3",
   "language": "python",
   "name": "python3"
  },
  "language_info": {
   "codemirror_mode": {
    "name": "ipython",
    "version": 3
   },
   "file_extension": ".py",
   "mimetype": "text/x-python",
   "name": "python",
   "nbconvert_exporter": "python",
   "pygments_lexer": "ipython3",
   "version": "3.7.3"
  }
 },
 "nbformat": 4,
 "nbformat_minor": 4
}
